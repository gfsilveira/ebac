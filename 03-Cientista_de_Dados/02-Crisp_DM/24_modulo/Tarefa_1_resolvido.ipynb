{
  "cells": [
    {
      "cell_type": "markdown",
      "metadata": {
        "id": "bnLtRqBz7Mm5"
      },
      "source": [
        "# Módulo 24, Tarefa 01"
      ]
    },
    {
      "cell_type": "markdown",
      "metadata": {
        "id": "J9oLqh-P7Mm8"
      },
      "source": [
        "## 1 Cite 5 diferenças entre o Random Forest e o AdaBoost"
      ]
    },
    {
      "cell_type": "markdown",
      "metadata": {
        "id": "IGO4qMzX7Mm9"
      },
      "source": [
        "||Caracteristica|Random Forest|AdaBoost|\n",
        "|-|-|-|-|\n",
        "|1|Tipo de árvores|Árvores completas com poda|Árvores com duas folhas e um de profundidade (Stump)|\n",
        "|2|Independência|Árvores independentes|Resultado de uma stump influência a próxima|\n",
        "|3|Pesos das previsões|Mesmo peso|Ponderado|\n",
        "|4|Variáveis|Número calculado de variáveis para as árvores|Cada stump é de uma variável|\n",
        "|5|Instâncias nas base learning|Randomica|Ponderada|"
      ]
    },
    {
      "cell_type": "markdown",
      "metadata": {
        "id": "aB_UmP-N7Mm9"
      },
      "source": [
        "---"
      ]
    },
    {
      "cell_type": "markdown",
      "metadata": {
        "id": "MZademFm7Mm-"
      },
      "source": [
        "## 2 Acesse o link <a href='https://scikit-learn.org/stable/modules/ensemble.html' >Scikit-learn – adaboost</a>, leia a explicação (traduza se for preciso) e crie um jupyter notebook contendo o exemplo do AdaBoost"
      ]
    },
    {
      "cell_type": "code",
      "execution_count": 1,
      "metadata": {
        "colab": {
          "base_uri": "https://localhost:8080/"
        },
        "id": "Lel5ascg7Mm_",
        "outputId": "4b21465f-a12a-4dc1-ff7f-527570f5a5e5"
      },
      "outputs": [
        {
          "data": {
            "text/plain": [
              "0.9533333333333334"
            ]
          },
          "execution_count": 1,
          "metadata": {},
          "output_type": "execute_result"
        }
      ],
      "source": [
        "from sklearn.model_selection import cross_val_score\n",
        "from sklearn.datasets import load_iris\n",
        "from sklearn.ensemble import AdaBoostClassifier\n",
        "\n",
        "X, y = load_iris(return_X_y=True)\n",
        "clf = AdaBoostClassifier(n_estimators=100, algorithm=\"SAMME\",)\n",
        "scores = cross_val_score(clf, X, y, cv=5)\n",
        "scores.mean()"
      ]
    },
    {
      "cell_type": "markdown",
      "metadata": {
        "id": "U4CxOVuP7MnG"
      },
      "source": [
        "---"
      ]
    },
    {
      "cell_type": "markdown",
      "metadata": {
        "id": "dUZaOl2w7MnI"
      },
      "source": [
        "## 3 Cite 5 Hyperparametros importantes no AdaBoost."
      ]
    },
    {
      "cell_type": "markdown",
      "metadata": {
        "id": "CXnS3esY7MnI"
      },
      "source": [
        "||Hiperparâmetro|Default|Descrição|\n",
        "|-|-|-|-|\n",
        "|1|estimator|Nenhum|O estimador de base a partir do qual o conjunto boosted é construído|\n",
        "|2|n_estimators|50|O número máximo de estimadores|\n",
        "|3|learning_rate|1.0|Peso aplicado a cada classificador|\n",
        "|4|algorithm|'SAME. R'|Algoritmo de impulsionamento deve suportar o cálculo de probabilidades de classe.|\n",
        "|5|random_state|None|Controla a semente aleatória dada em cada em cada boosted|"
      ]
    },
    {
      "cell_type": "markdown",
      "metadata": {
        "id": "i9vcUOOK7MnJ"
      },
      "source": [
        "---"
      ]
    },
    {
      "cell_type": "markdown",
      "metadata": {
        "id": "ZsA-xQVK7MnJ"
      },
      "source": [
        "## 4  Utilize o GridSearch para encontrar os melhores hyperparametros para o conjunto de dados do exemplo (load_iris)"
      ]
    },
    {
      "cell_type": "code",
      "execution_count": 2,
      "metadata": {
        "colab": {
          "base_uri": "https://localhost:8080/"
        },
        "id": "4Jv7vBiC7MnK",
        "outputId": "e0ccf8d1-fd28-4244-e037-e3a05501dfd9"
      },
      "outputs": [
        {
          "name": "stdout",
          "output_type": "stream",
          "text": [
            "Best: 0.948889 using {'learning_rate': 0.0001, 'n_estimators': 500}\n",
            "0.666667 (0.000000) with: {'learning_rate': 0.0001, 'n_estimators': 10}\n",
            "0.666667 (0.000000) with: {'learning_rate': 0.0001, 'n_estimators': 50}\n",
            "0.666667 (0.000000) with: {'learning_rate': 0.0001, 'n_estimators': 100}\n",
            "0.948889 (0.053564) with: {'learning_rate': 0.0001, 'n_estimators': 500}\n",
            "0.666667 (0.000000) with: {'learning_rate': 0.001, 'n_estimators': 10}\n",
            "0.948889 (0.053564) with: {'learning_rate': 0.001, 'n_estimators': 50}\n",
            "0.948889 (0.053564) with: {'learning_rate': 0.001, 'n_estimators': 100}\n",
            "0.922222 (0.048939) with: {'learning_rate': 0.001, 'n_estimators': 500}\n",
            "0.948889 (0.053564) with: {'learning_rate': 0.01, 'n_estimators': 10}\n",
            "0.922222 (0.048939) with: {'learning_rate': 0.01, 'n_estimators': 50}\n",
            "0.922222 (0.048939) with: {'learning_rate': 0.01, 'n_estimators': 100}\n",
            "0.926667 (0.049740) with: {'learning_rate': 0.01, 'n_estimators': 500}\n",
            "0.922222 (0.048939) with: {'learning_rate': 0.1, 'n_estimators': 10}\n",
            "0.922222 (0.048939) with: {'learning_rate': 0.1, 'n_estimators': 50}\n",
            "0.922222 (0.048939) with: {'learning_rate': 0.1, 'n_estimators': 100}\n",
            "0.917778 (0.044500) with: {'learning_rate': 0.1, 'n_estimators': 500}\n",
            "0.944444 (0.054659) with: {'learning_rate': 1.0, 'n_estimators': 10}\n",
            "0.946667 (0.055511) with: {'learning_rate': 1.0, 'n_estimators': 50}\n",
            "0.940000 (0.062893) with: {'learning_rate': 1.0, 'n_estimators': 100}\n",
            "0.940000 (0.062893) with: {'learning_rate': 1.0, 'n_estimators': 500}\n"
          ]
        }
      ],
      "source": [
        "# Importe de bibliotecas\n",
        "from sklearn.model_selection import RepeatedStratifiedKFold\n",
        "from sklearn.model_selection import GridSearchCV\n",
        "from sklearn.ensemble import AdaBoostClassifier\n",
        "\n",
        "# Definição do modelo com hiperparametros default\n",
        "model = AdaBoostClassifier()\n",
        "\n",
        "# Define as opições dos hiperparametros\n",
        "grid = dict()\n",
        "grid['n_estimators'] = [10, 50, 100, 500]\n",
        "grid['learning_rate'] = [0.0001, 0.001, 0.01, 0.1, 1.0]\n",
        "\n",
        "# Definir o procedimento de avaliação\n",
        "cv = RepeatedStratifiedKFold(n_splits=10, n_repeats=3, random_state=1)\n",
        "\n",
        "# Definir o procedimento de pesquisa de grade\n",
        "grid_search = GridSearchCV(estimator=model, param_grid=grid, n_jobs=-1, cv=cv, scoring='accuracy')\n",
        "\n",
        "# Executar a pesquisa de grade\n",
        "grid_result = grid_search.fit(X, y)\n",
        "\n",
        "# Mostrar a melhor pontuação e configuração\n",
        "print(f\"Best: {grid_result.best_score_} using {grid_result.best_params_}\")\n",
        "\n",
        "# Mostrar todas as pontuações que foram avaliadas\n",
        "means = grid_result.cv_results_['mean_test_score']\n",
        "stds = grid_result.cv_results_['std_test_score']\n",
        "params = grid_result.cv_results_['params']\n",
        "for mean, stdev, param in zip(means, stds, params):\n",
        "    print(f\"{mean} ({stdev}) with: {param}\")"
      ]
    },
    {
      "cell_type": "markdown",
      "metadata": {
        "id": "WLXkVLxg7MnL"
      },
      "source": [
        "---"
      ]
    }
  ],
  "metadata": {
    "colab": {
      "provenance": [],
      "toc_visible": true
    },
    "kernelspec": {
      "display_name": "ebac_env",
      "language": "python",
      "name": "python3"
    },
    "language_info": {
      "codemirror_mode": {
        "name": "ipython",
        "version": 3
      },
      "file_extension": ".py",
      "mimetype": "text/x-python",
      "name": "python",
      "nbconvert_exporter": "python",
      "pygments_lexer": "ipython3",
      "version": "3.10.11"
    }
  },
  "nbformat": 4,
  "nbformat_minor": 0
}
