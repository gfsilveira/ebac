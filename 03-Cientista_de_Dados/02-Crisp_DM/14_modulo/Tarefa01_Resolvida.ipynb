{
  "cells": [
    {
      "cell_type": "markdown",
      "metadata": {
        "id": "5087LeuS0F5m"
      },
      "source": [
        "# EBAC\n",
        "# Tarefa 1 - Módulo 14"
      ]
    },
    {
      "cell_type": "markdown",
      "metadata": {
        "id": "nfv8-RVU0NXZ"
      },
      "source": [
        "## 1 Crie um jupyter notebook com os imports necessários e um código para gerar os gráficos referentes a base de dados de março, abril, maio, junho e dezembro (numa célula só ou em várias)"
      ]
    },
    {
      "cell_type": "code",
      "execution_count": 1,
      "metadata": {
        "id": "qMsVQKepz_hX"
      },
      "outputs": [
        {
          "ename": "ModuleNotFoundError",
          "evalue": "No module named 'pandas'",
          "output_type": "error",
          "traceback": [
            "\u001b[1;31m---------------------------------------------------------------------------\u001b[0m",
            "\u001b[1;31mModuleNotFoundError\u001b[0m                       Traceback (most recent call last)",
            "Cell \u001b[1;32mIn[1], line 3\u001b[0m\n\u001b[0;32m      1\u001b[0m \u001b[38;5;66;03m# Importando bibliotecas\u001b[39;00m\n\u001b[0;32m      2\u001b[0m \u001b[38;5;28;01mimport\u001b[39;00m \u001b[38;5;21;01mos\u001b[39;00m                         \u001b[38;5;66;03m# Acesso as informações do SO\u001b[39;00m\n\u001b[1;32m----> 3\u001b[0m \u001b[38;5;28;01mimport\u001b[39;00m \u001b[38;5;21;01mpandas\u001b[39;00m \u001b[38;5;28;01mas\u001b[39;00m \u001b[38;5;21;01mpd\u001b[39;00m               \u001b[38;5;66;03m# Gerenciamento e análise dos bancos de dados\u001b[39;00m\n\u001b[0;32m      4\u001b[0m \u001b[38;5;28;01mimport\u001b[39;00m \u001b[38;5;21;01mmatplotlib\u001b[39;00m\u001b[38;5;21;01m.\u001b[39;00m\u001b[38;5;21;01mpyplot\u001b[39;00m \u001b[38;5;28;01mas\u001b[39;00m \u001b[38;5;21;01mplt\u001b[39;00m   \u001b[38;5;66;03m# Plotagem e salvamento dos gráfico\u001b[39;00m\n\u001b[0;32m      5\u001b[0m plt\u001b[38;5;241m.\u001b[39mioff()                        \u001b[38;5;66;03m# Suprime a demonstração dos gráficos\u001b[39;00m\n",
            "\u001b[1;31mModuleNotFoundError\u001b[0m: No module named 'pandas'"
          ]
        }
      ],
      "source": [
        "# Importando bibliotecas\n",
        "import os                         # Acesso as informações do SO\n",
        "import pandas as pd               # Gerenciamento e análise dos bancos de dados\n",
        "import matplotlib.pyplot as plt   # Plotagem e salvamento dos gráfico\n",
        "plt.ioff()                        # Suprime a demonstração dos gráficos\n",
        "from datetime import date         # Trabalha com datas\n",
        "\n",
        "\n",
        "def __grafico(\n",
        "    fig_name: str,\n",
        "    df: pd.DataFrame,\n",
        "    values: str|list,\n",
        "    index: str|list,\n",
        "    aggfunc: str,\n",
        "    tipo: str,\n",
        "    title: str,\n",
        "    xlabel: str,\n",
        "    ylabel: str,\n",
        "  ) -> None:\n",
        "  '''\n",
        "    Salvamento dos gráficos.\n",
        "    :param fig_name (str): Nome do gráfico com caminho de diretórios.\n",
        "    :param df (pd.DataFrame): Conjunto de dados para o plot.\n",
        "    :param values (str|list): Valores (colunas) agrupados pelo pivot_table.\n",
        "    :param index (str|list): Index (indice) agrupados pelo pivot_table.\n",
        "    :param aggfunc (str): Função de agregação do pivot_table.\n",
        "    :param tipo (str): Gráfico pivot_table sem função adicional `nada`,\n",
        "                        `unstack` ou `sort_values`.\n",
        "    :param title (str): Título do gráfico.\n",
        "    :param xlabel (str): Leganda do eixo x.\n",
        "    :param ylabel (str): Leganda do eixo y.\n",
        "  '''\n",
        "  match tipo:\n",
        "    case \"nada\":\n",
        "      grahic_1 = pd.pivot_table(\n",
        "                              df,\n",
        "                              values=values,\n",
        "                              index=index,\n",
        "                              aggfunc=aggfunc\n",
        "                            )\n",
        "    case \"unstack\":\n",
        "      grahic_1 = pd.pivot_table(\n",
        "                              df,\n",
        "                              values=values,\n",
        "                              index=index,\n",
        "                              aggfunc=aggfunc\n",
        "                            ).unstack()\n",
        "    case \"sort_values\":\n",
        "      grahic_1 = pd.pivot_table(\n",
        "                              df,\n",
        "                              values=values,\n",
        "                              index=index,\n",
        "                              aggfunc=aggfunc\n",
        "                            ).sort_values(values)\n",
        "    case _:\n",
        "      print(\"Opção de gráfico inválida inválida\")\n",
        "      return None\n",
        "\n",
        "  figsize = (18,5)\n",
        "  grahic_1.plot(figsize=figsize)\n",
        "  plt.title(title)\n",
        "  plt.xlabel(xlabel)\n",
        "  plt.ylabel(ylabel)\n",
        "  plt.savefig(fig_name, bbox_inches='tight')\n",
        "  plt.close()\n",
        "\n",
        "  return None\n",
        "\n",
        "\n",
        "def gera_graficos(mes: int = 0) -> None:\n",
        "  '''\n",
        "  Função geradora de gráficos mensais para os reltórios solicitados\n",
        "  :param mes (int): Número correspondente do mês de interesse. Caso não seja\n",
        "                    passado nenhum valor, os gráficos serão gerados para o mês\n",
        "                    anterior ao atual.\n",
        "  '''\n",
        "  # Meses do ano.\n",
        "  meses = [\"Janeiro\",\n",
        "          \"Fevereiro\",\n",
        "          \"Março\",\n",
        "          \"Abril\",\n",
        "          \"Maio\",\n",
        "          \"Junho\",\n",
        "          \"Julho\",\n",
        "          \"Aagosto\",\n",
        "          \"Setembro\",\n",
        "          \"Outubro\",\n",
        "          \"Novembro\",\n",
        "          \"Dezembro\"]\n",
        "  try:\n",
        "    # Selecionando o caminho dos dados\n",
        "    if mes == 0:\n",
        "      mes = date.today().month - 1\n",
        "\n",
        "    mes = meses[mes-1]\n",
        "    link = \"https://raw.githubusercontent.com/gfsilveira/ebac/main/\"\n",
        "    link += \"03-Cientista%20de%20Dados/02-Crisp-DM/M%C3%B3dulo_14/\"\n",
        "    link += f\"input/SINASC_RO_2019_{mes[:3].upper()}.csv\"\n",
        "\n",
        "    # Lendo arquivo com os dados\n",
        "    df = pd.read_csv(link)\n",
        "  except:\n",
        "    print(f\"Dados não encontraddos para mes {mes}\")\n",
        "    return None\n",
        "\n",
        "  try:\n",
        "    # Determinando local de persistência\n",
        "    fig_dir = f\"./output/figs/{df.DTNASC.max()[:-3]}/\"\n",
        "    os.makedirs(fig_dir, exist_ok=True)\n",
        "  except:\n",
        "    print(\"Local para persistência dos gráficos não encontrado\")\n",
        "    return None\n",
        "\n",
        "  try:\n",
        "    # Plotando o primeiro gráfico\n",
        "    dados = f\" (dados de {mes})\"\n",
        "    pr_gf = {\n",
        "                  \"fig_name\": fig_dir+\"01-IDADE_MAES.png\",\n",
        "                  \"df\": df,\n",
        "                  \"values\": \"IDADEMAE\",\n",
        "                  \"index\": \"DTNASC\",\n",
        "                  \"aggfunc\": \"mean\",\n",
        "                  \"tipo\": \"nada\",\n",
        "                  \"title\": f\"Média da idade das Mães{dados}\",\n",
        "                  \"xlabel\": \"Data do Parto\",\n",
        "                  \"ylabel\": \"Média da Idade das Mães no Parto\",\n",
        "\n",
        "    }\n",
        "    __grafico(**pr_gf)\n",
        "  except:\n",
        "    print(\"Gráfico de média das idades das mães não foi obtido\")\n",
        "    return None\n",
        "\n",
        "  try:\n",
        "    # Plotando o segundo gráfico\n",
        "    pr_gf[\"aggfunc\"] = \"count\"\n",
        "    pr_gf[\"title\"] = f\"Número de nascimentos{dados}\"\n",
        "    pr_gf[\"ylabel\"] = \"Número de nascidos\"\n",
        "    pr_gf[\"fig_name\"] = fig_dir+\"02-NUM_NASC.png\"\n",
        "\n",
        "    __grafico(**pr_gf)\n",
        "  except:\n",
        "    print(\"Gráfico de número de nascidos não foi obtido\")\n",
        "    return None\n",
        "\n",
        "  try:\n",
        "    # Plotando o terceiro gráfico\n",
        "    pr_gf[\"index\"] = [\"DTNASC\",\"SEXO\"]\n",
        "    pr_gf[\"tipo\"] = \"unstack\"\n",
        "    pr_gf[\"title\"] = f\"Número de nascimentos por sexo{dados}\"\n",
        "    pr_gf[\"fig_name\"] = fig_dir+\"03-NUM_NASC_SEXO.png\"\n",
        "\n",
        "    __grafico(**pr_gf)\n",
        "  except:\n",
        "    print(\"Gráfico de número de nascidos por sexo não foi obtido\")\n",
        "    return None\n",
        "\n",
        "  try:\n",
        "    # Plotando o quarto gráfico\n",
        "    pr_gf[\"values\"] = \"PESO\"\n",
        "    pr_gf[\"ylabel\"] = \"Peso médio\"\n",
        "    pr_gf[\"title\"] = f\"Média de peso de bebês por sexo{dados}\"\n",
        "    pr_gf[\"aggfunc\"] = \"mean\"\n",
        "    pr_gf[\"fig_name\"] = fig_dir+\"04-MEDIA_PESO_SEXO.png\"\n",
        "\n",
        "    __grafico(**pr_gf)\n",
        "  except:\n",
        "    print(\"Gráfico de média de peso por sexo não foi obtido\")\n",
        "    return None\n",
        "\n",
        "  try:\n",
        "    # Plotando o quinto gráfico\n",
        "    pr_gf[\"index\"] = \"ESCMAE\"\n",
        "    pr_gf[\"aggfunc\"] = \"median\"\n",
        "    pr_gf[\"tipo\"] = \"sort_values\"\n",
        "    pr_gf[\"title\"] = f\"Média de Peso dos bebês pela escolaridade da Mãe{dados}\"\n",
        "    pr_gf[\"xlabel\"] = \"Escolaridade da Mãe\"\n",
        "    pr_gf[\"fig_name\"] = fig_dir+\"05-MEDIA_PESO_ESCMAE.png\"\n",
        "\n",
        "    __grafico(**pr_gf)\n",
        "  except:\n",
        "    print(\"Gráfico de peso por escolaridade da mãe não foi obtido\")\n",
        "    return None\n",
        "\n",
        "  try:\n",
        "    # Plotando o sexto gráfico\n",
        "    pr_gf[\"values\"] = \"APGAR1\"\n",
        "    pr_gf[\"index\"] = \"GESTACAO\"\n",
        "    pr_gf[\"aggfunc\"] = \"mean\"\n",
        "    pr_gf[\"title\"] = f\"Média do APGAR1 por semanas de gestação{dados}\"\n",
        "    pr_gf[\"xlabel\"] = \"Semanas de Gestação\"\n",
        "    pr_gf[\"ylabel\"] = \"APGAR1\"\n",
        "    pr_gf[\"fig_name\"] = fig_dir+\"06-APGAR1.png\"\n",
        "\n",
        "    __grafico(**pr_gf)\n",
        "  except:\n",
        "    print(\"Gráfico de APGAR1 por gestação não foi obtido\")\n",
        "    return None\n",
        "\n",
        "  try:\n",
        "    # Plotando o sétimo gráfico\n",
        "    pr_gf[\"values\"] = \"APGAR5\"\n",
        "    pr_gf[\"title\"] = f\"Média do APGAR5 por semanas de gestação{dados}\"\n",
        "    pr_gf[\"ylabel\"] = \"APGAR5\"\n",
        "    pr_gf[\"fig_name\"] = fig_dir+\"07-APGAR5.png\"\n",
        "\n",
        "    __grafico(**pr_gf)\n",
        "  except:\n",
        "    print(\"Gráfico de APGAR5 por gestação não foi obtido\")\n",
        "    return None"
      ]
    },
    {
      "cell_type": "code",
      "execution_count": 2,
      "metadata": {
        "id": "UvW0ePbt4UmX"
      },
      "outputs": [],
      "source": [
        "meses = [3,4,5,6,12]\n",
        "for mes in meses:\n",
        "  gera_graficos(mes=mes)"
      ]
    },
    {
      "cell_type": "markdown",
      "metadata": {
        "id": "o3NEcSV20QLT"
      },
      "source": [
        "\n",
        "\n",
        "---\n",
        "\n"
      ]
    },
    {
      "cell_type": "markdown",
      "metadata": {
        "id": "7Ndr5q3v0RSN"
      },
      "source": [
        "## 2 Como que você poderia fazer para deixar isso mais automatizado? Descreva na última célula do jupyter notebook o que ajudaria na hora de gerar novos gráficos pros meses/anos seguintes"
      ]
    },
    {
      "cell_type": "markdown",
      "metadata": {
        "id": "PpoMsS0eSQMz"
      },
      "source": [
        "R.: Uma forma de otimizar ainda mais seria que o módulo verificasse o mês atual, e retornasse os gráficos do mês anterior. Assim, o usuário teria que apenas chamar o módulo nos primeiros dias de cada mês, que o relatório seria gerado para os meses anteriores.<br><br>\n",
        "Além disso, seria possível gerar um programa que fizesse isso, sem a interação do usuário, atravez de uma sistema de ação automatizada.<br><br>\n",
        "Uma outra melhoria seria, ao invez de simplesmente salvar as imagens, já gerar o relatório ou dashboard pelo próprio Python."
      ]
    },
    {
      "cell_type": "code",
      "execution_count": 3,
      "metadata": {
        "id": "pBY3DduC0WlS"
      },
      "outputs": [],
      "source": [
        "gera_graficos()"
      ]
    }
  ],
  "metadata": {
    "colab": {
      "provenance": []
    },
    "kernelspec": {
      "display_name": "Python 3",
      "name": "python3"
    },
    "language_info": {
      "codemirror_mode": {
        "name": "ipython",
        "version": 3
      },
      "file_extension": ".py",
      "mimetype": "text/x-python",
      "name": "python",
      "nbconvert_exporter": "python",
      "pygments_lexer": "ipython3",
      "version": "3.10.11"
    }
  },
  "nbformat": 4,
  "nbformat_minor": 0
}
