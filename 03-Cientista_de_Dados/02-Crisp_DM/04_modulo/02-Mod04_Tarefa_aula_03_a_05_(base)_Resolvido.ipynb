{
  "cells": [
    {
      "cell_type": "markdown",
      "metadata": {
        "id": "am6OFcURs9Db"
      },
      "source": [
        "# Tarefa 03\n",
        "\n",
        "- Leia os enunciados com atenção\n",
        "- Saiba que pode haver mais de uma resposta correta\n",
        "- Insira novas células de código sempre que achar necessário\n",
        "- Em caso de dúvidas, procure os Tutores\n",
        "- Divirta-se :)"
      ]
    },
    {
      "cell_type": "code",
      "execution_count": 1,
      "metadata": {
        "id": "GcblGCiGs9De"
      },
      "outputs": [],
      "source": [
        "import pandas as pd\n",
        "import requests"
      ]
    },
    {
      "cell_type": "markdown",
      "metadata": {
        "id": "yxw1Ih3rs9Df"
      },
      "source": [
        "####  1) Lendo de APIs\n",
        "Vimos em aula como carregar dados públicos do governo através de um API (*Application Programming Interface*). No exemplo de aula, baixamos os dados de pedidos de verificação de limites (PVL) realizados por estados, e selecionamos apenas aqueles referentes ao estado de São Paulo.\n",
        "\n",
        "1. Repita os mesmos passos feitos em aula, mas selecione os PVLs realizados por municípios no estado do Rio de Janeiro.\n",
        "2. Quais são os três *status* das solicitações mais frequentes na base? Quais são suas frequências?\n",
        "3. Construa uma nova variável que contenha o ano do **status**. Observe que ```data_status``` vem como tipo *object* no **DataFrame**. Dica: você pode usar o método ```.str``` para transformar o tipo da variável em string, em seguida um método como [**slice()**](https://pandas.pydata.org/docs/reference/api/pandas.Series.str.slice.html) ou [**split()**](https://pandas.pydata.org/pandas-docs/stable/reference/api/pandas.Series.str.split.html).\n",
        "4. Indique a frequência de cada ano do campo construído no item (3)."
      ]
    },
    {
      "cell_type": "markdown",
      "source": [
        "### 1.1 Repita os mesmos passos feitos em aula, mas selecione os PVLs realizados por municípios no estado do Rio de Janeiro."
      ],
      "metadata": {
        "id": "6KvD-2eBtBSY"
      }
    },
    {
      "cell_type": "code",
      "execution_count": 15,
      "metadata": {
        "colab": {
          "base_uri": "https://localhost:8080/"
        },
        "id": "EQN6xQwqs9Dg",
        "outputId": "dcbff647-a1ef-4d63-f18b-3f78fc25311d"
      },
      "outputs": [
        {
          "output_type": "stream",
          "name": "stdout",
          "text": [
            "HTTPSConnectionPool(host='apidatalake.tesouro.gov.br', port=443): Max retries exceeded with url: /ords/sadipem/tt/pvl?uf=RJ&tipo_interessado=Estado (Caused by ConnectTimeoutError(<urllib3.connection.HTTPSConnection object at 0x7a65e68fc580>, 'Connection to apidatalake.tesouro.gov.br timed out. (connect timeout=None)'))\n"
          ]
        }
      ],
      "source": [
        "# 1) Seu código aqui\n",
        "# Busca as informações dos PVLs do Rio de Janeiro\n",
        "url = \"https://apidatalake.tesouro.gov.br/ords/sadipem/tt/pvl?uf=RJ&tipo_interessado=Estado\"\n",
        "try:\n",
        "  requisicao = requests.get(url)\n",
        "  print(requisicao.status_code)\n",
        "except Exception as error:\n",
        "  print(error)"
      ]
    },
    {
      "cell_type": "code",
      "source": [
        "# O acesso direto aos dados do Mistério não estão disponíveis, por isso foi feito upload manual dos dados no GitHub, permitindo assim acesso como solicitado\n",
        "url = \"https://raw.githubusercontent.com/gfsilveira/ebac/main/03-Cientista%20de%20Dados/02-Crisp-DM/M%C3%B3dulo_05/data/data.json\"\n",
        "try:\n",
        "  requisicao = requests.get(url)\n",
        "  print(requisicao.status_code)\n",
        "except Exception as error:\n",
        "  print(error)"
      ],
      "metadata": {
        "colab": {
          "base_uri": "https://localhost:8080/"
        },
        "id": "Ul4Y2OQ2zN82",
        "outputId": "fbd02baf-8e6a-4491-c537-2fca2f9e7108"
      },
      "execution_count": 16,
      "outputs": [
        {
          "output_type": "stream",
          "name": "stdout",
          "text": [
            "200\n"
          ]
        }
      ]
    },
    {
      "cell_type": "code",
      "source": [
        "df = pd.DataFrame(requisicao.json()['items'])\n",
        "df.head()"
      ],
      "metadata": {
        "colab": {
          "base_uri": "https://localhost:8080/",
          "height": 469
        },
        "id": "dGP--24NylIa",
        "outputId": "366339e1-47ef-49f9-9075-ec63177f25a6"
      },
      "execution_count": 13,
      "outputs": [
        {
          "output_type": "execute_result",
          "data": {
            "text/plain": [
              "   id_pleito tipo_interessado     interessado  cod_ibge  uf num_pvl  \\\n",
              "0      13624           Estado  Rio de Janeiro        33  RJ    None   \n",
              "1      13629           Estado  Rio de Janeiro        33  RJ    None   \n",
              "2       9898           Estado  Rio de Janeiro        33  RJ    None   \n",
              "3      13483           Estado  Rio de Janeiro        33  RJ    None   \n",
              "4       5923           Estado  Rio de Janeiro        33  RJ    None   \n",
              "\n",
              "                                              status          num_processo  \\\n",
              "0                                           Deferido  19405.000039/2002-72   \n",
              "1                                           Deferido  19405.000040/2002-05   \n",
              "2                                           Deferido  17944.001076/2010-85   \n",
              "3                                           Deferido  19405.000010/2004-52   \n",
              "4  Encaminhado à PGFN com manifestação técnica fa...  17944.000234/2012-41   \n",
              "\n",
              "         data_protocolo                                      tipo_operacao  \\\n",
              "0  2002-06-20T03:00:00Z                        Operação contratual interna   \n",
              "1  2002-06-20T03:00:00Z                        Operação contratual interna   \n",
              "2  2011-05-25T03:00:00Z                        Operação contratual interna   \n",
              "3  2006-02-15T02:00:00Z                        Operação contratual interna   \n",
              "4  2012-04-16T03:00:00Z  Operação contratual externa (com garantia da U...   \n",
              "\n",
              "                                       finalidade  \\\n",
              "0                                  Infraestrutura   \n",
              "1  Aquisição de máquinas, equipamentos e veículos   \n",
              "2                                           Saúde   \n",
              "3                         Renegociação de dívidas   \n",
              "4                                  Infraestrutura   \n",
              "\n",
              "                            tipo_credor  \\\n",
              "0       Instituição Financeira Nacional   \n",
              "1       Instituição Financeira Nacional   \n",
              "2       Instituição Financeira Nacional   \n",
              "3       Instituição Financeira Nacional   \n",
              "4  Instituição Financeira Internacional   \n",
              "\n",
              "                                              credor          moeda  \\\n",
              "0  Banco Nacional de Desenvolvimento Econômico e ...           Real   \n",
              "1  Banco Nacional de Desenvolvimento Econômico e ...           Real   \n",
              "2                                Banco do Brasil S/A           Real   \n",
              "3  Banco Nacional de Desenvolvimento Econômico e ...           Real   \n",
              "4                       Corporação Andina de Fomento  Dólar dos EUA   \n",
              "\n",
              "          valor  pvl_assoc_divida  pvl_contradado_credor data_status  \n",
              "0  6.748240e+07                 1                      0  27/06/2002  \n",
              "1  4.352755e+07                 1                      0  27/06/2002  \n",
              "2  1.328000e+08                 0                      0  07/06/2011  \n",
              "3  8.475263e+08                 1                      0  01/03/2006  \n",
              "4  2.000000e+08                 1                      0  04/10/2012  "
            ],
            "text/html": [
              "\n",
              "  <div id=\"df-cf2ecb16-7c03-4178-be66-843210f368f8\" class=\"colab-df-container\">\n",
              "    <div>\n",
              "<style scoped>\n",
              "    .dataframe tbody tr th:only-of-type {\n",
              "        vertical-align: middle;\n",
              "    }\n",
              "\n",
              "    .dataframe tbody tr th {\n",
              "        vertical-align: top;\n",
              "    }\n",
              "\n",
              "    .dataframe thead th {\n",
              "        text-align: right;\n",
              "    }\n",
              "</style>\n",
              "<table border=\"1\" class=\"dataframe\">\n",
              "  <thead>\n",
              "    <tr style=\"text-align: right;\">\n",
              "      <th></th>\n",
              "      <th>id_pleito</th>\n",
              "      <th>tipo_interessado</th>\n",
              "      <th>interessado</th>\n",
              "      <th>cod_ibge</th>\n",
              "      <th>uf</th>\n",
              "      <th>num_pvl</th>\n",
              "      <th>status</th>\n",
              "      <th>num_processo</th>\n",
              "      <th>data_protocolo</th>\n",
              "      <th>tipo_operacao</th>\n",
              "      <th>finalidade</th>\n",
              "      <th>tipo_credor</th>\n",
              "      <th>credor</th>\n",
              "      <th>moeda</th>\n",
              "      <th>valor</th>\n",
              "      <th>pvl_assoc_divida</th>\n",
              "      <th>pvl_contradado_credor</th>\n",
              "      <th>data_status</th>\n",
              "    </tr>\n",
              "  </thead>\n",
              "  <tbody>\n",
              "    <tr>\n",
              "      <th>0</th>\n",
              "      <td>13624</td>\n",
              "      <td>Estado</td>\n",
              "      <td>Rio de Janeiro</td>\n",
              "      <td>33</td>\n",
              "      <td>RJ</td>\n",
              "      <td>None</td>\n",
              "      <td>Deferido</td>\n",
              "      <td>19405.000039/2002-72</td>\n",
              "      <td>2002-06-20T03:00:00Z</td>\n",
              "      <td>Operação contratual interna</td>\n",
              "      <td>Infraestrutura</td>\n",
              "      <td>Instituição Financeira Nacional</td>\n",
              "      <td>Banco Nacional de Desenvolvimento Econômico e ...</td>\n",
              "      <td>Real</td>\n",
              "      <td>6.748240e+07</td>\n",
              "      <td>1</td>\n",
              "      <td>0</td>\n",
              "      <td>27/06/2002</td>\n",
              "    </tr>\n",
              "    <tr>\n",
              "      <th>1</th>\n",
              "      <td>13629</td>\n",
              "      <td>Estado</td>\n",
              "      <td>Rio de Janeiro</td>\n",
              "      <td>33</td>\n",
              "      <td>RJ</td>\n",
              "      <td>None</td>\n",
              "      <td>Deferido</td>\n",
              "      <td>19405.000040/2002-05</td>\n",
              "      <td>2002-06-20T03:00:00Z</td>\n",
              "      <td>Operação contratual interna</td>\n",
              "      <td>Aquisição de máquinas, equipamentos e veículos</td>\n",
              "      <td>Instituição Financeira Nacional</td>\n",
              "      <td>Banco Nacional de Desenvolvimento Econômico e ...</td>\n",
              "      <td>Real</td>\n",
              "      <td>4.352755e+07</td>\n",
              "      <td>1</td>\n",
              "      <td>0</td>\n",
              "      <td>27/06/2002</td>\n",
              "    </tr>\n",
              "    <tr>\n",
              "      <th>2</th>\n",
              "      <td>9898</td>\n",
              "      <td>Estado</td>\n",
              "      <td>Rio de Janeiro</td>\n",
              "      <td>33</td>\n",
              "      <td>RJ</td>\n",
              "      <td>None</td>\n",
              "      <td>Deferido</td>\n",
              "      <td>17944.001076/2010-85</td>\n",
              "      <td>2011-05-25T03:00:00Z</td>\n",
              "      <td>Operação contratual interna</td>\n",
              "      <td>Saúde</td>\n",
              "      <td>Instituição Financeira Nacional</td>\n",
              "      <td>Banco do Brasil S/A</td>\n",
              "      <td>Real</td>\n",
              "      <td>1.328000e+08</td>\n",
              "      <td>0</td>\n",
              "      <td>0</td>\n",
              "      <td>07/06/2011</td>\n",
              "    </tr>\n",
              "    <tr>\n",
              "      <th>3</th>\n",
              "      <td>13483</td>\n",
              "      <td>Estado</td>\n",
              "      <td>Rio de Janeiro</td>\n",
              "      <td>33</td>\n",
              "      <td>RJ</td>\n",
              "      <td>None</td>\n",
              "      <td>Deferido</td>\n",
              "      <td>19405.000010/2004-52</td>\n",
              "      <td>2006-02-15T02:00:00Z</td>\n",
              "      <td>Operação contratual interna</td>\n",
              "      <td>Renegociação de dívidas</td>\n",
              "      <td>Instituição Financeira Nacional</td>\n",
              "      <td>Banco Nacional de Desenvolvimento Econômico e ...</td>\n",
              "      <td>Real</td>\n",
              "      <td>8.475263e+08</td>\n",
              "      <td>1</td>\n",
              "      <td>0</td>\n",
              "      <td>01/03/2006</td>\n",
              "    </tr>\n",
              "    <tr>\n",
              "      <th>4</th>\n",
              "      <td>5923</td>\n",
              "      <td>Estado</td>\n",
              "      <td>Rio de Janeiro</td>\n",
              "      <td>33</td>\n",
              "      <td>RJ</td>\n",
              "      <td>None</td>\n",
              "      <td>Encaminhado à PGFN com manifestação técnica fa...</td>\n",
              "      <td>17944.000234/2012-41</td>\n",
              "      <td>2012-04-16T03:00:00Z</td>\n",
              "      <td>Operação contratual externa (com garantia da U...</td>\n",
              "      <td>Infraestrutura</td>\n",
              "      <td>Instituição Financeira Internacional</td>\n",
              "      <td>Corporação Andina de Fomento</td>\n",
              "      <td>Dólar dos EUA</td>\n",
              "      <td>2.000000e+08</td>\n",
              "      <td>1</td>\n",
              "      <td>0</td>\n",
              "      <td>04/10/2012</td>\n",
              "    </tr>\n",
              "  </tbody>\n",
              "</table>\n",
              "</div>\n",
              "    <div class=\"colab-df-buttons\">\n",
              "\n",
              "  <div class=\"colab-df-container\">\n",
              "    <button class=\"colab-df-convert\" onclick=\"convertToInteractive('df-cf2ecb16-7c03-4178-be66-843210f368f8')\"\n",
              "            title=\"Convert this dataframe to an interactive table.\"\n",
              "            style=\"display:none;\">\n",
              "\n",
              "  <svg xmlns=\"http://www.w3.org/2000/svg\" height=\"24px\" viewBox=\"0 -960 960 960\">\n",
              "    <path d=\"M120-120v-720h720v720H120Zm60-500h600v-160H180v160Zm220 220h160v-160H400v160Zm0 220h160v-160H400v160ZM180-400h160v-160H180v160Zm440 0h160v-160H620v160ZM180-180h160v-160H180v160Zm440 0h160v-160H620v160Z\"/>\n",
              "  </svg>\n",
              "    </button>\n",
              "\n",
              "  <style>\n",
              "    .colab-df-container {\n",
              "      display:flex;\n",
              "      gap: 12px;\n",
              "    }\n",
              "\n",
              "    .colab-df-convert {\n",
              "      background-color: #E8F0FE;\n",
              "      border: none;\n",
              "      border-radius: 50%;\n",
              "      cursor: pointer;\n",
              "      display: none;\n",
              "      fill: #1967D2;\n",
              "      height: 32px;\n",
              "      padding: 0 0 0 0;\n",
              "      width: 32px;\n",
              "    }\n",
              "\n",
              "    .colab-df-convert:hover {\n",
              "      background-color: #E2EBFA;\n",
              "      box-shadow: 0px 1px 2px rgba(60, 64, 67, 0.3), 0px 1px 3px 1px rgba(60, 64, 67, 0.15);\n",
              "      fill: #174EA6;\n",
              "    }\n",
              "\n",
              "    .colab-df-buttons div {\n",
              "      margin-bottom: 4px;\n",
              "    }\n",
              "\n",
              "    [theme=dark] .colab-df-convert {\n",
              "      background-color: #3B4455;\n",
              "      fill: #D2E3FC;\n",
              "    }\n",
              "\n",
              "    [theme=dark] .colab-df-convert:hover {\n",
              "      background-color: #434B5C;\n",
              "      box-shadow: 0px 1px 3px 1px rgba(0, 0, 0, 0.15);\n",
              "      filter: drop-shadow(0px 1px 2px rgba(0, 0, 0, 0.3));\n",
              "      fill: #FFFFFF;\n",
              "    }\n",
              "  </style>\n",
              "\n",
              "    <script>\n",
              "      const buttonEl =\n",
              "        document.querySelector('#df-cf2ecb16-7c03-4178-be66-843210f368f8 button.colab-df-convert');\n",
              "      buttonEl.style.display =\n",
              "        google.colab.kernel.accessAllowed ? 'block' : 'none';\n",
              "\n",
              "      async function convertToInteractive(key) {\n",
              "        const element = document.querySelector('#df-cf2ecb16-7c03-4178-be66-843210f368f8');\n",
              "        const dataTable =\n",
              "          await google.colab.kernel.invokeFunction('convertToInteractive',\n",
              "                                                    [key], {});\n",
              "        if (!dataTable) return;\n",
              "\n",
              "        const docLinkHtml = 'Like what you see? Visit the ' +\n",
              "          '<a target=\"_blank\" href=https://colab.research.google.com/notebooks/data_table.ipynb>data table notebook</a>'\n",
              "          + ' to learn more about interactive tables.';\n",
              "        element.innerHTML = '';\n",
              "        dataTable['output_type'] = 'display_data';\n",
              "        await google.colab.output.renderOutput(dataTable, element);\n",
              "        const docLink = document.createElement('div');\n",
              "        docLink.innerHTML = docLinkHtml;\n",
              "        element.appendChild(docLink);\n",
              "      }\n",
              "    </script>\n",
              "  </div>\n",
              "\n",
              "\n",
              "<div id=\"df-af3357fa-cbc1-44ad-b574-3cca89da0394\">\n",
              "  <button class=\"colab-df-quickchart\" onclick=\"quickchart('df-af3357fa-cbc1-44ad-b574-3cca89da0394')\"\n",
              "            title=\"Suggest charts\"\n",
              "            style=\"display:none;\">\n",
              "\n",
              "<svg xmlns=\"http://www.w3.org/2000/svg\" height=\"24px\"viewBox=\"0 0 24 24\"\n",
              "     width=\"24px\">\n",
              "    <g>\n",
              "        <path d=\"M19 3H5c-1.1 0-2 .9-2 2v14c0 1.1.9 2 2 2h14c1.1 0 2-.9 2-2V5c0-1.1-.9-2-2-2zM9 17H7v-7h2v7zm4 0h-2V7h2v10zm4 0h-2v-4h2v4z\"/>\n",
              "    </g>\n",
              "</svg>\n",
              "  </button>\n",
              "\n",
              "<style>\n",
              "  .colab-df-quickchart {\n",
              "      --bg-color: #E8F0FE;\n",
              "      --fill-color: #1967D2;\n",
              "      --hover-bg-color: #E2EBFA;\n",
              "      --hover-fill-color: #174EA6;\n",
              "      --disabled-fill-color: #AAA;\n",
              "      --disabled-bg-color: #DDD;\n",
              "  }\n",
              "\n",
              "  [theme=dark] .colab-df-quickchart {\n",
              "      --bg-color: #3B4455;\n",
              "      --fill-color: #D2E3FC;\n",
              "      --hover-bg-color: #434B5C;\n",
              "      --hover-fill-color: #FFFFFF;\n",
              "      --disabled-bg-color: #3B4455;\n",
              "      --disabled-fill-color: #666;\n",
              "  }\n",
              "\n",
              "  .colab-df-quickchart {\n",
              "    background-color: var(--bg-color);\n",
              "    border: none;\n",
              "    border-radius: 50%;\n",
              "    cursor: pointer;\n",
              "    display: none;\n",
              "    fill: var(--fill-color);\n",
              "    height: 32px;\n",
              "    padding: 0;\n",
              "    width: 32px;\n",
              "  }\n",
              "\n",
              "  .colab-df-quickchart:hover {\n",
              "    background-color: var(--hover-bg-color);\n",
              "    box-shadow: 0 1px 2px rgba(60, 64, 67, 0.3), 0 1px 3px 1px rgba(60, 64, 67, 0.15);\n",
              "    fill: var(--button-hover-fill-color);\n",
              "  }\n",
              "\n",
              "  .colab-df-quickchart-complete:disabled,\n",
              "  .colab-df-quickchart-complete:disabled:hover {\n",
              "    background-color: var(--disabled-bg-color);\n",
              "    fill: var(--disabled-fill-color);\n",
              "    box-shadow: none;\n",
              "  }\n",
              "\n",
              "  .colab-df-spinner {\n",
              "    border: 2px solid var(--fill-color);\n",
              "    border-color: transparent;\n",
              "    border-bottom-color: var(--fill-color);\n",
              "    animation:\n",
              "      spin 1s steps(1) infinite;\n",
              "  }\n",
              "\n",
              "  @keyframes spin {\n",
              "    0% {\n",
              "      border-color: transparent;\n",
              "      border-bottom-color: var(--fill-color);\n",
              "      border-left-color: var(--fill-color);\n",
              "    }\n",
              "    20% {\n",
              "      border-color: transparent;\n",
              "      border-left-color: var(--fill-color);\n",
              "      border-top-color: var(--fill-color);\n",
              "    }\n",
              "    30% {\n",
              "      border-color: transparent;\n",
              "      border-left-color: var(--fill-color);\n",
              "      border-top-color: var(--fill-color);\n",
              "      border-right-color: var(--fill-color);\n",
              "    }\n",
              "    40% {\n",
              "      border-color: transparent;\n",
              "      border-right-color: var(--fill-color);\n",
              "      border-top-color: var(--fill-color);\n",
              "    }\n",
              "    60% {\n",
              "      border-color: transparent;\n",
              "      border-right-color: var(--fill-color);\n",
              "    }\n",
              "    80% {\n",
              "      border-color: transparent;\n",
              "      border-right-color: var(--fill-color);\n",
              "      border-bottom-color: var(--fill-color);\n",
              "    }\n",
              "    90% {\n",
              "      border-color: transparent;\n",
              "      border-bottom-color: var(--fill-color);\n",
              "    }\n",
              "  }\n",
              "</style>\n",
              "\n",
              "  <script>\n",
              "    async function quickchart(key) {\n",
              "      const quickchartButtonEl =\n",
              "        document.querySelector('#' + key + ' button');\n",
              "      quickchartButtonEl.disabled = true;  // To prevent multiple clicks.\n",
              "      quickchartButtonEl.classList.add('colab-df-spinner');\n",
              "      try {\n",
              "        const charts = await google.colab.kernel.invokeFunction(\n",
              "            'suggestCharts', [key], {});\n",
              "      } catch (error) {\n",
              "        console.error('Error during call to suggestCharts:', error);\n",
              "      }\n",
              "      quickchartButtonEl.classList.remove('colab-df-spinner');\n",
              "      quickchartButtonEl.classList.add('colab-df-quickchart-complete');\n",
              "    }\n",
              "    (() => {\n",
              "      let quickchartButtonEl =\n",
              "        document.querySelector('#df-af3357fa-cbc1-44ad-b574-3cca89da0394 button');\n",
              "      quickchartButtonEl.style.display =\n",
              "        google.colab.kernel.accessAllowed ? 'block' : 'none';\n",
              "    })();\n",
              "  </script>\n",
              "</div>\n",
              "\n",
              "    </div>\n",
              "  </div>\n"
            ],
            "application/vnd.google.colaboratory.intrinsic+json": {
              "type": "dataframe",
              "variable_name": "df",
              "summary": "{\n  \"name\": \"df\",\n  \"rows\": 52,\n  \"fields\": [\n    {\n      \"column\": \"id_pleito\",\n      \"properties\": {\n        \"dtype\": \"number\",\n        \"std\": 4066,\n        \"min\": 4997,\n        \"max\": 22594,\n        \"samples\": [\n          10002,\n          13364,\n          5640\n        ],\n        \"num_unique_values\": 52,\n        \"semantic_type\": \"\",\n        \"description\": \"\"\n      }\n    },\n    {\n      \"column\": \"tipo_interessado\",\n      \"properties\": {\n        \"dtype\": \"category\",\n        \"samples\": [\n          \"Estado\"\n        ],\n        \"num_unique_values\": 1,\n        \"semantic_type\": \"\",\n        \"description\": \"\"\n      }\n    },\n    {\n      \"column\": \"interessado\",\n      \"properties\": {\n        \"dtype\": \"category\",\n        \"samples\": [\n          \"Rio de Janeiro\"\n        ],\n        \"num_unique_values\": 1,\n        \"semantic_type\": \"\",\n        \"description\": \"\"\n      }\n    },\n    {\n      \"column\": \"cod_ibge\",\n      \"properties\": {\n        \"dtype\": \"number\",\n        \"std\": 0,\n        \"min\": 33,\n        \"max\": 33,\n        \"samples\": [\n          33\n        ],\n        \"num_unique_values\": 1,\n        \"semantic_type\": \"\",\n        \"description\": \"\"\n      }\n    },\n    {\n      \"column\": \"uf\",\n      \"properties\": {\n        \"dtype\": \"category\",\n        \"samples\": [\n          \"RJ\"\n        ],\n        \"num_unique_values\": 1,\n        \"semantic_type\": \"\",\n        \"description\": \"\"\n      }\n    },\n    {\n      \"column\": \"num_pvl\",\n      \"properties\": {\n        \"dtype\": \"category\",\n        \"samples\": [\n          \"00000.000000/2026-68\"\n        ],\n        \"num_unique_values\": 3,\n        \"semantic_type\": \"\",\n        \"description\": \"\"\n      }\n    },\n    {\n      \"column\": \"status\",\n      \"properties\": {\n        \"dtype\": \"category\",\n        \"samples\": [\n          \"Encaminhado \\u00e0 PGFN com manifesta\\u00e7\\u00e3o t\\u00e9cnica favor\\u00e1vel\"\n        ],\n        \"num_unique_values\": 4,\n        \"semantic_type\": \"\",\n        \"description\": \"\"\n      }\n    },\n    {\n      \"column\": \"num_processo\",\n      \"properties\": {\n        \"dtype\": \"string\",\n        \"samples\": [\n          \"17944.001097/2009-67\"\n        ],\n        \"num_unique_values\": 52,\n        \"semantic_type\": \"\",\n        \"description\": \"\"\n      }\n    },\n    {\n      \"column\": \"data_protocolo\",\n      \"properties\": {\n        \"dtype\": \"object\",\n        \"min\": \"2002-06-20T03:00:00Z\",\n        \"max\": \"2016-05-12T03:00:00Z\",\n        \"samples\": [\n          \"2010-08-06T03:00:00Z\"\n        ],\n        \"num_unique_values\": 36,\n        \"semantic_type\": \"\",\n        \"description\": \"\"\n      }\n    },\n    {\n      \"column\": \"tipo_operacao\",\n      \"properties\": {\n        \"dtype\": \"category\",\n        \"samples\": [\n          \"Opera\\u00e7\\u00e3o contratual interna\"\n        ],\n        \"num_unique_values\": 3,\n        \"semantic_type\": \"\",\n        \"description\": \"\"\n      }\n    },\n    {\n      \"column\": \"finalidade\",\n      \"properties\": {\n        \"dtype\": \"category\",\n        \"samples\": [\n          \"Infraestrutura\"\n        ],\n        \"num_unique_values\": 19,\n        \"semantic_type\": \"\",\n        \"description\": \"\"\n      }\n    },\n    {\n      \"column\": \"tipo_credor\",\n      \"properties\": {\n        \"dtype\": \"category\",\n        \"samples\": [\n          \"Institui\\u00e7\\u00e3o Financeira Internacional\"\n        ],\n        \"num_unique_values\": 2,\n        \"semantic_type\": \"\",\n        \"description\": \"\"\n      }\n    },\n    {\n      \"column\": \"credor\",\n      \"properties\": {\n        \"dtype\": \"category\",\n        \"samples\": [\n          \"Banco Interamericano de Desenvolvimento\"\n        ],\n        \"num_unique_values\": 11,\n        \"semantic_type\": \"\",\n        \"description\": \"\"\n      }\n    },\n    {\n      \"column\": \"moeda\",\n      \"properties\": {\n        \"dtype\": \"category\",\n        \"samples\": [\n          \"D\\u00f3lar dos EUA\"\n        ],\n        \"num_unique_values\": 2,\n        \"semantic_type\": \"\",\n        \"description\": \"\"\n      }\n    },\n    {\n      \"column\": \"valor\",\n      \"properties\": {\n        \"dtype\": \"number\",\n        \"std\": 832120658.4485145,\n        \"min\": 49942.0,\n        \"max\": 3645563000.0,\n        \"samples\": [\n          60000000.0\n        ],\n        \"num_unique_values\": 48,\n        \"semantic_type\": \"\",\n        \"description\": \"\"\n      }\n    },\n    {\n      \"column\": \"pvl_assoc_divida\",\n      \"properties\": {\n        \"dtype\": \"number\",\n        \"std\": 0,\n        \"min\": 0,\n        \"max\": 1,\n        \"samples\": [\n          0\n        ],\n        \"num_unique_values\": 2,\n        \"semantic_type\": \"\",\n        \"description\": \"\"\n      }\n    },\n    {\n      \"column\": \"pvl_contradado_credor\",\n      \"properties\": {\n        \"dtype\": \"number\",\n        \"std\": 0,\n        \"min\": 0,\n        \"max\": 0,\n        \"samples\": [\n          0\n        ],\n        \"num_unique_values\": 1,\n        \"semantic_type\": \"\",\n        \"description\": \"\"\n      }\n    },\n    {\n      \"column\": \"data_status\",\n      \"properties\": {\n        \"dtype\": \"object\",\n        \"min\": \"01/03/2006\",\n        \"max\": \"29/07/2013\",\n        \"samples\": [\n          \"06/03/2008\"\n        ],\n        \"num_unique_values\": 42,\n        \"semantic_type\": \"\",\n        \"description\": \"\"\n      }\n    }\n  ]\n}"
            }
          },
          "metadata": {},
          "execution_count": 13
        }
      ]
    },
    {
      "cell_type": "code",
      "source": [
        "df.info()"
      ],
      "metadata": {
        "colab": {
          "base_uri": "https://localhost:8080/"
        },
        "id": "bS9GE2jIy98f",
        "outputId": "6a207b9e-5a55-486b-dc63-544aea260cf5"
      },
      "execution_count": 14,
      "outputs": [
        {
          "output_type": "stream",
          "name": "stdout",
          "text": [
            "<class 'pandas.core.frame.DataFrame'>\n",
            "RangeIndex: 52 entries, 0 to 51\n",
            "Data columns (total 18 columns):\n",
            " #   Column                 Non-Null Count  Dtype  \n",
            "---  ------                 --------------  -----  \n",
            " 0   id_pleito              52 non-null     int64  \n",
            " 1   tipo_interessado       52 non-null     object \n",
            " 2   interessado            52 non-null     object \n",
            " 3   cod_ibge               52 non-null     int64  \n",
            " 4   uf                     52 non-null     object \n",
            " 5   num_pvl                3 non-null      object \n",
            " 6   status                 52 non-null     object \n",
            " 7   num_processo           52 non-null     object \n",
            " 8   data_protocolo         52 non-null     object \n",
            " 9   tipo_operacao          52 non-null     object \n",
            " 10  finalidade             52 non-null     object \n",
            " 11  tipo_credor            52 non-null     object \n",
            " 12  credor                 52 non-null     object \n",
            " 13  moeda                  52 non-null     object \n",
            " 14  valor                  52 non-null     float64\n",
            " 15  pvl_assoc_divida       52 non-null     int64  \n",
            " 16  pvl_contradado_credor  52 non-null     int64  \n",
            " 17  data_status            52 non-null     object \n",
            "dtypes: float64(1), int64(4), object(13)\n",
            "memory usage: 7.4+ KB\n"
          ]
        }
      ]
    },
    {
      "cell_type": "markdown",
      "source": [
        "### 1.2 Quais são os três status das solicitações mais frequentes na base? Quais são suas frequências?"
      ],
      "metadata": {
        "id": "kGuhGln_tGB7"
      }
    },
    {
      "cell_type": "code",
      "execution_count": null,
      "metadata": {
        "id": "C3K3SM3gs9Dh"
      },
      "outputs": [],
      "source": [
        "# 2) Seu código aqui\n"
      ]
    },
    {
      "cell_type": "markdown",
      "source": [
        "### 1.3 Construa uma nova variável que contenha o ano do status. Observe que data_status vem como tipo object no DataFrame. Dica: você pode usar o método .str para transformar o tipo da variável em string, em seguida um método como `slice()` ou `split()`."
      ],
      "metadata": {
        "id": "82nGfcLstJOa"
      }
    },
    {
      "cell_type": "code",
      "execution_count": null,
      "metadata": {
        "id": "3N_F0z_gs9Di"
      },
      "outputs": [],
      "source": [
        "# 3) Seu código aqui\n"
      ]
    },
    {
      "cell_type": "markdown",
      "source": [
        "### 1.4 Indique a frequência de cada ano do campo construído no item (3)."
      ],
      "metadata": {
        "id": "KTX3HdpYtTPt"
      }
    },
    {
      "cell_type": "code",
      "source": [],
      "metadata": {
        "id": "aaa0w90htVh_"
      },
      "execution_count": null,
      "outputs": []
    },
    {
      "cell_type": "markdown",
      "source": [
        "\n",
        "\n",
        "---\n",
        "\n"
      ],
      "metadata": {
        "id": "bS95jx7YtV4O"
      }
    },
    {
      "cell_type": "markdown",
      "metadata": {
        "id": "aDJH1df2s9Di"
      },
      "source": [
        "####  2) Melhorando a interação com o API\n",
        "Observe dois URLs de consultas diferentes, por exemplo o URL utilizado em aula, e o URL feito no exercício anterior. Compare-os e observe as diferenças.\n",
        "\n",
        "1. Faça uma função em Python que recebe como argumento o UF da consulta e o tipo de interessado (```'Estado'```ou ```Município```), e que devolve os dados da consulta no formato *DataFrame*.\n",
        "2. Quantas solicitações para o Estado podem ser consultadas para Minas Gerais com *status* em 'Arquivado por decurso de prazo' estão registradas?\n",
        "3. Qual é o município da Bahia com mais solicitações deferidas?\n",
        "4. Salve um arquivo .csv com os dados de solicitações da Bahia, com interessado = 'Estado'"
      ]
    },
    {
      "cell_type": "markdown",
      "source": [
        "### 2.1 Faça uma função em Python que recebe como argumento o UF da consulta e o tipo de interessado ('Estado'ou Município), e que devolve os dados da consulta no formato DataFrame."
      ],
      "metadata": {
        "id": "aBqT5_DhtYsp"
      }
    },
    {
      "cell_type": "code",
      "execution_count": null,
      "metadata": {
        "id": "f-KbEBGYs9Dj"
      },
      "outputs": [],
      "source": [
        "#1) Seu código aqui"
      ]
    },
    {
      "cell_type": "markdown",
      "source": [
        "### 2.2 Quantas solicitações para o Estado podem ser consultadas para Minas Gerais com status em 'Arquivado por decurso de prazo' estão registradas?"
      ],
      "metadata": {
        "id": "LV8aD-gVtbnC"
      }
    },
    {
      "cell_type": "code",
      "execution_count": null,
      "metadata": {
        "id": "lS5mS3u5s9Dj"
      },
      "outputs": [],
      "source": [
        "# 2) Seu código aqui"
      ]
    },
    {
      "cell_type": "markdown",
      "source": [
        "### 2.3 Qual é o município da Bahia com mais solicitações deferidas?\n"
      ],
      "metadata": {
        "id": "y-8p_inNteuV"
      }
    },
    {
      "cell_type": "code",
      "execution_count": null,
      "metadata": {
        "id": "TWkXlOPss9Dj"
      },
      "outputs": [],
      "source": [
        "# 3) Seu código aqui"
      ]
    },
    {
      "cell_type": "markdown",
      "source": [
        "### 2.4 Salve um arquivo .csv com os dados de solicitações da Bahia, com interessado = 'Estado'"
      ],
      "metadata": {
        "id": "g1I67zRXti2T"
      }
    },
    {
      "cell_type": "code",
      "execution_count": null,
      "metadata": {
        "id": "37_3jW30s9Dk"
      },
      "outputs": [],
      "source": [
        "# 4) Seu código aqui"
      ]
    }
  ],
  "metadata": {
    "kernelspec": {
      "display_name": "Python 3",
      "language": "python",
      "name": "python3"
    },
    "language_info": {
      "codemirror_mode": {
        "name": "ipython",
        "version": 3
      },
      "file_extension": ".py",
      "mimetype": "text/x-python",
      "name": "python",
      "nbconvert_exporter": "python",
      "pygments_lexer": "ipython3",
      "version": "3.8.5"
    },
    "colab": {
      "provenance": [],
      "toc_visible": true
    }
  },
  "nbformat": 4,
  "nbformat_minor": 0
}