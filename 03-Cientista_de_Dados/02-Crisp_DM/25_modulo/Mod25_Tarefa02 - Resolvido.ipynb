{
 "cells": [
  {
   "cell_type": "markdown",
   "metadata": {},
   "source": [
    "# Cálculo - Tarefa 02\n",
    "\n",
    "1- Calcule de forma numérica a integral da função $x^3$ avaliada entre os pontos $1$ e $2$. Identifique o número de retângulos que você usou."
   ]
  },
  {
   "cell_type": "markdown",
   "metadata": {},
   "source": [
    "A integral definida de (x^3) em relação a (x) é dada por:\n",
    "\n",
    "$ \\int_{1}^{2} x^3 , dx $\n",
    "\n",
    "Para calcular essa integral, podemos usar a fórmula da soma de Riemann para aproximar a área sob a curva. Vamos dividir o intervalo ([1, 2]) em (n) retângulos de largura igual. A altura de cada retângulo será o valor da função (x^3) em um ponto dentro do intervalo do retângulo.\n",
    "\n",
    "A área total sob a curva é aproximadamente:\n",
    "\n",
    "$ \\text{Área} \\approx \\sum_{i=1}^{n} f(x_i) \\cdot \\Delta x $\n",
    "\n",
    "onde (f(x_i)) é o valor da função (x^3) no ponto (x_i) (que está no intervalo do (i)-ésimo retângulo) e (\\Delta x) é a largura de cada retângulo.\n",
    "\n",
    "Vamos escolher (n = 4) para simplificar:\n",
    "\n",
    "- Dividindo o intervalo ([1, 2]) em 4 partes iguais, temos: $\\Delta x = \\frac{2 - 1}{4} = \\frac{1}{4}$\n",
    "- Os pontos (x_i) dentro de cada intervalo são: $$x_1 = 1 + \\frac{1}{4} = 1.25) (x_2 = 1 + \\frac{2}{4} = 1.5) (x_3 = 1 + \\frac{3}{4} = 1.75) (x_4 = 1 + \\frac{4}{4} = 2$$\n",
    "- Calculando os valores da função $x^3$ nos pontos $$(x_i): (f(x_1) = (1.25)^3 = 1.953125) (f(x_2) = (1.5)^3 = 3.375) (f(x_3) = (1.75)^3 = 5.953125) (f(x_4) = 2^3 = 8)$$\n",
    "- Somando as áreas dos retângulos: $$\\text{Área} \\approx (1.953125 \\cdot 1/4) + (3.375 \\cdot 1/4) + (5.953125 \\cdot 1/4) + (8 \\cdot 1/4)) (\\text{Área} \\approx 2.5 + 0.84375 + 1.48828125 + 2 = 7.83203125$$<br><br>\n",
    "Portanto, a integral de (x^3) entre (1) e (2) é aproximadamente (7.83). Usamos 4 retângulos para essa aproximaç"
   ]
  },
  {
   "cell_type": "markdown",
   "metadata": {},
   "source": [
    "2- Calcule essa área de forma analítica."
   ]
  },
  {
   "cell_type": "markdown",
   "metadata": {},
   "source": [
    "A integral definida de $x^3$ em relação a $x$ é dada por:\n",
    "\n",
    "$$ \\int_{1}^{2} x^3 , dx $$\n",
    "\n",
    "Para calcular essa integral, usaremos a regra básica da potência para integrais:\n",
    "\n",
    "$$ \\int x^n , dx = \\frac{1}{n+1} x^{n+1} + C $$\n",
    "\n",
    "Aplicando essa regra à nossa função $x^3$:\n",
    "\n",
    "$$ \\int x^3 , dx = \\frac{1}{4} x^4 + C $$\n",
    "\n",
    "Agora, avaliaremos a integral nos pontos (1) e (2):\n",
    "\n",
    "$$ \\int_{1}^{2} x^3 , dx = \\left(\\frac{1}{4} \\cdot 2^4\\right) - \\left(\\frac{1}{4} \\cdot 1^4\\right) = 8 - \\frac{1}{4} = \\frac{31}{4} $$\n",
    "\n",
    "Portanto, a integral de $x^3$ entre (1) e (2) é igual a $\\frac{31}{4}$"
   ]
  }
 ],
 "metadata": {
  "kernelspec": {
   "display_name": "Python 3",
   "language": "python",
   "name": "python3"
  },
  "language_info": {
   "codemirror_mode": {
    "name": "ipython",
    "version": 3
   },
   "file_extension": ".py",
   "mimetype": "text/x-python",
   "name": "python",
   "nbconvert_exporter": "python",
   "pygments_lexer": "ipython3",
   "version": "3.8.5"
  },
  "toc": {
   "base_numbering": 1,
   "nav_menu": {},
   "number_sections": true,
   "sideBar": true,
   "skip_h1_title": true,
   "title_cell": "Índice",
   "title_sidebar": "Conteúdo",
   "toc_cell": false,
   "toc_position": {},
   "toc_section_display": true,
   "toc_window_display": false
  },
  "varInspector": {
   "cols": {
    "lenName": 16,
    "lenType": 16,
    "lenVar": 40
   },
   "kernels_config": {
    "python": {
     "delete_cmd_postfix": "",
     "delete_cmd_prefix": "del ",
     "library": "var_list.py",
     "varRefreshCmd": "print(var_dic_list())"
    },
    "r": {
     "delete_cmd_postfix": ") ",
     "delete_cmd_prefix": "rm(",
     "library": "var_list.r",
     "varRefreshCmd": "cat(var_dic_list()) "
    }
   },
   "types_to_exclude": [
    "module",
    "function",
    "builtin_function_or_method",
    "instance",
    "_Feature"
   ],
   "window_display": false
  }
 },
 "nbformat": 4,
 "nbformat_minor": 4
}
