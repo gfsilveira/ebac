{
  "cells": [
    {
      "cell_type": "markdown",
      "metadata": {
        "id": "JqBsB3m7CnUK"
      },
      "source": [
        "# EBAC - Regressão II - regressão múltipla\n",
        "\n",
        "## Tarefa I"
      ]
    },
    {
      "cell_type": "markdown",
      "metadata": {
        "id": "X4N9vt-fCnUN"
      },
      "source": [
        "#### Previsão de renda\n",
        "\n",
        "Vamos trabalhar com a base 'previsao_de_renda.csv', que é a base do seu próximo projeto. Vamos usar os recursos que vimos até aqui nesta base.\n",
        "\n",
        "|variavel|descrição|\n",
        "|-|-|\n",
        "|data_ref                | Data de referência de coleta das variáveis |\n",
        "|index                   | Código de identificação do cliente|\n",
        "|sexo                    | Sexo do cliente|\n",
        "|posse_de_veiculo        | Indica se o cliente possui veículo|\n",
        "|posse_de_imovel         | Indica se o cliente possui imóvel|\n",
        "|qtd_filhos              | Quantidade de filhos do cliente|\n",
        "|tipo_renda              | Tipo de renda do cliente|\n",
        "|educacao                | Grau de instrução do cliente|\n",
        "|estado_civil            | Estado civil do cliente|\n",
        "|tipo_residencia         | Tipo de residência do cliente (própria, alugada etc)|\n",
        "|idade                   | Idade do cliente|\n",
        "|tempo_emprego           | Tempo no emprego atual|\n",
        "|qt_pessoas_residencia   | Quantidade de pessoas que moram na residência|\n",
        "|renda                   | Renda em reais|"
      ]
    },
    {
      "cell_type": "code",
      "execution_count": 2,
      "metadata": {
        "id": "ahImm8heCnUO"
      },
      "outputs": [],
      "source": [
        "# Importando bibliotecas\n",
        "import pandas as pd\n",
        "import numpy as np\n",
        "\n",
        "import patsy\n",
        "import statsmodels.api as sm"
      ]
    },
    {
      "cell_type": "code",
      "execution_count": 3,
      "metadata": {
        "colab": {
          "base_uri": "https://localhost:8080/",
          "height": 206
        },
        "id": "ua_6j2d1CnUP",
        "outputId": "a1376650-c80f-4148-8d63-366d61e89258"
      },
      "outputs": [
        {
          "data": {
            "application/vnd.google.colaboratory.intrinsic+json": {
              "summary": "{\n  \"name\": \"df\",\n  \"rows\": 12466,\n  \"fields\": [\n    {\n      \"column\": \"data_ref\",\n      \"properties\": {\n        \"dtype\": \"object\",\n        \"num_unique_values\": 15,\n        \"samples\": [\n          \"2015-10-01\",\n          \"2015-12-01\",\n          \"2015-01-01\"\n        ],\n        \"semantic_type\": \"\",\n        \"description\": \"\"\n      }\n    },\n    {\n      \"column\": \"sexo\",\n      \"properties\": {\n        \"dtype\": \"category\",\n        \"num_unique_values\": 2,\n        \"samples\": [\n          \"M\",\n          \"F\"\n        ],\n        \"semantic_type\": \"\",\n        \"description\": \"\"\n      }\n    },\n    {\n      \"column\": \"posse_de_veiculo\",\n      \"properties\": {\n        \"dtype\": \"boolean\",\n        \"num_unique_values\": 2,\n        \"samples\": [\n          true,\n          false\n        ],\n        \"semantic_type\": \"\",\n        \"description\": \"\"\n      }\n    },\n    {\n      \"column\": \"posse_de_imovel\",\n      \"properties\": {\n        \"dtype\": \"boolean\",\n        \"num_unique_values\": 2,\n        \"samples\": [\n          false,\n          true\n        ],\n        \"semantic_type\": \"\",\n        \"description\": \"\"\n      }\n    },\n    {\n      \"column\": \"qtd_filhos\",\n      \"properties\": {\n        \"dtype\": \"number\",\n        \"std\": 0,\n        \"min\": 0,\n        \"max\": 14,\n        \"num_unique_values\": 8,\n        \"samples\": [\n          0,\n          4\n        ],\n        \"semantic_type\": \"\",\n        \"description\": \"\"\n      }\n    },\n    {\n      \"column\": \"tipo_renda\",\n      \"properties\": {\n        \"dtype\": \"category\",\n        \"num_unique_values\": 5,\n        \"samples\": [\n          \"Empres\\u00e1rio\",\n          \"Pensionista\"\n        ],\n        \"semantic_type\": \"\",\n        \"description\": \"\"\n      }\n    },\n    {\n      \"column\": \"educacao\",\n      \"properties\": {\n        \"dtype\": \"category\",\n        \"num_unique_values\": 5,\n        \"samples\": [\n          \"Superior completo\",\n          \"P\\u00f3s gradua\\u00e7\\u00e3o\"\n        ],\n        \"semantic_type\": \"\",\n        \"description\": \"\"\n      }\n    },\n    {\n      \"column\": \"estado_civil\",\n      \"properties\": {\n        \"dtype\": \"category\",\n        \"num_unique_values\": 5,\n        \"samples\": [\n          \"Uni\\u00e3o\",\n          \"Vi\\u00favo\"\n        ],\n        \"semantic_type\": \"\",\n        \"description\": \"\"\n      }\n    },\n    {\n      \"column\": \"tipo_residencia\",\n      \"properties\": {\n        \"dtype\": \"category\",\n        \"num_unique_values\": 6,\n        \"samples\": [\n          \"Casa\",\n          \"Com os pais\"\n        ],\n        \"semantic_type\": \"\",\n        \"description\": \"\"\n      }\n    },\n    {\n      \"column\": \"idade\",\n      \"properties\": {\n        \"dtype\": \"number\",\n        \"std\": 9,\n        \"min\": 22,\n        \"max\": 67,\n        \"num_unique_values\": 46,\n        \"samples\": [\n          64,\n          43\n        ],\n        \"semantic_type\": \"\",\n        \"description\": \"\"\n      }\n    },\n    {\n      \"column\": \"tempo_emprego\",\n      \"properties\": {\n        \"dtype\": \"number\",\n        \"std\": 6.7802164260173745,\n        \"min\": 0.1917808219178082,\n        \"max\": 42.90684931506849,\n        \"num_unique_values\": 2571,\n        \"samples\": [\n          8.29041095890411,\n          8.473972602739726\n        ],\n        \"semantic_type\": \"\",\n        \"description\": \"\"\n      }\n    },\n    {\n      \"column\": \"qt_pessoas_residencia\",\n      \"properties\": {\n        \"dtype\": \"number\",\n        \"std\": 0.9554713445549966,\n        \"min\": 1.0,\n        \"max\": 15.0,\n        \"num_unique_values\": 9,\n        \"samples\": [\n          15.0,\n          2.0\n        ],\n        \"semantic_type\": \"\",\n        \"description\": \"\"\n      }\n    },\n    {\n      \"column\": \"mau\",\n      \"properties\": {\n        \"dtype\": \"boolean\",\n        \"num_unique_values\": 2,\n        \"samples\": [\n          true,\n          false\n        ],\n        \"semantic_type\": \"\",\n        \"description\": \"\"\n      }\n    },\n    {\n      \"column\": \"renda\",\n      \"properties\": {\n        \"dtype\": \"number\",\n        \"std\": 4873.18251240508,\n        \"min\": 159.9,\n        \"max\": 89918.04,\n        \"num_unique_values\": 8114,\n        \"samples\": [\n          301.05,\n          18218.59\n        ],\n        \"semantic_type\": \"\",\n        \"description\": \"\"\n      }\n    }\n  ]\n}",
              "type": "dataframe",
              "variable_name": "df"
            },
            "text/html": [
              "\n",
              "  <div id=\"df-318b16a6-8014-4684-8493-94199d169917\" class=\"colab-df-container\">\n",
              "    <div>\n",
              "<style scoped>\n",
              "    .dataframe tbody tr th:only-of-type {\n",
              "        vertical-align: middle;\n",
              "    }\n",
              "\n",
              "    .dataframe tbody tr th {\n",
              "        vertical-align: top;\n",
              "    }\n",
              "\n",
              "    .dataframe thead th {\n",
              "        text-align: right;\n",
              "    }\n",
              "</style>\n",
              "<table border=\"1\" class=\"dataframe\">\n",
              "  <thead>\n",
              "    <tr style=\"text-align: right;\">\n",
              "      <th></th>\n",
              "      <th>data_ref</th>\n",
              "      <th>sexo</th>\n",
              "      <th>posse_de_veiculo</th>\n",
              "      <th>posse_de_imovel</th>\n",
              "      <th>qtd_filhos</th>\n",
              "      <th>tipo_renda</th>\n",
              "      <th>educacao</th>\n",
              "      <th>estado_civil</th>\n",
              "      <th>tipo_residencia</th>\n",
              "      <th>idade</th>\n",
              "      <th>tempo_emprego</th>\n",
              "      <th>qt_pessoas_residencia</th>\n",
              "      <th>mau</th>\n",
              "      <th>renda</th>\n",
              "    </tr>\n",
              "  </thead>\n",
              "  <tbody>\n",
              "    <tr>\n",
              "      <th>0</th>\n",
              "      <td>2015-01-01</td>\n",
              "      <td>F</td>\n",
              "      <td>False</td>\n",
              "      <td>True</td>\n",
              "      <td>1</td>\n",
              "      <td>Assalariado</td>\n",
              "      <td>Secundário</td>\n",
              "      <td>Casado</td>\n",
              "      <td>Casa</td>\n",
              "      <td>36</td>\n",
              "      <td>3.575342</td>\n",
              "      <td>3.0</td>\n",
              "      <td>False</td>\n",
              "      <td>3369.24</td>\n",
              "    </tr>\n",
              "    <tr>\n",
              "      <th>1</th>\n",
              "      <td>2015-01-01</td>\n",
              "      <td>M</td>\n",
              "      <td>True</td>\n",
              "      <td>True</td>\n",
              "      <td>0</td>\n",
              "      <td>Empresário</td>\n",
              "      <td>Secundário</td>\n",
              "      <td>Casado</td>\n",
              "      <td>Casa</td>\n",
              "      <td>42</td>\n",
              "      <td>0.860274</td>\n",
              "      <td>2.0</td>\n",
              "      <td>False</td>\n",
              "      <td>6096.14</td>\n",
              "    </tr>\n",
              "    <tr>\n",
              "      <th>2</th>\n",
              "      <td>2015-01-01</td>\n",
              "      <td>M</td>\n",
              "      <td>True</td>\n",
              "      <td>True</td>\n",
              "      <td>2</td>\n",
              "      <td>Assalariado</td>\n",
              "      <td>Superior completo</td>\n",
              "      <td>Casado</td>\n",
              "      <td>Casa</td>\n",
              "      <td>31</td>\n",
              "      <td>8.065753</td>\n",
              "      <td>4.0</td>\n",
              "      <td>False</td>\n",
              "      <td>5658.98</td>\n",
              "    </tr>\n",
              "    <tr>\n",
              "      <th>3</th>\n",
              "      <td>2015-01-01</td>\n",
              "      <td>F</td>\n",
              "      <td>True</td>\n",
              "      <td>False</td>\n",
              "      <td>0</td>\n",
              "      <td>Empresário</td>\n",
              "      <td>Secundário</td>\n",
              "      <td>Casado</td>\n",
              "      <td>Casa</td>\n",
              "      <td>50</td>\n",
              "      <td>1.208219</td>\n",
              "      <td>2.0</td>\n",
              "      <td>False</td>\n",
              "      <td>7246.69</td>\n",
              "    </tr>\n",
              "    <tr>\n",
              "      <th>4</th>\n",
              "      <td>2015-01-01</td>\n",
              "      <td>M</td>\n",
              "      <td>False</td>\n",
              "      <td>False</td>\n",
              "      <td>0</td>\n",
              "      <td>Assalariado</td>\n",
              "      <td>Secundário</td>\n",
              "      <td>Casado</td>\n",
              "      <td>Casa</td>\n",
              "      <td>52</td>\n",
              "      <td>13.873973</td>\n",
              "      <td>2.0</td>\n",
              "      <td>False</td>\n",
              "      <td>4017.37</td>\n",
              "    </tr>\n",
              "  </tbody>\n",
              "</table>\n",
              "</div>\n",
              "    <div class=\"colab-df-buttons\">\n",
              "\n",
              "  <div class=\"colab-df-container\">\n",
              "    <button class=\"colab-df-convert\" onclick=\"convertToInteractive('df-318b16a6-8014-4684-8493-94199d169917')\"\n",
              "            title=\"Convert this dataframe to an interactive table.\"\n",
              "            style=\"display:none;\">\n",
              "\n",
              "  <svg xmlns=\"http://www.w3.org/2000/svg\" height=\"24px\" viewBox=\"0 -960 960 960\">\n",
              "    <path d=\"M120-120v-720h720v720H120Zm60-500h600v-160H180v160Zm220 220h160v-160H400v160Zm0 220h160v-160H400v160ZM180-400h160v-160H180v160Zm440 0h160v-160H620v160ZM180-180h160v-160H180v160Zm440 0h160v-160H620v160Z\"/>\n",
              "  </svg>\n",
              "    </button>\n",
              "\n",
              "  <style>\n",
              "    .colab-df-container {\n",
              "      display:flex;\n",
              "      gap: 12px;\n",
              "    }\n",
              "\n",
              "    .colab-df-convert {\n",
              "      background-color: #E8F0FE;\n",
              "      border: none;\n",
              "      border-radius: 50%;\n",
              "      cursor: pointer;\n",
              "      display: none;\n",
              "      fill: #1967D2;\n",
              "      height: 32px;\n",
              "      padding: 0 0 0 0;\n",
              "      width: 32px;\n",
              "    }\n",
              "\n",
              "    .colab-df-convert:hover {\n",
              "      background-color: #E2EBFA;\n",
              "      box-shadow: 0px 1px 2px rgba(60, 64, 67, 0.3), 0px 1px 3px 1px rgba(60, 64, 67, 0.15);\n",
              "      fill: #174EA6;\n",
              "    }\n",
              "\n",
              "    .colab-df-buttons div {\n",
              "      margin-bottom: 4px;\n",
              "    }\n",
              "\n",
              "    [theme=dark] .colab-df-convert {\n",
              "      background-color: #3B4455;\n",
              "      fill: #D2E3FC;\n",
              "    }\n",
              "\n",
              "    [theme=dark] .colab-df-convert:hover {\n",
              "      background-color: #434B5C;\n",
              "      box-shadow: 0px 1px 3px 1px rgba(0, 0, 0, 0.15);\n",
              "      filter: drop-shadow(0px 1px 2px rgba(0, 0, 0, 0.3));\n",
              "      fill: #FFFFFF;\n",
              "    }\n",
              "  </style>\n",
              "\n",
              "    <script>\n",
              "      const buttonEl =\n",
              "        document.querySelector('#df-318b16a6-8014-4684-8493-94199d169917 button.colab-df-convert');\n",
              "      buttonEl.style.display =\n",
              "        google.colab.kernel.accessAllowed ? 'block' : 'none';\n",
              "\n",
              "      async function convertToInteractive(key) {\n",
              "        const element = document.querySelector('#df-318b16a6-8014-4684-8493-94199d169917');\n",
              "        const dataTable =\n",
              "          await google.colab.kernel.invokeFunction('convertToInteractive',\n",
              "                                                    [key], {});\n",
              "        if (!dataTable) return;\n",
              "\n",
              "        const docLinkHtml = 'Like what you see? Visit the ' +\n",
              "          '<a target=\"_blank\" href=https://colab.research.google.com/notebooks/data_table.ipynb>data table notebook</a>'\n",
              "          + ' to learn more about interactive tables.';\n",
              "        element.innerHTML = '';\n",
              "        dataTable['output_type'] = 'display_data';\n",
              "        await google.colab.output.renderOutput(dataTable, element);\n",
              "        const docLink = document.createElement('div');\n",
              "        docLink.innerHTML = docLinkHtml;\n",
              "        element.appendChild(docLink);\n",
              "      }\n",
              "    </script>\n",
              "  </div>\n",
              "\n",
              "\n",
              "<div id=\"df-d5a213eb-bff9-4d90-9bc9-c585e9ac08fe\">\n",
              "  <button class=\"colab-df-quickchart\" onclick=\"quickchart('df-d5a213eb-bff9-4d90-9bc9-c585e9ac08fe')\"\n",
              "            title=\"Suggest charts\"\n",
              "            style=\"display:none;\">\n",
              "\n",
              "<svg xmlns=\"http://www.w3.org/2000/svg\" height=\"24px\"viewBox=\"0 0 24 24\"\n",
              "     width=\"24px\">\n",
              "    <g>\n",
              "        <path d=\"M19 3H5c-1.1 0-2 .9-2 2v14c0 1.1.9 2 2 2h14c1.1 0 2-.9 2-2V5c0-1.1-.9-2-2-2zM9 17H7v-7h2v7zm4 0h-2V7h2v10zm4 0h-2v-4h2v4z\"/>\n",
              "    </g>\n",
              "</svg>\n",
              "  </button>\n",
              "\n",
              "<style>\n",
              "  .colab-df-quickchart {\n",
              "      --bg-color: #E8F0FE;\n",
              "      --fill-color: #1967D2;\n",
              "      --hover-bg-color: #E2EBFA;\n",
              "      --hover-fill-color: #174EA6;\n",
              "      --disabled-fill-color: #AAA;\n",
              "      --disabled-bg-color: #DDD;\n",
              "  }\n",
              "\n",
              "  [theme=dark] .colab-df-quickchart {\n",
              "      --bg-color: #3B4455;\n",
              "      --fill-color: #D2E3FC;\n",
              "      --hover-bg-color: #434B5C;\n",
              "      --hover-fill-color: #FFFFFF;\n",
              "      --disabled-bg-color: #3B4455;\n",
              "      --disabled-fill-color: #666;\n",
              "  }\n",
              "\n",
              "  .colab-df-quickchart {\n",
              "    background-color: var(--bg-color);\n",
              "    border: none;\n",
              "    border-radius: 50%;\n",
              "    cursor: pointer;\n",
              "    display: none;\n",
              "    fill: var(--fill-color);\n",
              "    height: 32px;\n",
              "    padding: 0;\n",
              "    width: 32px;\n",
              "  }\n",
              "\n",
              "  .colab-df-quickchart:hover {\n",
              "    background-color: var(--hover-bg-color);\n",
              "    box-shadow: 0 1px 2px rgba(60, 64, 67, 0.3), 0 1px 3px 1px rgba(60, 64, 67, 0.15);\n",
              "    fill: var(--button-hover-fill-color);\n",
              "  }\n",
              "\n",
              "  .colab-df-quickchart-complete:disabled,\n",
              "  .colab-df-quickchart-complete:disabled:hover {\n",
              "    background-color: var(--disabled-bg-color);\n",
              "    fill: var(--disabled-fill-color);\n",
              "    box-shadow: none;\n",
              "  }\n",
              "\n",
              "  .colab-df-spinner {\n",
              "    border: 2px solid var(--fill-color);\n",
              "    border-color: transparent;\n",
              "    border-bottom-color: var(--fill-color);\n",
              "    animation:\n",
              "      spin 1s steps(1) infinite;\n",
              "  }\n",
              "\n",
              "  @keyframes spin {\n",
              "    0% {\n",
              "      border-color: transparent;\n",
              "      border-bottom-color: var(--fill-color);\n",
              "      border-left-color: var(--fill-color);\n",
              "    }\n",
              "    20% {\n",
              "      border-color: transparent;\n",
              "      border-left-color: var(--fill-color);\n",
              "      border-top-color: var(--fill-color);\n",
              "    }\n",
              "    30% {\n",
              "      border-color: transparent;\n",
              "      border-left-color: var(--fill-color);\n",
              "      border-top-color: var(--fill-color);\n",
              "      border-right-color: var(--fill-color);\n",
              "    }\n",
              "    40% {\n",
              "      border-color: transparent;\n",
              "      border-right-color: var(--fill-color);\n",
              "      border-top-color: var(--fill-color);\n",
              "    }\n",
              "    60% {\n",
              "      border-color: transparent;\n",
              "      border-right-color: var(--fill-color);\n",
              "    }\n",
              "    80% {\n",
              "      border-color: transparent;\n",
              "      border-right-color: var(--fill-color);\n",
              "      border-bottom-color: var(--fill-color);\n",
              "    }\n",
              "    90% {\n",
              "      border-color: transparent;\n",
              "      border-bottom-color: var(--fill-color);\n",
              "    }\n",
              "  }\n",
              "</style>\n",
              "\n",
              "  <script>\n",
              "    async function quickchart(key) {\n",
              "      const quickchartButtonEl =\n",
              "        document.querySelector('#' + key + ' button');\n",
              "      quickchartButtonEl.disabled = true;  // To prevent multiple clicks.\n",
              "      quickchartButtonEl.classList.add('colab-df-spinner');\n",
              "      try {\n",
              "        const charts = await google.colab.kernel.invokeFunction(\n",
              "            'suggestCharts', [key], {});\n",
              "      } catch (error) {\n",
              "        console.error('Error during call to suggestCharts:', error);\n",
              "      }\n",
              "      quickchartButtonEl.classList.remove('colab-df-spinner');\n",
              "      quickchartButtonEl.classList.add('colab-df-quickchart-complete');\n",
              "    }\n",
              "    (() => {\n",
              "      let quickchartButtonEl =\n",
              "        document.querySelector('#df-d5a213eb-bff9-4d90-9bc9-c585e9ac08fe button');\n",
              "      quickchartButtonEl.style.display =\n",
              "        google.colab.kernel.accessAllowed ? 'block' : 'none';\n",
              "    })();\n",
              "  </script>\n",
              "</div>\n",
              "\n",
              "    </div>\n",
              "  </div>\n"
            ],
            "text/plain": [
              "     data_ref sexo  posse_de_veiculo  posse_de_imovel  qtd_filhos  \\\n",
              "0  2015-01-01    F             False             True           1   \n",
              "1  2015-01-01    M              True             True           0   \n",
              "2  2015-01-01    M              True             True           2   \n",
              "3  2015-01-01    F              True            False           0   \n",
              "4  2015-01-01    M             False            False           0   \n",
              "\n",
              "    tipo_renda           educacao estado_civil tipo_residencia  idade  \\\n",
              "0  Assalariado         Secundário       Casado            Casa     36   \n",
              "1   Empresário         Secundário       Casado            Casa     42   \n",
              "2  Assalariado  Superior completo       Casado            Casa     31   \n",
              "3   Empresário         Secundário       Casado            Casa     50   \n",
              "4  Assalariado         Secundário       Casado            Casa     52   \n",
              "\n",
              "   tempo_emprego  qt_pessoas_residencia    mau    renda  \n",
              "0       3.575342                    3.0  False  3369.24  \n",
              "1       0.860274                    2.0  False  6096.14  \n",
              "2       8.065753                    4.0  False  5658.98  \n",
              "3       1.208219                    2.0  False  7246.69  \n",
              "4      13.873973                    2.0  False  4017.37  "
            ]
          },
          "execution_count": 3,
          "metadata": {},
          "output_type": "execute_result"
        }
      ],
      "source": [
        "# Importando os dados\n",
        "link = \"https://raw.githubusercontent.com/gfsilveira/ebac/main/\"\n",
        "link += \"03-Cientista%20de%20Dados/02-Crisp-DM/M%C3%B3dulo_10/\"\n",
        "link += \"Profissao-%20Cientista%20de%20Dados_M10_support%20material.csv\"\n",
        "\n",
        "df = pd.read_csv(link)\n",
        "df.drop([\"Unnamed: 0\",\"index\"], axis=1, inplace=True)\n",
        "df = df.dropna()\n",
        "df.head()"
      ]
    },
    {
      "cell_type": "code",
      "execution_count": 4,
      "metadata": {
        "colab": {
          "base_uri": "https://localhost:8080/"
        },
        "id": "G27EUU1rCnUQ",
        "outputId": "6544ddcf-6dc9-4046-efe7-3cd0b09ec2d3"
      },
      "outputs": [
        {
          "name": "stdout",
          "output_type": "stream",
          "text": [
            "<class 'pandas.core.frame.DataFrame'>\n",
            "Int64Index: 12466 entries, 0 to 14999\n",
            "Data columns (total 14 columns):\n",
            " #   Column                 Non-Null Count  Dtype  \n",
            "---  ------                 --------------  -----  \n",
            " 0   data_ref               12466 non-null  object \n",
            " 1   sexo                   12466 non-null  object \n",
            " 2   posse_de_veiculo       12466 non-null  bool   \n",
            " 3   posse_de_imovel        12466 non-null  bool   \n",
            " 4   qtd_filhos             12466 non-null  int64  \n",
            " 5   tipo_renda             12466 non-null  object \n",
            " 6   educacao               12466 non-null  object \n",
            " 7   estado_civil           12466 non-null  object \n",
            " 8   tipo_residencia        12466 non-null  object \n",
            " 9   idade                  12466 non-null  int64  \n",
            " 10  tempo_emprego          12466 non-null  float64\n",
            " 11  qt_pessoas_residencia  12466 non-null  float64\n",
            " 12  mau                    12466 non-null  bool   \n",
            " 13  renda                  12466 non-null  float64\n",
            "dtypes: bool(3), float64(3), int64(2), object(6)\n",
            "memory usage: 1.4+ MB\n"
          ]
        }
      ],
      "source": [
        "# Verificando as informações da DataFrame\n",
        "df.info()"
      ]
    },
    {
      "cell_type": "markdown",
      "metadata": {
        "id": "K_s7N6giCnUR"
      },
      "source": [
        "## 1 Ajuste um modelo para prever log(renda) considerando todas as covariáveis disponíveis.\n",
        "    - Utilizando os recursos do Patsy, coloque as variáveis qualitativas como *dummies*.\n",
        "    - Mantenha sempre a categoria mais frequente como casela de referência\n",
        "    - Avalie os parâmetros e veja se parecem fazer sentido prático."
      ]
    },
    {
      "cell_type": "code",
      "execution_count": 5,
      "metadata": {
        "id": "9peOr6b7E4dm"
      },
      "outputs": [],
      "source": [
        "def mais_frequente(coluna: str) -> None:\n",
        "  '''\n",
        "  Função que analisa as categorias na variável recebida, imprimindo a mais\n",
        "  frequênte\n",
        "  :param coluna (str): Nome da coluna à ser analisada.\n",
        "  '''\n",
        "  print(coluna)\n",
        "  print(df[coluna].value_counts(normalize=True).index[0])"
      ]
    },
    {
      "cell_type": "code",
      "execution_count": 6,
      "metadata": {
        "colab": {
          "base_uri": "https://localhost:8080/"
        },
        "id": "gUrN7UXtFYRe",
        "outputId": "7807e7d2-7a54-4122-9497-ec9fcd2b95dd"
      },
      "outputs": [
        {
          "name": "stdout",
          "output_type": "stream",
          "text": [
            "sexo\n",
            "F\n",
            "----------\n",
            "posse_de_veiculo\n",
            "False\n",
            "----------\n",
            "posse_de_imovel\n",
            "True\n",
            "----------\n",
            "qtd_filhos\n",
            "0\n",
            "----------\n",
            "tipo_renda\n",
            "Assalariado\n",
            "----------\n",
            "educacao\n",
            "Secundário\n",
            "----------\n",
            "estado_civil\n",
            "Casado\n",
            "----------\n",
            "tipo_residencia\n",
            "Casa\n",
            "----------\n"
          ]
        }
      ],
      "source": [
        "# Verificando qual valor é mais frequênte em cada variável\n",
        "for c in range(1,9):\n",
        "  mais_frequente(coluna=df.columns[c])\n",
        "  print(\"-\"*10)"
      ]
    },
    {
      "cell_type": "code",
      "execution_count": 7,
      "metadata": {
        "colab": {
          "base_uri": "https://localhost:8080/"
        },
        "id": "Wlf3HowmGMQM",
        "outputId": "a3daaa89-a041-458d-96f8-0d986454abc8"
      },
      "outputs": [
        {
          "name": "stdout",
          "output_type": "stream",
          "text": [
            "qt_pessoas_residencia\n",
            "2.0\n"
          ]
        }
      ],
      "source": [
        "# Verificando qual valor é mais frequênte em cada variável\n",
        "mais_frequente(coluna=df.columns[11])"
      ]
    },
    {
      "cell_type": "code",
      "execution_count": 8,
      "metadata": {
        "colab": {
          "base_uri": "https://localhost:8080/"
        },
        "id": "3Jh8Is9TGUo9",
        "outputId": "d80d4ae8-957d-4b0d-f101-61afe4c18575"
      },
      "outputs": [
        {
          "name": "stdout",
          "output_type": "stream",
          "text": [
            "mau\n",
            "False\n"
          ]
        }
      ],
      "source": [
        "# Verificando qual valor é mais frequênte em cada variável\n",
        "mais_frequente(coluna=df.columns[12])"
      ]
    },
    {
      "cell_type": "code",
      "execution_count": 9,
      "metadata": {
        "colab": {
          "base_uri": "https://localhost:8080/"
        },
        "id": "YIml79VbCnUR",
        "outputId": "8178ae87-9d50-4d7c-b8c2-92d87f50dc3b"
      },
      "outputs": [
        {
          "name": "stdout",
          "output_type": "stream",
          "text": [
            "                            OLS Regression Results                            \n",
            "==============================================================================\n",
            "Dep. Variable:          np.log(renda)   R-squared:                       0.243\n",
            "Model:                            OLS   Adj. R-squared:                  0.241\n",
            "Method:                 Least Squares   F-statistic:                     113.9\n",
            "Date:                Thu, 28 Mar 2024   Prob (F-statistic):               0.00\n",
            "Time:                        18:39:46   Log-Likelihood:                -13195.\n",
            "No. Observations:               12466   AIC:                         2.646e+04\n",
            "Df Residuals:                   12430   BIC:                         2.673e+04\n",
            "Df Model:                          35                                         \n",
            "Covariance Type:            nonrobust                                         \n",
            "===============================================================================================================================\n",
            "                                                                  coef    std err          t      P>|t|      [0.025      0.975]\n",
            "-------------------------------------------------------------------------------------------------------------------------------\n",
            "Intercept                                                       7.3433      0.038    195.122      0.000       7.270       7.417\n",
            "C(sexo, Treatment('F'))[T.M]                                    0.4810      0.014     33.595      0.000       0.453       0.509\n",
            "C(posse_de_veiculo, Treatment(False))[T.True]                  -0.0016      0.014     -0.120      0.905      -0.029       0.025\n",
            "C(posse_de_imovel, Treatment(True))[T.False]                   -0.0860      0.014     -6.338      0.000      -0.113      -0.059\n",
            "C(qtd_filhos, Treatment(0))[T.1]                               -0.0389      0.131     -0.297      0.766      -0.295       0.217\n",
            "C(qtd_filhos, Treatment(0))[T.2]                                0.0986      0.267      0.369      0.712      -0.426       0.623\n",
            "C(qtd_filhos, Treatment(0))[T.3]                               -0.4639      0.471     -0.984      0.325      -1.388       0.460\n",
            "C(qtd_filhos, Treatment(0))[T.4]                               -0.1650      0.414     -0.398      0.691      -0.977       0.647\n",
            "C(qtd_filhos, Treatment(0))[T.5]                               -0.0338      0.399     -0.085      0.932      -0.815       0.747\n",
            "C(qtd_filhos, Treatment(0))[T.7]                               -0.4795      0.247     -1.941      0.052      -0.964       0.005\n",
            "C(qtd_filhos, Treatment(0))[T.14]                               0.0620      0.187      0.332      0.740      -0.304       0.428\n",
            "C(tipo_renda, Treatment('Assalariado'))[T.Bolsista]            -0.0497      0.350     -0.142      0.887      -0.735       0.636\n",
            "C(tipo_renda, Treatment('Assalariado'))[T.Empresário]           0.1791      0.015     12.240      0.000       0.150       0.208\n",
            "C(tipo_renda, Treatment('Assalariado'))[T.Pensionista]          0.4107      0.237      1.736      0.083      -0.053       0.875\n",
            "C(tipo_renda, Treatment('Assalariado'))[T.Servidor público]     0.0936      0.021      4.417      0.000       0.052       0.135\n",
            "C(educacao, Treatment('Secundário'))[T.Primário]               -0.0213      0.071     -0.300      0.764      -0.161       0.118\n",
            "C(educacao, Treatment('Secundário'))[T.Pós graduação]           0.5496      0.161      3.414      0.001       0.234       0.865\n",
            "C(educacao, Treatment('Secundário'))[T.Superior completo]       0.0963      0.013      7.153      0.000       0.070       0.123\n",
            "C(educacao, Treatment('Secundário'))[T.Superior incompleto]    -0.0277      0.031     -0.896      0.370      -0.088       0.033\n",
            "C(estado_civil, Treatment('Casado'))[T.Separado]               -0.0338      0.131     -0.258      0.796      -0.291       0.223\n",
            "C(estado_civil, Treatment('Casado'))[T.Solteiro]                0.0258      0.129      0.200      0.841      -0.227       0.279\n",
            "C(estado_civil, Treatment('Casado'))[T.União]                  -0.0243      0.023     -1.042      0.298      -0.070       0.021\n",
            "C(estado_civil, Treatment('Casado'))[T.Viúvo]                  -0.0343      0.135     -0.254      0.799      -0.299       0.230\n",
            "C(tipo_residencia, Treatment('Casa'))[T.Aluguel]               -0.0152      0.053     -0.286      0.775      -0.120       0.089\n",
            "C(tipo_residencia, Treatment('Casa'))[T.Com os pais]           -0.0731      0.029     -2.488      0.013      -0.131      -0.016\n",
            "C(tipo_residencia, Treatment('Casa'))[T.Comunitário]            0.0542      0.089      0.607      0.544      -0.121       0.229\n",
            "C(tipo_residencia, Treatment('Casa'))[T.Estúdio]               -0.1225      0.072     -1.705      0.088      -0.263       0.018\n",
            "C(tipo_residencia, Treatment('Casa'))[T.Governamental]         -0.0590      0.038     -1.562      0.118      -0.133       0.015\n",
            "C(qt_pessoas_residencia, Treatment(2.0))[T.1.0]                -0.0093      0.129     -0.072      0.943      -0.262       0.244\n",
            "C(qt_pessoas_residencia, Treatment(2.0))[T.3.0]                 0.0408      0.131      0.311      0.756      -0.216       0.298\n",
            "C(qt_pessoas_residencia, Treatment(2.0))[T.4.0]                -0.0407      0.268     -0.152      0.879      -0.566       0.485\n",
            "C(qt_pessoas_residencia, Treatment(2.0))[T.5.0]                 0.4828      0.475      1.017      0.309      -0.448       1.414\n",
            "C(qt_pessoas_residencia, Treatment(2.0))[T.6.0]                 0.3717      0.399      0.933      0.351      -0.409       1.153\n",
            "C(qt_pessoas_residencia, Treatment(2.0))[T.7.0]                -0.5705      0.638     -0.895      0.371      -1.821       0.680\n",
            "C(qt_pessoas_residencia, Treatment(2.0))[T.9.0]                -0.4795      0.247     -1.941      0.052      -0.964       0.005\n",
            "C(qt_pessoas_residencia, Treatment(2.0))[T.15.0]                0.0620      0.187      0.332      0.740      -0.304       0.428\n",
            "C(mau, Treatment(False))[T.True]                               -0.0349      0.042     -0.839      0.402      -0.116       0.047\n",
            "idade                                                           0.0051      0.001      6.438      0.000       0.004       0.007\n",
            "tempo_emprego                                                   0.0482      0.001     48.301      0.000       0.046       0.050\n",
            "==============================================================================\n",
            "Omnibus:                        1.371   Durbin-Watson:                   2.017\n",
            "Prob(Omnibus):                  0.504   Jarque-Bera (JB):                1.348\n",
            "Skew:                          -0.012   Prob(JB):                        0.510\n",
            "Kurtosis:                       3.045   Cond. No.                     1.03e+16\n",
            "==============================================================================\n",
            "\n",
            "Notes:\n",
            "[1] Standard Errors assume that the covariance matrix of the errors is correctly specified.\n",
            "[2] The smallest eigenvalue is 2.14e-25. This might indicate that there are\n",
            "strong multicollinearity problems or that the design matrix is singular.\n"
          ]
        }
      ],
      "source": [
        "# Obtendo o modelo de regressão com as categorias mais frequêntes nas caselas\n",
        "formula = '''\n",
        "              np.log(renda) ~\n",
        "                idade +\n",
        "                tempo_emprego +\n",
        "                C(sexo, Treatment('F')) +\n",
        "                C(posse_de_veiculo, Treatment(False)) +\n",
        "                C(posse_de_imovel, Treatment(True)) +\n",
        "                C(qtd_filhos, Treatment(0)) +\n",
        "                C(tipo_renda, Treatment('Assalariado')) +\n",
        "                C(educacao, Treatment('Secundário')) +\n",
        "                C(estado_civil, Treatment('Casado')) +\n",
        "                C(tipo_residencia, Treatment('Casa')) +\n",
        "                C(qt_pessoas_residencia, Treatment(2.0)) +\n",
        "                C(mau, Treatment(False))\n",
        "          '''\n",
        "y, x = patsy.dmatrices(formula, df)\n",
        "modelo = sm.OLS(y, x).fit()\n",
        "print(modelo.summary())"
      ]
    },
    {
      "cell_type": "markdown",
      "metadata": {
        "id": "s-Xx2CZAR2KP"
      },
      "source": [
        "### Conclusão:\n",
        "\n",
        "- De modo geral, as variáveis com menor significância são as quantitativas;\n",
        "- Uma análise de variáveis deve ser feito para verificar a relevância, pois algumas delas não são significativas nesse contexto;"
      ]
    },
    {
      "cell_type": "markdown",
      "metadata": {
        "id": "OGpuyjUQDXAh"
      },
      "source": [
        "\n",
        "\n",
        "---\n",
        "\n"
      ]
    },
    {
      "cell_type": "markdown",
      "metadata": {
        "id": "LFkxCv9qDON5"
      },
      "source": [
        "## 2 Remova a variável menos significante e analise:\n",
        "    - Observe os indicadores que vimos, e avalie se o modelo melhorou ou piorou na sua opinião.\n",
        "    - Observe os parâmetros e veja se algum se alterou muito."
      ]
    },
    {
      "cell_type": "code",
      "execution_count": 10,
      "metadata": {
        "colab": {
          "base_uri": "https://localhost:8080/"
        },
        "id": "zrZde6luIWZ3",
        "outputId": "520c82ee-0093-40fa-d5c5-60aa9d440b6b"
      },
      "outputs": [
        {
          "name": "stdout",
          "output_type": "stream",
          "text": [
            "                            OLS Regression Results                            \n",
            "==============================================================================\n",
            "Dep. Variable:          np.log(renda)   R-squared:                       0.241\n",
            "Model:                            OLS   Adj. R-squared:                  0.240\n",
            "Method:                 Least Squares   F-statistic:                     232.8\n",
            "Date:                Thu, 28 Mar 2024   Prob (F-statistic):               0.00\n",
            "Time:                        18:39:46   Log-Likelihood:                -13209.\n",
            "No. Observations:               12466   AIC:                         2.645e+04\n",
            "Df Residuals:                   12448   BIC:                         2.659e+04\n",
            "Df Model:                          17                                         \n",
            "Covariance Type:            nonrobust                                         \n",
            "===============================================================================================================================\n",
            "                                                                  coef    std err          t      P>|t|      [0.025      0.975]\n",
            "-------------------------------------------------------------------------------------------------------------------------------\n",
            "Intercept                                                       7.3655      0.033    226.410      0.000       7.302       7.429\n",
            "C(sexo, Treatment('F'))[T.M]                                    0.4862      0.013     36.430      0.000       0.460       0.512\n",
            "C(posse_de_imovel, Treatment(True))[T.False]                   -0.0870      0.014     -6.441      0.000      -0.113      -0.061\n",
            "C(tipo_renda, Treatment('Assalariado'))[T.Bolsista]            -0.0448      0.350     -0.128      0.898      -0.730       0.641\n",
            "C(tipo_renda, Treatment('Assalariado'))[T.Empresário]           0.1777      0.015     12.181      0.000       0.149       0.206\n",
            "C(tipo_renda, Treatment('Assalariado'))[T.Pensionista]          0.3805      0.233      1.632      0.103      -0.077       0.837\n",
            "C(tipo_renda, Treatment('Assalariado'))[T.Servidor público]     0.0968      0.021      4.574      0.000       0.055       0.138\n",
            "C(educacao, Treatment('Secundário'))[T.Primário]               -0.0234      0.071     -0.329      0.742      -0.162       0.116\n",
            "C(educacao, Treatment('Secundário'))[T.Pós graduação]           0.5441      0.161      3.387      0.001       0.229       0.859\n",
            "C(educacao, Treatment('Secundário'))[T.Superior completo]       0.0965      0.013      7.213      0.000       0.070       0.123\n",
            "C(educacao, Treatment('Secundário'))[T.Superior incompleto]    -0.0261      0.031     -0.846      0.397      -0.087       0.034\n",
            "C(tipo_residencia, Treatment('Casa'))[T.Aluguel]               -0.0143      0.053     -0.269      0.788      -0.119       0.090\n",
            "C(tipo_residencia, Treatment('Casa'))[T.Com os pais]           -0.0753      0.029     -2.565      0.010      -0.133      -0.018\n",
            "C(tipo_residencia, Treatment('Casa'))[T.Comunitário]            0.0381      0.088      0.431      0.667      -0.135       0.212\n",
            "C(tipo_residencia, Treatment('Casa'))[T.Estúdio]               -0.1218      0.072     -1.699      0.089      -0.262       0.019\n",
            "C(tipo_residencia, Treatment('Casa'))[T.Governamental]         -0.0692      0.038     -1.845      0.065      -0.143       0.004\n",
            "idade                                                           0.0045      0.001      6.195      0.000       0.003       0.006\n",
            "tempo_emprego                                                   0.0484      0.001     48.643      0.000       0.046       0.050\n",
            "==============================================================================\n",
            "Omnibus:                        0.975   Durbin-Watson:                   2.015\n",
            "Prob(Omnibus):                  0.614   Jarque-Bera (JB):                0.942\n",
            "Skew:                          -0.012   Prob(JB):                        0.624\n",
            "Kurtosis:                       3.035   Cond. No.                     2.38e+03\n",
            "==============================================================================\n",
            "\n",
            "Notes:\n",
            "[1] Standard Errors assume that the covariance matrix of the errors is correctly specified.\n",
            "[2] The condition number is large, 2.38e+03. This might indicate that there are\n",
            "strong multicollinearity or other numerical problems.\n"
          ]
        }
      ],
      "source": [
        "'''\n",
        "Obtendo o modelo de regressão com as categorias mais frequêntes nas caselas\n",
        "Retirando as não significativas.\n",
        "'''\n",
        "formula = '''\n",
        "                np.log(renda) ~\n",
        "                idade +\n",
        "                tempo_emprego +\n",
        "                C(sexo, Treatment('F')) +\n",
        "                C(posse_de_imovel, Treatment(True)) +\n",
        "                C(tipo_renda, Treatment('Assalariado')) +\n",
        "                C(educacao, Treatment('Secundário')) +\n",
        "                C(tipo_residencia, Treatment('Casa'))\n",
        "          '''\n",
        "y, x = patsy.dmatrices(formula, df)\n",
        "modelo = sm.OLS(y, x).fit()\n",
        "print(modelo.summary())"
      ]
    },
    {
      "cell_type": "code",
      "execution_count": 11,
      "metadata": {
        "colab": {
          "base_uri": "https://localhost:8080/"
        },
        "id": "xZzbZ0GDNywb",
        "outputId": "adfe05d2-5ae6-4aef-9cbc-eef4c28ac345"
      },
      "outputs": [
        {
          "name": "stdout",
          "output_type": "stream",
          "text": [
            "                            OLS Regression Results                            \n",
            "==============================================================================\n",
            "Dep. Variable:          np.log(renda)   R-squared:                       0.068\n",
            "Model:                            OLS   Adj. R-squared:                  0.067\n",
            "Method:                 Least Squares   F-statistic:                     60.60\n",
            "Date:                Thu, 28 Mar 2024   Prob (F-statistic):          1.96e-177\n",
            "Time:                        18:39:46   Log-Likelihood:                -14490.\n",
            "No. Observations:               12466   AIC:                         2.901e+04\n",
            "Df Residuals:                   12450   BIC:                         2.913e+04\n",
            "Df Model:                          15                                         \n",
            "Covariance Type:            nonrobust                                         \n",
            "===============================================================================================================================\n",
            "                                                                  coef    std err          t      P>|t|      [0.025      0.975]\n",
            "-------------------------------------------------------------------------------------------------------------------------------\n",
            "Intercept                                                       7.9859      0.013    624.998      0.000       7.961       8.011\n",
            "C(sexo, Treatment('F'))[T.M]                                    0.3802      0.015     26.097      0.000       0.352       0.409\n",
            "C(posse_de_imovel, Treatment(True))[T.False]                   -0.0828      0.015     -5.544      0.000      -0.112      -0.054\n",
            "C(tipo_renda, Treatment('Assalariado'))[T.Bolsista]             0.1116      0.387      0.288      0.773      -0.648       0.871\n",
            "C(tipo_renda, Treatment('Assalariado'))[T.Empresário]           0.1201      0.016      7.451      0.000       0.089       0.152\n",
            "C(tipo_renda, Treatment('Assalariado'))[T.Pensionista]          0.3506      0.258      1.357      0.175      -0.156       0.857\n",
            "C(tipo_renda, Treatment('Assalariado'))[T.Servidor público]     0.2252      0.023      9.674      0.000       0.180       0.271\n",
            "C(educacao, Treatment('Secundário'))[T.Primário]               -0.1659      0.079     -2.113      0.035      -0.320      -0.012\n",
            "C(educacao, Treatment('Secundário'))[T.Pós graduação]           0.3842      0.178      2.158      0.031       0.035       0.733\n",
            "C(educacao, Treatment('Secundário'))[T.Superior completo]       0.0682      0.015      4.630      0.000       0.039       0.097\n",
            "C(educacao, Treatment('Secundário'))[T.Superior incompleto]    -0.0960      0.034     -2.834      0.005      -0.162      -0.030\n",
            "C(tipo_residencia, Treatment('Casa'))[T.Aluguel]               -0.1308      0.059     -2.219      0.027      -0.246      -0.015\n",
            "C(tipo_residencia, Treatment('Casa'))[T.Com os pais]           -0.2019      0.032     -6.287      0.000      -0.265      -0.139\n",
            "C(tipo_residencia, Treatment('Casa'))[T.Comunitário]           -0.0109      0.098     -0.111      0.912      -0.203       0.181\n",
            "C(tipo_residencia, Treatment('Casa'))[T.Estúdio]               -0.0386      0.079     -0.487      0.627      -0.194       0.117\n",
            "C(tipo_residencia, Treatment('Casa'))[T.Governamental]         -0.0689      0.042     -1.658      0.097      -0.150       0.013\n",
            "==============================================================================\n",
            "Omnibus:                       45.991   Durbin-Watson:                   2.002\n",
            "Prob(Omnibus):                  0.000   Jarque-Bera (JB):               47.905\n",
            "Skew:                           0.129   Prob(JB):                     3.96e-11\n",
            "Kurtosis:                       3.161   Cond. No.                         69.6\n",
            "==============================================================================\n",
            "\n",
            "Notes:\n",
            "[1] Standard Errors assume that the covariance matrix of the errors is correctly specified.\n"
          ]
        }
      ],
      "source": [
        "'''\n",
        "Obtendo o modelo de regressão com as categorias mais frequêntes nas caselas\n",
        "Retirando as não significativas e as quantitativas.\n",
        "'''\n",
        "formula = '''\n",
        "                np.log(renda) ~\n",
        "                C(sexo, Treatment('F')) +\n",
        "                C(posse_de_imovel, Treatment(True)) +\n",
        "                C(tipo_renda, Treatment('Assalariado')) +\n",
        "                C(educacao, Treatment('Secundário')) +\n",
        "                C(tipo_residencia, Treatment('Casa'))\n",
        "          '''\n",
        "y, x = patsy.dmatrices(formula, df)\n",
        "modelo = sm.OLS(y, x).fit()\n",
        "print(modelo.summary())"
      ]
    },
    {
      "cell_type": "markdown",
      "metadata": {
        "id": "EfVHTOMlNcs8"
      },
      "source": [
        "### Conclusão\n",
        "\n",
        "- Métricas dos modelos:\n",
        "\n",
        "|Métrica|Todas as variáveis|Todas Variáveis Significativas|Variáveis Significativas Qualitativas|\n",
        "|-|-|-|-|\n",
        "|R²      |  0.243  | 0.241  | 0.068  |\n",
        "|R² ajust|  0.241  | 0.240  | 0.067  |\n",
        "|AIC     |  26.460 | 26.450 | 29.010 |\n",
        "<br>\n",
        "\n",
        "- As variáveis significativas foram:\n",
        "<br>- Sexo;\n",
        "<br>- Posse de Imóvel;\n",
        "<br>- Tipo da Renda;\n",
        "<br>- Educação;\n",
        "<br>- Tipo de Residência;\n",
        "\n",
        "\n",
        "- Removendo as variáveis não significativas, o modelo apresentou métricas sem mudanças significtivas.\n",
        "\n",
        "- A análise mostra que a presença das variáveis quantitativas é necessário para manter o coeficiente de diferenciação."
      ]
    },
    {
      "cell_type": "markdown",
      "metadata": {
        "id": "0Cxy8uzdDV3e"
      },
      "source": [
        "\n",
        "\n",
        "---\n",
        "\n"
      ]
    },
    {
      "cell_type": "markdown",
      "metadata": {
        "id": "83pgg-2KDThl"
      },
      "source": [
        "## 3. Siga removendo as variáveis menos significantes, sempre que o *p-value* for menor que 5%. Compare o modelo final com o inicial. Observe os indicadores e conclua se o modelo parece melhor."
      ]
    },
    {
      "cell_type": "code",
      "execution_count": 12,
      "metadata": {
        "colab": {
          "base_uri": "https://localhost:8080/"
        },
        "id": "1IvN-7HwSZks",
        "outputId": "474f79d5-dfa2-4e43-802d-1712c6b354ce"
      },
      "outputs": [
        {
          "name": "stdout",
          "output_type": "stream",
          "text": [
            "                            OLS Regression Results                            \n",
            "==============================================================================\n",
            "Dep. Variable:          np.log(renda)   R-squared:                       0.240\n",
            "Model:                            OLS   Adj. R-squared:                  0.240\n",
            "Method:                 Least Squares   F-statistic:                     328.5\n",
            "Date:                Thu, 28 Mar 2024   Prob (F-statistic):               0.00\n",
            "Time:                        18:39:47   Log-Likelihood:                -13215.\n",
            "No. Observations:               12466   AIC:                         2.646e+04\n",
            "Df Residuals:                   12453   BIC:                         2.655e+04\n",
            "Df Model:                          12                                         \n",
            "Covariance Type:            nonrobust                                         \n",
            "===============================================================================================================================\n",
            "                                                                  coef    std err          t      P>|t|      [0.025      0.975]\n",
            "-------------------------------------------------------------------------------------------------------------------------------\n",
            "Intercept                                                       7.3521      0.032    229.348      0.000       7.289       7.415\n",
            "C(sexo, Treatment('F'))[T.M]                                    0.4852      0.013     36.496      0.000       0.459       0.511\n",
            "C(posse_de_imovel, Treatment(True))[T.False]                   -0.0959      0.013     -7.258      0.000      -0.122      -0.070\n",
            "C(tipo_renda, Treatment('Assalariado'))[T.Bolsista]            -0.0446      0.350     -0.127      0.899      -0.730       0.641\n",
            "C(tipo_renda, Treatment('Assalariado'))[T.Empresário]           0.1778      0.015     12.186      0.000       0.149       0.206\n",
            "C(tipo_renda, Treatment('Assalariado'))[T.Pensionista]          0.3880      0.233      1.664      0.096      -0.069       0.845\n",
            "C(tipo_renda, Treatment('Assalariado'))[T.Servidor público]     0.0941      0.021      4.455      0.000       0.053       0.135\n",
            "C(educacao, Treatment('Secundário'))[T.Primário]               -0.0274      0.071     -0.387      0.699      -0.166       0.111\n",
            "C(educacao, Treatment('Secundário'))[T.Pós graduação]           0.5477      0.161      3.409      0.001       0.233       0.863\n",
            "C(educacao, Treatment('Secundário'))[T.Superior completo]       0.0968      0.013      7.248      0.000       0.071       0.123\n",
            "C(educacao, Treatment('Secundário'))[T.Superior incompleto]    -0.0265      0.031     -0.858      0.391      -0.087       0.034\n",
            "idade                                                           0.0048      0.001      6.602      0.000       0.003       0.006\n",
            "tempo_emprego                                                   0.0484      0.001     48.683      0.000       0.046       0.050\n",
            "==============================================================================\n",
            "Omnibus:                        0.894   Durbin-Watson:                   2.014\n",
            "Prob(Omnibus):                  0.640   Jarque-Bera (JB):                0.861\n",
            "Skew:                          -0.012   Prob(JB):                        0.650\n",
            "Kurtosis:                       3.033   Cond. No.                     2.38e+03\n",
            "==============================================================================\n",
            "\n",
            "Notes:\n",
            "[1] Standard Errors assume that the covariance matrix of the errors is correctly specified.\n",
            "[2] The condition number is large, 2.38e+03. This might indicate that there are\n",
            "strong multicollinearity or other numerical problems.\n"
          ]
        }
      ],
      "source": [
        "'''\n",
        "Obtendo o modelo de regressão com as categorias mais frequêntes nas caselas\n",
        "Retirando o tipo de residência.\n",
        "'''\n",
        "formula = '''\n",
        "                np.log(renda) ~\n",
        "                idade +\n",
        "                tempo_emprego +\n",
        "                C(sexo, Treatment('F')) +\n",
        "                C(posse_de_imovel, Treatment(True)) +\n",
        "                C(tipo_renda, Treatment('Assalariado')) +\n",
        "                C(educacao, Treatment('Secundário'))\n",
        "          '''\n",
        "y, x = patsy.dmatrices(formula, df)\n",
        "modelo = sm.OLS(y, x).fit()\n",
        "print(modelo.summary())"
      ]
    },
    {
      "cell_type": "code",
      "execution_count": 13,
      "metadata": {
        "colab": {
          "base_uri": "https://localhost:8080/"
        },
        "id": "bq640BXMSgsi",
        "outputId": "6b6dd047-21d3-4edd-f10c-7686d8beeee7"
      },
      "outputs": [
        {
          "name": "stdout",
          "output_type": "stream",
          "text": [
            "                            OLS Regression Results                            \n",
            "==============================================================================\n",
            "Dep. Variable:          np.log(renda)   R-squared:                       0.236\n",
            "Model:                            OLS   Adj. R-squared:                  0.236\n",
            "Method:                 Least Squares   F-statistic:                     481.8\n",
            "Date:                Thu, 28 Mar 2024   Prob (F-statistic):               0.00\n",
            "Time:                        18:39:47   Log-Likelihood:                -13249.\n",
            "No. Observations:               12466   AIC:                         2.652e+04\n",
            "Df Residuals:                   12457   BIC:                         2.658e+04\n",
            "Df Model:                           8                                         \n",
            "Covariance Type:            nonrobust                                         \n",
            "===============================================================================================================================\n",
            "                                                                  coef    std err          t      P>|t|      [0.025      0.975]\n",
            "-------------------------------------------------------------------------------------------------------------------------------\n",
            "Intercept                                                       7.3996      0.031    241.448      0.000       7.340       7.460\n",
            "C(sexo, Treatment('F'))[T.M]                                    0.4819      0.013     36.182      0.000       0.456       0.508\n",
            "C(posse_de_imovel, Treatment(True))[T.False]                   -0.1009      0.013     -7.625      0.000      -0.127      -0.075\n",
            "C(tipo_renda, Treatment('Assalariado'))[T.Bolsista]             0.0213      0.351      0.061      0.951      -0.666       0.708\n",
            "C(tipo_renda, Treatment('Assalariado'))[T.Empresário]           0.1866      0.015     12.806      0.000       0.158       0.215\n",
            "C(tipo_renda, Treatment('Assalariado'))[T.Pensionista]          0.4337      0.234      1.856      0.063      -0.024       0.892\n",
            "C(tipo_renda, Treatment('Assalariado'))[T.Servidor público]     0.1082      0.021      5.133      0.000       0.067       0.149\n",
            "idade                                                           0.0045      0.001      6.239      0.000       0.003       0.006\n",
            "tempo_emprego                                                   0.0484      0.001     48.558      0.000       0.046       0.050\n",
            "==============================================================================\n",
            "Omnibus:                        0.874   Durbin-Watson:                   2.011\n",
            "Prob(Omnibus):                  0.646   Jarque-Bera (JB):                0.845\n",
            "Skew:                          -0.004   Prob(JB):                        0.656\n",
            "Kurtosis:                       3.039   Cond. No.                     2.38e+03\n",
            "==============================================================================\n",
            "\n",
            "Notes:\n",
            "[1] Standard Errors assume that the covariance matrix of the errors is correctly specified.\n",
            "[2] The condition number is large, 2.38e+03. This might indicate that there are\n",
            "strong multicollinearity or other numerical problems.\n"
          ]
        }
      ],
      "source": [
        "'''\n",
        "Obtendo o modelo de regressão com as categorias mais frequêntes nas caselas\n",
        "Retirando educação.\n",
        "'''\n",
        "formula = '''\n",
        "                np.log(renda) ~\n",
        "                idade +\n",
        "                tempo_emprego +\n",
        "                C(sexo, Treatment('F')) +\n",
        "                C(posse_de_imovel, Treatment(True)) +\n",
        "                C(tipo_renda, Treatment('Assalariado'))\n",
        "          '''\n",
        "y, x = patsy.dmatrices(formula, df)\n",
        "modelo = sm.OLS(y, x).fit()\n",
        "print(modelo.summary())"
      ]
    },
    {
      "cell_type": "code",
      "execution_count": 14,
      "metadata": {
        "colab": {
          "base_uri": "https://localhost:8080/"
        },
        "id": "Je6b4Z_6TAlP",
        "outputId": "54c719f2-979b-4911-c1fb-3b20618d4d33"
      },
      "outputs": [
        {
          "name": "stdout",
          "output_type": "stream",
          "text": [
            "                            OLS Regression Results                            \n",
            "==============================================================================\n",
            "Dep. Variable:          np.log(renda)   R-squared:                       0.226\n",
            "Model:                            OLS   Adj. R-squared:                  0.225\n",
            "Method:                 Least Squares   F-statistic:                     907.7\n",
            "Date:                Thu, 28 Mar 2024   Prob (F-statistic):               0.00\n",
            "Time:                        18:39:47   Log-Likelihood:                -13335.\n",
            "No. Observations:               12466   AIC:                         2.668e+04\n",
            "Df Residuals:                   12461   BIC:                         2.672e+04\n",
            "Df Model:                           4                                         \n",
            "Covariance Type:            nonrobust                                         \n",
            "================================================================================================================\n",
            "                                                   coef    std err          t      P>|t|      [0.025      0.975]\n",
            "----------------------------------------------------------------------------------------------------------------\n",
            "Intercept                                        7.4751      0.030    246.812      0.000       7.416       7.534\n",
            "C(sexo, Treatment('F'))[T.M]                     0.4742      0.013     35.424      0.000       0.448       0.500\n",
            "C(posse_de_imovel, Treatment(True))[T.False]    -0.1018      0.013     -7.649      0.000      -0.128      -0.076\n",
            "idade                                            0.0043      0.001      5.958      0.000       0.003       0.006\n",
            "tempo_emprego                                    0.0479      0.001     48.283      0.000       0.046       0.050\n",
            "==============================================================================\n",
            "Omnibus:                        1.296   Durbin-Watson:                   2.008\n",
            "Prob(Omnibus):                  0.523   Jarque-Bera (JB):                1.272\n",
            "Skew:                           0.011   Prob(JB):                        0.529\n",
            "Kurtosis:                       3.045   Cond. No.                         207.\n",
            "==============================================================================\n",
            "\n",
            "Notes:\n",
            "[1] Standard Errors assume that the covariance matrix of the errors is correctly specified.\n"
          ]
        }
      ],
      "source": [
        "'''\n",
        "Obtendo o modelo de regressão com as categorias mais frequêntes nas caselas\n",
        "Retirando tipo de renda.\n",
        "'''\n",
        "formula = '''\n",
        "                np.log(renda) ~\n",
        "                idade +\n",
        "                tempo_emprego +\n",
        "                C(sexo, Treatment('F')) +\n",
        "                C(posse_de_imovel, Treatment(True))\n",
        "          '''\n",
        "y, x = patsy.dmatrices(formula, df)\n",
        "modelo = sm.OLS(y, x).fit()\n",
        "print(modelo.summary())"
      ]
    },
    {
      "cell_type": "code",
      "execution_count": 15,
      "metadata": {
        "colab": {
          "base_uri": "https://localhost:8080/"
        },
        "id": "BJzPMDutTTEU",
        "outputId": "052d8e57-7d67-4ea8-d71d-cf3d5807bd49"
      },
      "outputs": [
        {
          "name": "stdout",
          "output_type": "stream",
          "text": [
            "                            OLS Regression Results                            \n",
            "==============================================================================\n",
            "Dep. Variable:          np.log(renda)   R-squared:                       0.222\n",
            "Model:                            OLS   Adj. R-squared:                  0.222\n",
            "Method:                 Least Squares   F-statistic:                     1185.\n",
            "Date:                Thu, 28 Mar 2024   Prob (F-statistic):               0.00\n",
            "Time:                        18:39:47   Log-Likelihood:                -13365.\n",
            "No. Observations:               12466   AIC:                         2.674e+04\n",
            "Df Residuals:                   12462   BIC:                         2.677e+04\n",
            "Df Model:                           3                                         \n",
            "Covariance Type:            nonrobust                                         \n",
            "================================================================================================\n",
            "                                   coef    std err          t      P>|t|      [0.025      0.975]\n",
            "------------------------------------------------------------------------------------------------\n",
            "Intercept                        7.4233      0.030    250.891      0.000       7.365       7.481\n",
            "C(sexo, Treatment('F'))[T.M]     0.4722      0.013     35.203      0.000       0.446       0.499\n",
            "idade                            0.0047      0.001      6.608      0.000       0.003       0.006\n",
            "tempo_emprego                    0.0476      0.001     47.965      0.000       0.046       0.050\n",
            "==============================================================================\n",
            "Omnibus:                        1.044   Durbin-Watson:                   2.007\n",
            "Prob(Omnibus):                  0.593   Jarque-Bera (JB):                1.016\n",
            "Skew:                           0.009   Prob(JB):                        0.602\n",
            "Kurtosis:                       3.041   Cond. No.                         201.\n",
            "==============================================================================\n",
            "\n",
            "Notes:\n",
            "[1] Standard Errors assume that the covariance matrix of the errors is correctly specified.\n"
          ]
        }
      ],
      "source": [
        "'''\n",
        "Obtendo o modelo de regressão com as categorias mais frequêntes nas caselas\n",
        "Retirando posse de imóvel.\n",
        "'''\n",
        "formula = '''\n",
        "                np.log(renda) ~\n",
        "                idade +\n",
        "                tempo_emprego +\n",
        "                C(sexo, Treatment('F'))\n",
        "          '''\n",
        "y, x = patsy.dmatrices(formula, df)\n",
        "modelo = sm.OLS(y, x).fit()\n",
        "print(modelo.summary())"
      ]
    },
    {
      "cell_type": "code",
      "execution_count": 16,
      "metadata": {
        "colab": {
          "base_uri": "https://localhost:8080/"
        },
        "id": "5un4jf1oTf30",
        "outputId": "0fb428b8-d8ca-41be-d9ff-0fc53d45a7c4"
      },
      "outputs": [
        {
          "name": "stdout",
          "output_type": "stream",
          "text": [
            "                            OLS Regression Results                            \n",
            "==============================================================================\n",
            "Dep. Variable:          np.log(renda)   R-squared:                       0.148\n",
            "Model:                            OLS   Adj. R-squared:                  0.147\n",
            "Method:                 Least Squares   F-statistic:                     719.6\n",
            "Date:                Thu, 28 Mar 2024   Prob (F-statistic):               0.00\n",
            "Time:                        18:39:47   Log-Likelihood:                -13933.\n",
            "No. Observations:               12466   AIC:                         2.787e+04\n",
            "Df Residuals:                   12462   BIC:                         2.790e+04\n",
            "Df Model:                           3                                         \n",
            "Covariance Type:            nonrobust                                         \n",
            "================================================================================================================\n",
            "                                                   coef    std err          t      P>|t|      [0.025      0.975]\n",
            "----------------------------------------------------------------------------------------------------------------\n",
            "Intercept                                        7.7750      0.031    254.863      0.000       7.715       7.835\n",
            "C(posse_de_imovel, Treatment(True))[T.False]    -0.0928      0.014     -6.645      0.000      -0.120      -0.065\n",
            "idade                                            0.0017      0.001      2.315      0.021       0.000       0.003\n",
            "tempo_emprego                                    0.0441      0.001     42.650      0.000       0.042       0.046\n",
            "==============================================================================\n",
            "Omnibus:                        3.816   Durbin-Watson:                   2.016\n",
            "Prob(Omnibus):                  0.148   Jarque-Bera (JB):                3.785\n",
            "Skew:                           0.038   Prob(JB):                        0.151\n",
            "Kurtosis:                       3.039   Cond. No.                         197.\n",
            "==============================================================================\n",
            "\n",
            "Notes:\n",
            "[1] Standard Errors assume that the covariance matrix of the errors is correctly specified.\n"
          ]
        }
      ],
      "source": [
        "'''\n",
        "Obtendo o modelo de regressão com as categorias mais frequêntes nas caselas\n",
        "Retirando sexo.\n",
        "'''\n",
        "formula = '''\n",
        "                np.log(renda) ~\n",
        "                idade +\n",
        "                tempo_emprego +\n",
        "                C(posse_de_imovel, Treatment(True))\n",
        "          '''\n",
        "y, x = patsy.dmatrices(formula, df)\n",
        "modelo = sm.OLS(y, x).fit()\n",
        "print(modelo.summary())"
      ]
    },
    {
      "cell_type": "markdown",
      "metadata": {
        "id": "cJBgzEX6U7nq"
      },
      "source": [
        "### Conclusão\n",
        "\n",
        "- O modelo teve uma redução na capacidade explicativa da variável dependente, quando as varíaveis qualitativas foram retiradas.\n",
        "\n",
        "|Variável|R²|R² ajust| AIC|\n",
        "|-|-|-|-|\n",
        "|tipo de residência | 0.240|0.240|2.646e+04|\n",
        "|educação           | 0.236|0.236|2.652e+04|\n",
        "|tipo de renda      | 0.226|0.225|2.668e+04|\n",
        "|posse de imóvel    | 0.222|0.222|2.674e+04|\n",
        "|sexo               | 0.148|0.147|2.787e+04|\n",
        "<br>\n",
        "\n",
        "- A variável com o maior poder explicativo parece ser sexo, seguido de posse de imóvel;\n",
        "- Já o R² ajustado segue o mesmo padrão de redução do R², mostrando que a retirada das variévis têm pouco impacto nessa métrica.\n",
        "- O AIC aumentou, à medida que variáveis foram retiradas, mostrando sua relevância;\n",
        "- O modelo mais equilibrado seria o que utiliza:\n",
        "<br>-idade\n",
        "<br>-tempo_emprego\n",
        "<br>-sexo (casela F)\n",
        "<br>-posse_de_imovel (casela True)\n",
        "<br>-tipo_renda (casel Assalariado"
      ]
    },
    {
      "cell_type": "code",
      "execution_count": 16,
      "metadata": {
        "id": "x0ICWi43Tq0j"
      },
      "outputs": [],
      "source": []
    }
  ],
  "metadata": {
    "colab": {
      "provenance": [],
      "toc_visible": true
    },
    "kernelspec": {
      "display_name": "Python 3",
      "language": "python",
      "name": "python3"
    },
    "language_info": {
      "codemirror_mode": {
        "name": "ipython",
        "version": 3
      },
      "file_extension": ".py",
      "mimetype": "text/x-python",
      "name": "python",
      "nbconvert_exporter": "python",
      "pygments_lexer": "ipython3",
      "version": "3.8.5"
    }
  },
  "nbformat": 4,
  "nbformat_minor": 0
}
