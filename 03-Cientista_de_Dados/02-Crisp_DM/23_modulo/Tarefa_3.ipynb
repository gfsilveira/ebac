{
 "cells": [
  {
   "cell_type": "markdown",
   "metadata": {},
   "source": [
    "# Quais são e para que serve cada um dos hyperparâmetros do RF?"
   ]
  },
  {
   "cell_type": "markdown",
   "metadata": {},
   "source": [
    "## Out-of-bag (OOB)\n",
    "\n",
    "Instância que é retirada do dataset original, antes da determinação das datasets amostrais\n",
    "\n",
    "- valor comum: 1"
   ]
  },
  {
   "cell_type": "markdown",
   "metadata": {},
   "source": [
    "## Max features\n",
    "\n",
    "Número máximo de variáveis/caracteristicas que serão selecionadas para compor os datasets amostrais\n",
    "- valor comum: quadrado ou raiz"
   ]
  },
  {
   "cell_type": "markdown",
   "metadata": {},
   "source": [
    "## N estimators\n",
    "\n",
    "Número de árvores que serão obtidas para formar a base learning. Esse hiperparâmetro é o mesmo do número de datasets amostrais.\n",
    "- valor comum: 10% do número de instâncias"
   ]
  },
  {
   "cell_type": "markdown",
   "metadata": {},
   "source": [
    "## Min samples leaf\n",
    "\n",
    "Número mínimo de instâncias presentes nas folhas\n",
    "- valor comum: 4"
   ]
  },
  {
   "cell_type": "markdown",
   "metadata": {},
   "source": [
    "## Max depth\n",
    "\n",
    "Profundidade máxima das árvores\n",
    "- valor comum: 100"
   ]
  },
  {
   "cell_type": "markdown",
   "metadata": {},
   "source": [
    "## Min samples split\n",
    "Número mínimo de instâncias colocados em um nó antes que o nó seja dividido\n",
    "- valor comum: 10"
   ]
  },
  {
   "cell_type": "markdown",
   "metadata": {},
   "source": [
    "## Critério\n",
    "\n",
    "Métrica de avaliação da qualidade da divisão das folhas\n",
    "- valor comum: Gini impurity, entropy"
   ]
  }
 ],
 "metadata": {
  "language_info": {
   "name": "python"
  }
 },
 "nbformat": 4,
 "nbformat_minor": 2
}
