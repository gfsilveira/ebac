{
  "cells": [
    {
      "cell_type": "markdown",
      "metadata": {
        "id": "rhT3WHd-MrBD"
      },
      "source": [
        "**Cientista de Dados EBAC** -> Exercício Módulo 8"
      ]
    },
    {
      "cell_type": "markdown",
      "metadata": {
        "id": "ym81JDq68HP2"
      },
      "source": [
        "# 1 Erros de sintaxe"
      ]
    },
    {
      "cell_type": "markdown",
      "metadata": {
        "id": "q5ImXwZsv5PT"
      },
      "source": [
        "## Identifique o erro de sintaxe nos trechos de código abaixo e corrija-os para que o trecho de código funcione."
      ]
    },
    {
      "cell_type": "markdown",
      "source": [
        "- Laço de repetição"
      ],
      "metadata": {
        "id": "DFArXMFg2fSl"
      }
    },
    {
      "cell_type": "code",
      "execution_count": 1,
      "metadata": {
        "colab": {
          "base_uri": "https://localhost:8080/",
          "height": 140
        },
        "id": "S1JS_m4htyYs",
        "outputId": "9aa4bff1-2392-491d-e471-462a5422871f"
      },
      "outputs": [
        {
          "output_type": "error",
          "ename": "SyntaxError",
          "evalue": "unterminated string literal (detected at line 4) (<ipython-input-1-3fb55843cacf>, line 4)",
          "traceback": [
            "\u001b[0;36m  File \u001b[0;32m\"<ipython-input-1-3fb55843cacf>\"\u001b[0;36m, line \u001b[0;32m4\u001b[0m\n\u001b[0;31m    print(f'Para o documento {chave}, o valor do escore de crédito é {valor}.\")\u001b[0m\n\u001b[0m          ^\u001b[0m\n\u001b[0;31mSyntaxError\u001b[0m\u001b[0;31m:\u001b[0m unterminated string literal (detected at line 4)\n"
          ]
        }
      ],
      "source": [
        "credito = {'123': 750, '456': 812, '789': 980}\n",
        "\n",
        "for chave, valor in credito.items():\n",
        "  print(f'Para o documento {chave}, o valor do escore de crédito é {valor}.\")"
      ]
    },
    {
      "cell_type": "markdown",
      "source": [
        "R.: O erro está na falta nas aspas da string. Abertura e fechamento da string precisar ter as mesmas aspas, duplas ou simples."
      ],
      "metadata": {
        "id": "yd7ESwKX3HEa"
      }
    },
    {
      "cell_type": "code",
      "source": [
        "credito = {'123': 750, '456': 812, '789': 980}\n",
        "\n",
        "for chave, valor in credito.items():\n",
        "  print(f\"Para o documento {chave}, o valor do escore de crédito é {valor}.\")"
      ],
      "metadata": {
        "colab": {
          "base_uri": "https://localhost:8080/"
        },
        "id": "X41jwFbH3dHs",
        "outputId": "547bf4ed-3769-4780-a8c6-85674b670c52"
      },
      "execution_count": 2,
      "outputs": [
        {
          "output_type": "stream",
          "name": "stdout",
          "text": [
            "Para o documento 123, o valor do escore de crédito é 750.\n",
            "Para o documento 456, o valor do escore de crédito é 812.\n",
            "Para o documento 789, o valor do escore de crédito é 980.\n"
          ]
        }
      ]
    },
    {
      "cell_type": "markdown",
      "metadata": {
        "id": "Te1qqMbLwI7M"
      },
      "source": [
        "- Funções"
      ]
    },
    {
      "cell_type": "code",
      "execution_count": 3,
      "metadata": {
        "id": "OAMvCgLH8wm2",
        "colab": {
          "base_uri": "https://localhost:8080/",
          "height": 140
        },
        "outputId": "42291897-aa92-451f-8a86-872ea98b4fdf"
      },
      "outputs": [
        {
          "output_type": "error",
          "ename": "SyntaxError",
          "evalue": "expected ':' (<ipython-input-3-56ff1fca92a3>, line 1)",
          "traceback": [
            "\u001b[0;36m  File \u001b[0;32m\"<ipython-input-3-56ff1fca92a3>\"\u001b[0;36m, line \u001b[0;32m1\u001b[0m\n\u001b[0;31m    def pi() --> float:\u001b[0m\n\u001b[0m             ^\u001b[0m\n\u001b[0;31mSyntaxError\u001b[0m\u001b[0;31m:\u001b[0m expected ':'\n"
          ]
        }
      ],
      "source": [
        "def pi() --> float:\n",
        "  return 3.14159265359\n",
        "\n",
        "pi = pi()\n",
        "print(pi)"
      ]
    },
    {
      "cell_type": "markdown",
      "metadata": {
        "id": "_aGProt6wOSF"
      },
      "source": [
        "R.: Na indição do typing da função, que deve ter apenas um ífem (-) não dois (--) como está no código."
      ]
    },
    {
      "cell_type": "code",
      "source": [
        "def pi() -> float:\n",
        "  return 3.14159265359\n",
        "\n",
        "pi = pi()\n",
        "print(pi)"
      ],
      "metadata": {
        "colab": {
          "base_uri": "https://localhost:8080/"
        },
        "id": "kwDRdVT93_EO",
        "outputId": "65414a41-5d0f-46bb-ddfe-9d62dc2b5793"
      },
      "execution_count": 4,
      "outputs": [
        {
          "output_type": "stream",
          "name": "stdout",
          "text": [
            "3.14159265359\n"
          ]
        }
      ]
    },
    {
      "cell_type": "markdown",
      "metadata": {
        "id": "H4qgOlghwfdl"
      },
      "source": [
        "- Programação Funcional"
      ]
    },
    {
      "cell_type": "code",
      "execution_count": 5,
      "metadata": {
        "colab": {
          "base_uri": "https://localhost:8080/",
          "height": 140
        },
        "id": "sz0CcPj98z4M",
        "outputId": "28de84db-689d-4fc5-f914-73c81b7b383f"
      },
      "outputs": [
        {
          "output_type": "error",
          "ename": "SyntaxError",
          "evalue": "unterminated string literal (detected at line 2) (<ipython-input-5-c33190bce3c5>, line 2)",
          "traceback": [
            "\u001b[0;36m  File \u001b[0;32m\"<ipython-input-5-c33190bce3c5>\"\u001b[0;36m, line \u001b[0;32m2\u001b[0m\n\u001b[0;31m    provedor_da_google = lambda email: 'gmail in email\u001b[0m\n\u001b[0m                                       ^\u001b[0m\n\u001b[0;31mSyntaxError\u001b[0m\u001b[0;31m:\u001b[0m unterminated string literal (detected at line 2)\n"
          ]
        }
      ],
      "source": [
        "emails = ['andre.perez@gmail.com', 'andre.perez@live.com', 'andre.perez@yahoo.com']\n",
        "provedor_da_google = lambda email: 'gmail in email\n",
        "\n",
        "emails_google = filter(provedor_da_google, emails)\n",
        "print(list(emails_google))"
      ]
    },
    {
      "cell_type": "markdown",
      "source": [
        "R.: O erro está na construção da função lambda, que deve ter o formato lambda <variável>: <condição>. No caso dessa função, para a condição de processamento da variável email, a string precisa ser fechada com uma aspas simples"
      ],
      "metadata": {
        "id": "DIfv79AU4Lrb"
      }
    },
    {
      "cell_type": "code",
      "source": [
        "emails = ['andre.perez@gmail.com', 'andre.perez@live.com', 'andre.perez@yahoo.com']\n",
        "provedor_da_google = lambda email: 'gmail' in email\n",
        "\n",
        "emails_google = filter(provedor_da_google, emails)\n",
        "print(list(emails_google))"
      ],
      "metadata": {
        "colab": {
          "base_uri": "https://localhost:8080/"
        },
        "id": "qX5uhdx94leH",
        "outputId": "6633c5af-b1ee-415e-ce4a-86d8f02fa3aa"
      },
      "execution_count": 6,
      "outputs": [
        {
          "output_type": "stream",
          "name": "stdout",
          "text": [
            "['andre.perez@gmail.com']\n"
          ]
        }
      ]
    },
    {
      "cell_type": "markdown",
      "metadata": {
        "id": "e6UsJcA8wiPc"
      },
      "source": [
        "- Programação orientação a objetos"
      ]
    },
    {
      "cell_type": "code",
      "execution_count": 7,
      "metadata": {
        "colab": {
          "base_uri": "https://localhost:8080/",
          "height": 140
        },
        "id": "R_p-X34kwoMU",
        "outputId": "d8cfec5e-633c-4d3f-e4bf-94c91f63eb0d"
      },
      "outputs": [
        {
          "output_type": "error",
          "ename": "SyntaxError",
          "evalue": "invalid syntax (<ipython-input-7-37cd340c5fe3>, line 3)",
          "traceback": [
            "\u001b[0;36m  File \u001b[0;32m\"<ipython-input-7-37cd340c5fe3>\"\u001b[0;36m, line \u001b[0;32m3\u001b[0m\n\u001b[0;31m    def __init__(self nome: str, idade: int, documento: str):\u001b[0m\n\u001b[0m                      ^\u001b[0m\n\u001b[0;31mSyntaxError\u001b[0m\u001b[0;31m:\u001b[0m invalid syntax\n"
          ]
        }
      ],
      "source": [
        "class Pessoa(object):\n",
        "\n",
        "  def __init__(self nome: str, idade: int, documento: str):\n",
        "    self.nome = nome\n",
        "    self.idade = idade\n",
        "    self.documento = documento\n",
        "\n",
        "andre = Pessoa(nome=\"Andre\", idade=30, document=\"123\")"
      ]
    },
    {
      "cell_type": "markdown",
      "source": [
        "R.: O primeiro erro está na definição da função init da classe, onde cada parâmetro precisa ser separado por vírgula, o que faltou depois do self.\n",
        "\n",
        "Um segundo erro está na chamada da função, onde a sintaxe, onde o parâmetro documento é chamdo de document."
      ],
      "metadata": {
        "id": "pXWP09md5DpP"
      }
    },
    {
      "cell_type": "code",
      "execution_count": 8,
      "metadata": {
        "colab": {
          "base_uri": "https://localhost:8080/"
        },
        "id": "-CzFJrYMwoxj",
        "outputId": "8f66e113-8896-4f1f-e02d-c5ed48608ac4"
      },
      "outputs": [
        {
          "output_type": "stream",
          "name": "stdout",
          "text": [
            "Andre\n",
            "30\n",
            "123\n"
          ]
        }
      ],
      "source": [
        "class Pessoa(object):\n",
        "\n",
        "  def __init__(self, nome: str, idade: int, documento: str):\n",
        "    self.nome = nome\n",
        "    self.idade = idade\n",
        "    self.documento = documento\n",
        "\n",
        "andre = Pessoa(nome=\"Andre\", idade=30, documento=\"123\")\n",
        "print(andre.nome)\n",
        "print(andre.idade)\n",
        "print(andre.documento)"
      ]
    },
    {
      "cell_type": "markdown",
      "metadata": {
        "id": "UBv8RsVK8HP3"
      },
      "source": [
        "---"
      ]
    },
    {
      "cell_type": "markdown",
      "metadata": {
        "id": "ceeZRJF6BBra"
      },
      "source": [
        "# 2. Erros em tempo de execução"
      ]
    },
    {
      "cell_type": "markdown",
      "metadata": {
        "id": "73x6_K3dBDWH"
      },
      "source": [
        "## 2.1 Neste exercício vamos trabalhar com o arquivo csv com dados de crédito, definido abaixo. Execute cada uma das células de código para escrever os arquivos na sua máquina virtual."
      ]
    },
    {
      "cell_type": "code",
      "execution_count": 9,
      "metadata": {
        "colab": {
          "base_uri": "https://localhost:8080/"
        },
        "id": "CY6cgOwev7qE",
        "outputId": "c30c73c9-a4c4-42d3-c1cb-8f78cbc3bd9b"
      },
      "outputs": [
        {
          "output_type": "stream",
          "name": "stdout",
          "text": [
            "Writing credito.csv\n"
          ]
        }
      ],
      "source": [
        "%%writefile credito.csv\n",
        "id_vendedor,valor_emprestimos,quantidade_emprestimos,data\n",
        "104271,448.0,1,20161208\n",
        "21476,826.7,3,20161208\n",
        "87440,313.6,3,20161208\n",
        "15980,808.0,6,20161208\n",
        "215906,2212.0,5,20161208\n",
        "33696,2771.3,2,20161208\n",
        "33893,2240.0,3,20161208\n",
        "214946,\"4151.0\",18,20161208\n",
        "123974,2021.95,2,20161208\n",
        "225870,4039.0,2,20161208"
      ]
    },
    {
      "cell_type": "markdown",
      "metadata": {
        "id": "76gKSYRMyV59"
      },
      "source": [
        "O código abaixo deve calcular o total emprestado por cada vendedor mas está \"estourando\" a exceção `ValueError` devido a um erro no conjunto de dados. Utilize a estrutura `try-catch` para garantir que o código seja executado com sucesso.\n",
        "\n",
        "**Atenção:** Você não deve alterar o arquivo de dados."
      ]
    },
    {
      "cell_type": "markdown",
      "source": [
        "Dicas:\n",
        "\n",
        "\n",
        "\n",
        "1.  Identique o bloco que código que pode gerar a exceção e utilize `try` e `except` de modo que a operação que pode causar o problema seja colocada dentro do bloco `try`, e o código que trata a exceção seja escrito dentro do bloco `except`.\n",
        "2.   Tratar a exceção no `except`: utilize o método `replace()` para remover as aspas do conjunto de dados 'linha_elementos[1]'."
      ],
      "metadata": {
        "id": "1L1JtGqn69Ev"
      }
    },
    {
      "cell_type": "markdown",
      "source": [
        "Resumo sobre o método `replace()`:\n",
        "\n",
        "O método `replace()` é usado para substituir determinado conteúdo de uma string. Esse método recebe 2 argumentos obrigatórios: o 1º corresponde ao valor original que será substituído e o 2º corresponde ao novo valor inserido.\n",
        "\n",
        "Na prática, o interpretador Python vai percorrer a string e, assim que encontrar o valor correspondente ao 1º argumento vai substituir o conteúdo do 1º argumento pelo conteúdo do 2º argumento."
      ],
      "metadata": {
        "id": "07lQX5i27Axm"
      }
    },
    {
      "cell_type": "markdown",
      "source": [
        "\n",
        "Sintaxe:\n",
        "```\n",
        "replace('valor que será substituído', 'novo valor inserido')\n",
        "```"
      ],
      "metadata": {
        "id": "7XUpH4mn7D7E"
      }
    },
    {
      "cell_type": "markdown",
      "source": [
        "Exemplo - aplicação método replace():"
      ],
      "metadata": {
        "id": "RzbPxHXB7IBk"
      }
    },
    {
      "cell_type": "code",
      "execution_count": 10,
      "metadata": {
        "id": "iWjMVh6KFJT0",
        "colab": {
          "base_uri": "https://localhost:8080/"
        },
        "outputId": "db81f434-36ee-4543-e47e-cba6a240100d"
      },
      "outputs": [
        {
          "output_type": "stream",
          "name": "stdout",
          "text": [
            "Módulos finalizados: 1, 2, 3, \"4\", \"5\", \"6\" e 7\n"
          ]
        }
      ],
      "source": [
        "frase2 = 'Módulos finalizados: 1, 2, 3, *4*, *5*, *6* e 7'\n",
        "\n",
        "# Usar o replace() para trocar o caractere asterisco pelo caractere aspas na string \"frase2\"\n",
        "print(frase2.replace('*','\"'))"
      ]
    },
    {
      "cell_type": "markdown",
      "metadata": {
        "id": "xV5QqS-OyZ8o"
      },
      "source": [
        "Obs: Através do replace() para remover um caractere, o método vai substituir cada caractere por vazio."
      ]
    },
    {
      "cell_type": "code",
      "execution_count": 11,
      "metadata": {
        "colab": {
          "base_uri": "https://localhost:8080/",
          "height": 245
        },
        "id": "gg8zEg9VFTvz",
        "outputId": "b3ffec8c-81ba-42f2-8f6e-30ee89e44395"
      },
      "outputs": [
        {
          "output_type": "error",
          "ename": "ValueError",
          "evalue": "could not convert string to float: '\"4151.0\"'",
          "traceback": [
            "\u001b[0;31m---------------------------------------------------------------------------\u001b[0m",
            "\u001b[0;31mValueError\u001b[0m                                Traceback (most recent call last)",
            "\u001b[0;32m<ipython-input-11-f7e186840902>\u001b[0m in \u001b[0;36m<cell line: 6>\u001b[0;34m()\u001b[0m\n\u001b[1;32m     11\u001b[0m     \u001b[0mlinha_elementos\u001b[0m \u001b[0;34m=\u001b[0m \u001b[0mlinha\u001b[0m\u001b[0;34m.\u001b[0m\u001b[0mstrip\u001b[0m\u001b[0;34m(\u001b[0m\u001b[0;34m)\u001b[0m\u001b[0;34m.\u001b[0m\u001b[0msplit\u001b[0m\u001b[0;34m(\u001b[0m\u001b[0msep\u001b[0m\u001b[0;34m=\u001b[0m\u001b[0;34m','\u001b[0m\u001b[0;34m)\u001b[0m\u001b[0;34m\u001b[0m\u001b[0;34m\u001b[0m\u001b[0m\n\u001b[1;32m     12\u001b[0m     \u001b[0mlinha_emprestimo\u001b[0m\u001b[0;34m[\u001b[0m\u001b[0;34m'id_vendedor'\u001b[0m\u001b[0;34m]\u001b[0m \u001b[0;34m=\u001b[0m \u001b[0mlinha_elementos\u001b[0m\u001b[0;34m[\u001b[0m\u001b[0;36m0\u001b[0m\u001b[0;34m]\u001b[0m\u001b[0;34m\u001b[0m\u001b[0;34m\u001b[0m\u001b[0m\n\u001b[0;32m---> 13\u001b[0;31m     \u001b[0mlinha_emprestimo\u001b[0m\u001b[0;34m[\u001b[0m\u001b[0;34m'valor_emprestimos'\u001b[0m\u001b[0;34m]\u001b[0m \u001b[0;34m=\u001b[0m \u001b[0mfloat\u001b[0m\u001b[0;34m(\u001b[0m\u001b[0mlinha_elementos\u001b[0m\u001b[0;34m[\u001b[0m\u001b[0;36m1\u001b[0m\u001b[0;34m]\u001b[0m\u001b[0;34m)\u001b[0m\u001b[0;34m\u001b[0m\u001b[0;34m\u001b[0m\u001b[0m\n\u001b[0m\u001b[1;32m     14\u001b[0m     \u001b[0mlinha_emprestimo\u001b[0m\u001b[0;34m[\u001b[0m\u001b[0;34m'quantidade_emprestimos'\u001b[0m\u001b[0;34m]\u001b[0m \u001b[0;34m=\u001b[0m \u001b[0mint\u001b[0m\u001b[0;34m(\u001b[0m\u001b[0mlinha_elementos\u001b[0m\u001b[0;34m[\u001b[0m\u001b[0;36m2\u001b[0m\u001b[0;34m]\u001b[0m\u001b[0;34m)\u001b[0m\u001b[0;34m\u001b[0m\u001b[0;34m\u001b[0m\u001b[0m\n\u001b[1;32m     15\u001b[0m     \u001b[0mlinha_emprestimo\u001b[0m\u001b[0;34m[\u001b[0m\u001b[0;34m'data'\u001b[0m\u001b[0;34m]\u001b[0m \u001b[0;34m=\u001b[0m \u001b[0mlinha_elementos\u001b[0m\u001b[0;34m[\u001b[0m\u001b[0;36m3\u001b[0m\u001b[0;34m]\u001b[0m\u001b[0;34m\u001b[0m\u001b[0;34m\u001b[0m\u001b[0m\n",
            "\u001b[0;31mValueError\u001b[0m: could not convert string to float: '\"4151.0\"'"
          ]
        }
      ],
      "source": [
        "def valor_total_emprestimo(valor: float, quantidade: int) -> float:\n",
        "  return valor * quantidade\n",
        "\n",
        "emprestimos = []\n",
        "\n",
        "with open(file='./credito.csv', mode='r', encoding='utf8') as fp:\n",
        "  fp.readline() # cabeçalho\n",
        "  linha = fp.readline()\n",
        "  while linha:\n",
        "    linha_emprestimo = {}\n",
        "    linha_elementos = linha.strip().split(sep=',')\n",
        "    linha_emprestimo['id_vendedor'] = linha_elementos[0]\n",
        "    linha_emprestimo['valor_emprestimos'] = float(linha_elementos[1])\n",
        "    linha_emprestimo['quantidade_emprestimos'] = int(linha_elementos[2])\n",
        "    linha_emprestimo['data'] = linha_elementos[3]\n",
        "    emprestimos.append(linha_emprestimo)\n",
        "    linha = fp.readline()\n",
        "\n",
        "emprestimos_total = []\n",
        "for emprestimo in emprestimos:\n",
        "  valor_total = valor_total_emprestimo(valor=emprestimo['valor_emprestimos'], quantidade=emprestimo['quantidade_emprestimos'])\n",
        "  emprestimos_total.append({emprestimo['id_vendedor']: valor_total})\n",
        "\n",
        "for emprestimo_total in emprestimos_total:\n",
        "  print(emprestimo_total)"
      ]
    },
    {
      "cell_type": "code",
      "source": [
        "'''\n",
        "    O erro está na base de dados, onde uma entrada foi cadastrada como uma\n",
        "    string usando aspas duplas. Com a função replace, retiramos as aspas,\n",
        "    o que permite a converção para float.\n",
        "\n",
        "    A solução foi adicionada no except, permitindo assim rastrear o erro.\n",
        "'''\n",
        "def valor_total_emprestimo(valor: float, quantidade: int) -> float:\n",
        "  return valor * quantidade\n",
        "\n",
        "emprestimos = []\n",
        "\n",
        "with open(file='./credito.csv', mode='r', encoding='utf8') as fp:\n",
        "  fp.readline() # cabeçalho\n",
        "  linha = fp.readline()\n",
        "  while linha:\n",
        "    try:\n",
        "      linha_emprestimo = {}\n",
        "      linha_elementos = linha.strip().split(sep=',')\n",
        "      linha_emprestimo['id_vendedor'] = linha_elementos[0]\n",
        "      linha_emprestimo['valor_emprestimos'] = float(linha_elementos[1])\n",
        "      linha_emprestimo['quantidade_emprestimos'] = int(linha_elementos[2])\n",
        "      linha_emprestimo['data'] = linha_elementos[3]\n",
        "      emprestimos.append(linha_emprestimo)\n",
        "    except ValueError as error:\n",
        "      linha_emprestimo = {}\n",
        "      linha_elementos = linha.strip().split(sep=',')\n",
        "      linha_emprestimo['id_vendedor'] = linha_elementos[0]\n",
        "      linha_emprestimo['valor_emprestimos'] = float(linha_elementos[1].replace('\"', ''))\n",
        "      linha_emprestimo['quantidade_emprestimos'] = int(linha_elementos[2])\n",
        "      linha_emprestimo['data'] = linha_elementos[3]\n",
        "      emprestimos.append(linha_emprestimo)\n",
        "      print(error, end='\\n\\n')\n",
        "    linha = fp.readline()\n",
        "\n",
        "emprestimos_total = []\n",
        "for emprestimo in emprestimos:\n",
        "  valor_total = valor_total_emprestimo(valor=emprestimo['valor_emprestimos'], quantidade=emprestimo['quantidade_emprestimos'])\n",
        "  emprestimos_total.append({emprestimo['id_vendedor']: valor_total})\n",
        "\n",
        "for emprestimo_total in emprestimos_total:\n",
        "  print(emprestimo_total)"
      ],
      "metadata": {
        "colab": {
          "base_uri": "https://localhost:8080/"
        },
        "id": "TWnXy35c7tU6",
        "outputId": "720c5b11-f3df-4f91-c7c4-0fe581c7869b"
      },
      "execution_count": 12,
      "outputs": [
        {
          "output_type": "stream",
          "name": "stdout",
          "text": [
            "could not convert string to float: '\"4151.0\"'\n",
            "\n",
            "{'104271': 448.0}\n",
            "{'21476': 2480.1000000000004}\n",
            "{'87440': 940.8000000000001}\n",
            "{'15980': 4848.0}\n",
            "{'215906': 11060.0}\n",
            "{'33696': 5542.6}\n",
            "{'33893': 6720.0}\n",
            "{'214946': 74718.0}\n",
            "{'123974': 4043.9}\n",
            "{'225870': 8078.0}\n"
          ]
        }
      ]
    },
    {
      "cell_type": "markdown",
      "metadata": {
        "id": "jyPzf4Rhp70D"
      },
      "source": [
        "\n",
        "\n",
        "---\n",
        "\n"
      ]
    }
  ],
  "metadata": {
    "colab": {
      "provenance": []
    },
    "kernelspec": {
      "display_name": "Python 3",
      "name": "python3"
    },
    "language_info": {
      "name": "python"
    }
  },
  "nbformat": 4,
  "nbformat_minor": 0
}