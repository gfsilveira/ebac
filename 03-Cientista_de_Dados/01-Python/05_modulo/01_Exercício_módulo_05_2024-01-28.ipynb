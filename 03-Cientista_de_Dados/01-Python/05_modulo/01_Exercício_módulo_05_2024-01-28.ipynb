{
  "nbformat": 4,
  "nbformat_minor": 0,
  "metadata": {
    "colab": {
      "provenance": []
    },
    "kernelspec": {
      "name": "python3",
      "display_name": "Python 3"
    },
    "language_info": {
      "name": "python"
    }
  },
  "cells": [
    {
      "cell_type": "markdown",
      "source": [
        "**Cientista de Dados EBAC** -> Exercício Módulo 5"
      ],
      "metadata": {
        "id": "rhT3WHd-MrBD"
      }
    },
    {
      "cell_type": "markdown",
      "source": [
        "# 0. Preparação do ambiente"
      ],
      "metadata": {
        "id": "YQbHiGA9M8Lz"
      }
    },
    {
      "cell_type": "markdown",
      "source": [
        "## *credito.csv*"
      ],
      "metadata": {
        "id": "5gDev2ynJ2aR"
      }
    },
    {
      "cell_type": "code",
      "source": [
        "%%writefile credito.csv\n",
        "id_vendedor,valor_emprestimos,quantidade_emprestimos,data\n",
        "104271,448.0,1,20161208\n",
        "21476,826.7,3,20161208\n",
        "87440,313.6,3,20161208\n",
        "15980,-8008.0,6,20161208\n",
        "215906,2212.0,5,20161208\n",
        "33696,2771.3,2,20161208\n",
        "33893,2240.0,3,20161208\n",
        "214946,-4151.0,18,20161208\n",
        "123974,2021.95,2,20161208\n",
        "225870,4039.0,2,20161208"
      ],
      "metadata": {
        "colab": {
          "base_uri": "https://localhost:8080/"
        },
        "id": "M3QUco0_NNZ7",
        "outputId": "c9669828-6be2-4963-e23c-a039cfbc0131"
      },
      "execution_count": 1,
      "outputs": [
        {
          "output_type": "stream",
          "name": "stdout",
          "text": [
            "Overwriting credito.csv\n"
          ]
        }
      ]
    },
    {
      "cell_type": "markdown",
      "source": [
        "## Vamos ler o conteúdo do arquivo em uma lista onde cada elemento é um dicionário representando as linhas do arquivo."
      ],
      "metadata": {
        "id": "oOXjnZZwmo_-"
      }
    },
    {
      "cell_type": "code",
      "source": [
        "# Usando a função realines para converter o arquivo em uma lista sendo cada linha uma string\n",
        "with open(file=\"./credito.csv\", mode=\"r\", encoding=\"utf8\") as file:\n",
        "  linhas = file.readlines()\n",
        "linhas"
      ],
      "metadata": {
        "colab": {
          "base_uri": "https://localhost:8080/"
        },
        "id": "68JVXZxJmu09",
        "outputId": "ac193736-43b7-41a2-e9f9-e227f8025f58"
      },
      "execution_count": 2,
      "outputs": [
        {
          "output_type": "execute_result",
          "data": {
            "text/plain": [
              "['id_vendedor,valor_emprestimos,quantidade_emprestimos,data\\n',\n",
              " '104271,448.0,1,20161208\\n',\n",
              " '21476,826.7,3,20161208\\n',\n",
              " '87440,313.6,3,20161208\\n',\n",
              " '15980,-8008.0,6,20161208\\n',\n",
              " '215906,2212.0,5,20161208\\n',\n",
              " '33696,2771.3,2,20161208\\n',\n",
              " '33893,2240.0,3,20161208\\n',\n",
              " '214946,-4151.0,18,20161208\\n',\n",
              " '123974,2021.95,2,20161208\\n',\n",
              " '225870,4039.0,2,20161208\\n']"
            ]
          },
          "metadata": {},
          "execution_count": 2
        }
      ]
    },
    {
      "cell_type": "code",
      "source": [
        "# Formatando os valores da lista, para obter uma lista de listas de variáveis\n",
        "linhas_listadas = list(map(lambda x: x.replace(\"\\n\",\"\").split(sep=\",\"), linhas))\n",
        "linhas_listadas"
      ],
      "metadata": {
        "colab": {
          "base_uri": "https://localhost:8080/"
        },
        "id": "S1JS_m4htyYs",
        "outputId": "84c790e3-41fd-4969-a157-05e2b1c11ee6"
      },
      "execution_count": 3,
      "outputs": [
        {
          "output_type": "execute_result",
          "data": {
            "text/plain": [
              "[['id_vendedor', 'valor_emprestimos', 'quantidade_emprestimos', 'data'],\n",
              " ['104271', '448.0', '1', '20161208'],\n",
              " ['21476', '826.7', '3', '20161208'],\n",
              " ['87440', '313.6', '3', '20161208'],\n",
              " ['15980', '-8008.0', '6', '20161208'],\n",
              " ['215906', '2212.0', '5', '20161208'],\n",
              " ['33696', '2771.3', '2', '20161208'],\n",
              " ['33893', '2240.0', '3', '20161208'],\n",
              " ['214946', '-4151.0', '18', '20161208'],\n",
              " ['123974', '2021.95', '2', '20161208'],\n",
              " ['225870', '4039.0', '2', '20161208']]"
            ]
          },
          "metadata": {},
          "execution_count": 3
        }
      ]
    },
    {
      "cell_type": "code",
      "source": [
        "# Usando a função map para unir cada uma das varíáveis com seu index em um dicionário, usando a função zip\n",
        "emprestimos = list(map(lambda x: dict(zip(linhas_listadas[0], x)), linhas_listadas[1:]))\n",
        "for emprestimo in emprestimos:\n",
        "  print(emprestimo)"
      ],
      "metadata": {
        "colab": {
          "base_uri": "https://localhost:8080/"
        },
        "id": "CY6cgOwev7qE",
        "outputId": "6667a78d-c3e9-4073-e44e-163cad68033b"
      },
      "execution_count": 4,
      "outputs": [
        {
          "output_type": "stream",
          "name": "stdout",
          "text": [
            "{'id_vendedor': '104271', 'valor_emprestimos': '448.0', 'quantidade_emprestimos': '1', 'data': '20161208'}\n",
            "{'id_vendedor': '21476', 'valor_emprestimos': '826.7', 'quantidade_emprestimos': '3', 'data': '20161208'}\n",
            "{'id_vendedor': '87440', 'valor_emprestimos': '313.6', 'quantidade_emprestimos': '3', 'data': '20161208'}\n",
            "{'id_vendedor': '15980', 'valor_emprestimos': '-8008.0', 'quantidade_emprestimos': '6', 'data': '20161208'}\n",
            "{'id_vendedor': '215906', 'valor_emprestimos': '2212.0', 'quantidade_emprestimos': '5', 'data': '20161208'}\n",
            "{'id_vendedor': '33696', 'valor_emprestimos': '2771.3', 'quantidade_emprestimos': '2', 'data': '20161208'}\n",
            "{'id_vendedor': '33893', 'valor_emprestimos': '2240.0', 'quantidade_emprestimos': '3', 'data': '20161208'}\n",
            "{'id_vendedor': '214946', 'valor_emprestimos': '-4151.0', 'quantidade_emprestimos': '18', 'data': '20161208'}\n",
            "{'id_vendedor': '123974', 'valor_emprestimos': '2021.95', 'quantidade_emprestimos': '2', 'data': '20161208'}\n",
            "{'id_vendedor': '225870', 'valor_emprestimos': '4039.0', 'quantidade_emprestimos': '2', 'data': '20161208'}\n"
          ]
        }
      ]
    },
    {
      "cell_type": "markdown",
      "source": [
        "\n",
        "\n",
        "---\n",
        "\n"
      ],
      "metadata": {
        "id": "jyPzf4Rhp70D"
      }
    },
    {
      "cell_type": "markdown",
      "source": [
        "# 1. Função `map`"
      ],
      "metadata": {
        "id": "zMj7gL4xm049"
      }
    },
    {
      "cell_type": "markdown",
      "source": [
        "## 1.1 Aplique a função map na lista de `emprestimos` para extrair os valores da chave `valor_emprestimos` na lista `valor_emprestimos_lista`. Faça também a conversão de `str` para `float`."
      ],
      "metadata": {
        "id": "o1waJ6G3qK5J"
      }
    },
    {
      "cell_type": "code",
      "source": [
        "# Usando a função map para obter dos emprestimos apenas a variável valor_emprestimos, convertendo esse para float\n",
        "valor_emprestimos_lista = list(map(lambda x: float(x[\"valor_emprestimos\"]), emprestimos))\n",
        "valor_emprestimos_lista"
      ],
      "metadata": {
        "colab": {
          "base_uri": "https://localhost:8080/"
        },
        "id": "rHpe2PLTm2rW",
        "outputId": "c09c5fd5-401e-42d4-d96e-b6d246410bbc"
      },
      "execution_count": 5,
      "outputs": [
        {
          "output_type": "execute_result",
          "data": {
            "text/plain": [
              "[448.0,\n",
              " 826.7,\n",
              " 313.6,\n",
              " -8008.0,\n",
              " 2212.0,\n",
              " 2771.3,\n",
              " 2240.0,\n",
              " -4151.0,\n",
              " 2021.95,\n",
              " 4039.0]"
            ]
          },
          "metadata": {},
          "execution_count": 5
        }
      ]
    },
    {
      "cell_type": "markdown",
      "source": [
        "\n",
        "\n",
        "---\n",
        "\n"
      ],
      "metadata": {
        "id": "CD3maeVqIE8B"
      }
    },
    {
      "cell_type": "markdown",
      "source": [
        "# 2. Função `filter`"
      ],
      "metadata": {
        "id": "VNve5ejUIMJW"
      }
    },
    {
      "cell_type": "markdown",
      "source": [
        "## 2.1 Aplique a função filter na lista de `valor_emprestimos_lista` para filtrar apenas os valores maiores que zero (os valores negativas são erros na base de dados). Salve os valores na lista `valor_emprestimos_lista_filtrada`."
      ],
      "metadata": {
        "id": "PDDSknoAIRhz"
      }
    },
    {
      "cell_type": "code",
      "source": [
        "# Usando filter para obter os valores positivos de emprestimo\n",
        "valor_emprestimos_lista_filtrada = list(filter(lambda x: x > 0, valor_emprestimos_lista))\n",
        "valor_emprestimos_lista_filtrada"
      ],
      "metadata": {
        "id": "Vlulz55ZIg7F",
        "colab": {
          "base_uri": "https://localhost:8080/"
        },
        "outputId": "9ff79079-3908-4271-acac-2e1f30eda451"
      },
      "execution_count": 6,
      "outputs": [
        {
          "output_type": "execute_result",
          "data": {
            "text/plain": [
              "[448.0, 826.7, 313.6, 2212.0, 2771.3, 2240.0, 2021.95, 4039.0]"
            ]
          },
          "metadata": {},
          "execution_count": 6
        }
      ]
    },
    {
      "cell_type": "markdown",
      "source": [
        "\n",
        "\n",
        "---\n",
        "\n"
      ],
      "metadata": {
        "id": "WA4ZFjXeHdfE"
      }
    },
    {
      "cell_type": "markdown",
      "source": [
        "# 3. Função `reduce`\n",
        "\n",
        "Com a nossa lista de valores de emprestimo pronta, vamos extrair algumas métricas."
      ],
      "metadata": {
        "id": "-H99nFsfzLyZ"
      }
    },
    {
      "cell_type": "markdown",
      "source": [
        "## 3.1 Função `reduce` para extrair a **soma**"
      ],
      "metadata": {
        "id": "7BIvbSIozO9B"
      }
    },
    {
      "cell_type": "code",
      "source": [
        "from functools import reduce"
      ],
      "metadata": {
        "id": "x_VxCyNozOVr"
      },
      "execution_count": 7,
      "outputs": []
    },
    {
      "cell_type": "code",
      "source": [
        "def float_p_real(valor: float) -> str:\n",
        "    '''\n",
        "        Converte um valor_compr float para um R$\n",
        "        :param valor (float): Float to by converted\n",
        "        :return d (str): String edited\n",
        "    '''\n",
        "    a = f'R$ {valor:,.2f}'\n",
        "    b = a.replace(',', 'v')\n",
        "    c = b.replace('.', ',')\n",
        "    d = c.replace('v', '.')\n",
        "    return d"
      ],
      "metadata": {
        "id": "n4I53qVbzpV_"
      },
      "execution_count": 8,
      "outputs": []
    },
    {
      "cell_type": "code",
      "source": [
        "# Usando a função reduce para somar os valores de emprestimo\n",
        "soma_valor_emprestimos = reduce(lambda x, y: x + y, valor_emprestimos_lista_filtrada)\n",
        "soma_valor_emprestimos"
      ],
      "metadata": {
        "colab": {
          "base_uri": "https://localhost:8080/"
        },
        "id": "aN3rrcVIzfBX",
        "outputId": "65bc8b10-f375-4e38-9d47-0060008a7d0d"
      },
      "execution_count": 9,
      "outputs": [
        {
          "output_type": "execute_result",
          "data": {
            "text/plain": [
              "14872.550000000001"
            ]
          },
          "metadata": {},
          "execution_count": 9
        }
      ]
    },
    {
      "cell_type": "code",
      "source": [
        "print(f\"Soma dos valores de empréstimos: {float_p_real(soma_valor_emprestimos)}\")"
      ],
      "metadata": {
        "colab": {
          "base_uri": "https://localhost:8080/"
        },
        "id": "Ct3CpWuqFKjO",
        "outputId": "2e8ccfad-8da7-4f32-cafe-a1eaaefafc40"
      },
      "execution_count": 16,
      "outputs": [
        {
          "output_type": "stream",
          "name": "stdout",
          "text": [
            "Soma dos valores de empréstimos: R$ 14.872,55\n"
          ]
        }
      ]
    },
    {
      "cell_type": "markdown",
      "source": [
        "## 3.2 Função `reduce` para extrair a **media aritimética**\n",
        "\n",
        "Aplique a função reduce para extrair a média aritimética (mais informações [aqui](https://pt.wikipedia.org/wiki/M%C3%A9dia#M%C3%A9dia_aritm%C3%A9tica)) dos elementos da lista `valor_emprestimos_lista_filtrada` na variavel `media_valor_emprestimos`.\n",
        "\n",
        "Dica: Para calcular o tamanho da lista, isto é a quantidade de elementos, utilize a função len(), dentro do argumento da função coloque a lista `valor_emprestimos_lista_filtrada`."
      ],
      "metadata": {
        "id": "kocN76W52Vla"
      }
    },
    {
      "cell_type": "markdown",
      "source": [
        "Formula da média aritmética\n",
        "\n",
        "<img src=\"https://o.quizlet.com/OM3Pp.VFnDv.oRnSkNwDaw.png\" width=300>"
      ],
      "metadata": {
        "id": "x9GpCstD72KL"
      }
    },
    {
      "cell_type": "code",
      "source": [
        "# Usando a função reduce para somar os valores de emprestimo, dividindo esse valor pelo número de valores para obter a média aritmética\n",
        "media_art_valor_emprestimo = reduce(lambda x, y: x + y, valor_emprestimos_lista_filtrada) / len(valor_emprestimos_lista_filtrada)\n",
        "media_art_valor_emprestimo"
      ],
      "metadata": {
        "colab": {
          "base_uri": "https://localhost:8080/"
        },
        "id": "73ulUCLw05mw",
        "outputId": "7ffc9907-fcb1-4519-cf99-892139ddcbc6"
      },
      "execution_count": 11,
      "outputs": [
        {
          "output_type": "execute_result",
          "data": {
            "text/plain": [
              "1859.0687500000001"
            ]
          },
          "metadata": {},
          "execution_count": 11
        }
      ]
    },
    {
      "cell_type": "code",
      "source": [
        "# Refatorando o código da célula anterior, porém usando a soma salva na variável soma_valor_emprestimos\n",
        "media_art_valor_emprestimo = soma_valor_emprestimos / len(valor_emprestimos_lista_filtrada)\n",
        "print(f\"Valor médio de empréstimos: {float_p_real(media_art_valor_emprestimo)}\")"
      ],
      "metadata": {
        "colab": {
          "base_uri": "https://localhost:8080/"
        },
        "id": "9n_56yHK29ng",
        "outputId": "b9d1fd9b-6266-488d-a6dc-02a217b7eadb"
      },
      "execution_count": 15,
      "outputs": [
        {
          "output_type": "stream",
          "name": "stdout",
          "text": [
            "Valor médio de empréstimos: R$ 1.859,07\n"
          ]
        }
      ]
    },
    {
      "cell_type": "markdown",
      "source": [
        "## 3.3 (**Desafio**) Função `reduce` para extrair o **desvio padrão amostral**\n",
        "\n",
        "Aplique a função reduce para extrair a média aritimética (mais informações [aqui](https://pt.wikipedia.org/wiki/M%C3%A9dia#M%C3%A9dia_aritm%C3%A9tica)) dos elementos da lista `valor_emprestimos_lista_filtrada` na variavel `desvio_padrao_valor_emprestimos`.\n",
        "\n"
      ],
      "metadata": {
        "id": "Xv2GWSuN4kYw"
      }
    },
    {
      "cell_type": "markdown",
      "source": [
        "Formula do desvio padrão amostral\n",
        "\n",
        "<img src=\"https://images.prismic.io/voitto-blog/fbf3cddf-6448-4d16-9992-86ec3ee0b8fc_images+%281%29.png\" width=300>"
      ],
      "metadata": {
        "id": "FdCxwW1o7Y47"
      }
    },
    {
      "cell_type": "code",
      "source": [
        "# Obtendo o desvio padrão, usando o reduce na soma de valores de emprestimo para obtenção da média e usando reduce para somar o quadrado da diferença dos valores com a média\n",
        "desvio_padrao_valor_emprestimos = (reduce(lambda i, j: i + j, list(map(lambda x: (x - reduce(lambda x, y: x + y, valor_emprestimos_lista_filtrada) / len(valor_emprestimos_lista_filtrada))**2, valor_emprestimos_lista_filtrada))) / (len(valor_emprestimos_lista_filtrada) - 1))**0.5\n",
        "desvio_padrao_valor_emprestimos"
      ],
      "metadata": {
        "colab": {
          "base_uri": "https://localhost:8080/"
        },
        "id": "VtHqfHJz538w",
        "outputId": "35be00d2-63b6-416d-dab5-bc350bbc0eea"
      },
      "execution_count": 13,
      "outputs": [
        {
          "output_type": "execute_result",
          "data": {
            "text/plain": [
              "1271.9972711497849"
            ]
          },
          "metadata": {},
          "execution_count": 13
        }
      ]
    },
    {
      "cell_type": "code",
      "source": [
        "# Refatorando o código anterior, para melhorar a legibilidade\n",
        "numero_de_itens = len(valor_emprestimos_lista_filtrada) - 1\n",
        "\n",
        "subtra_media_valor_emprestimos = list(map(lambda x: (x - media_art_valor_emprestimo)**2, valor_emprestimos_lista_filtrada))\n",
        "media_subtra_media_valor_emprestimos = reduce(lambda i, j: i + j, subtra_media_valor_emprestimos) / numero_de_itens\n",
        "desvio_padrao_valor_emprestimos = media_subtra_media_valor_emprestimos**0.5\n",
        "desvio_padrao_valor_emprestimos"
      ],
      "metadata": {
        "colab": {
          "base_uri": "https://localhost:8080/"
        },
        "id": "MTWAV9Cn5Jvc",
        "outputId": "3ec7445b-7d4c-4875-ab23-47451c4f5ff7"
      },
      "execution_count": 14,
      "outputs": [
        {
          "output_type": "execute_result",
          "data": {
            "text/plain": [
              "1271.9972711497849"
            ]
          },
          "metadata": {},
          "execution_count": 14
        }
      ]
    }
  ]
}