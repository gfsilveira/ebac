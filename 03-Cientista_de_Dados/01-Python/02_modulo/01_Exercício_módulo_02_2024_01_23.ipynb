{
  "nbformat": 4,
  "nbformat_minor": 0,
  "metadata": {
    "colab": {
      "provenance": [],
      "toc_visible": true
    },
    "kernelspec": {
      "name": "python3",
      "display_name": "Python 3"
    },
    "language_info": {
      "name": "python"
    }
  },
  "cells": [
    {
      "cell_type": "markdown",
      "source": [
        "**Cientista de Dados EBAC** -> Exercício Módulo 2"
      ],
      "metadata": {
        "id": "rhT3WHd-MrBD"
      }
    },
    {
      "cell_type": "markdown",
      "source": [
        "# 1. Listas"
      ],
      "metadata": {
        "id": "YQbHiGA9M8Lz"
      }
    },
    {
      "cell_type": "markdown",
      "source": [
        "## 1.1 Criei uma lista chamada filmes com o nome dos 10 primeiros filmes mais bem avaliados no site no IMDB. Imprima o resultado."
      ],
      "metadata": {
        "id": "5gDev2ynJ2aR"
      }
    },
    {
      "cell_type": "code",
      "source": [
        "filmes = [\n",
        "    \"Um Sonho de Liberdade\",\n",
        "    \"O Poderoso Chefão\",\n",
        "    \"Batman - O Cavaleiro das Trevas\",\n",
        "    \"O Poderoso Chefão II\",\n",
        "    \"12 Homens e uma Sentença\",\n",
        "    \"A Lista de Schindler\",\n",
        "    \"O Senhor dos Anéis: O Retorno do Rei\",\n",
        "    \"Pulp Fiction - Tempo de Violência\",\n",
        "    \"O Senhor dos Anéis: A Sociedade do Anel\",\n",
        "    \"Três Homens em Conflito\",\n",
        "]\n",
        "print(filmes)"
      ],
      "metadata": {
        "colab": {
          "base_uri": "https://localhost:8080/"
        },
        "id": "M3QUco0_NNZ7",
        "outputId": "8f56dd63-81b4-44eb-a952-1a20c9db845a"
      },
      "execution_count": 1,
      "outputs": [
        {
          "output_type": "stream",
          "name": "stdout",
          "text": [
            "['Um Sonho de Liberdade', 'O Poderoso Chefão', 'Batman - O Cavaleiro das Trevas', 'O Poderoso Chefão II', '12 Homens e uma Sentença', 'A Lista de Schindler', 'O Senhor dos Anéis: O Retorno do Rei', 'Pulp Fiction - Tempo de Violência', 'O Senhor dos Anéis: A Sociedade do Anel', 'Três Homens em Conflito']\n"
          ]
        }
      ]
    },
    {
      "cell_type": "code",
      "source": [
        "filmes"
      ],
      "metadata": {
        "colab": {
          "base_uri": "https://localhost:8080/"
        },
        "id": "9IXJb6smNSV2",
        "outputId": "97a724f3-7230-4a04-8bd5-c774214b096a"
      },
      "execution_count": 2,
      "outputs": [
        {
          "output_type": "execute_result",
          "data": {
            "text/plain": [
              "['Um Sonho de Liberdade',\n",
              " 'O Poderoso Chefão',\n",
              " 'Batman - O Cavaleiro das Trevas',\n",
              " 'O Poderoso Chefão II',\n",
              " '12 Homens e uma Sentença',\n",
              " 'A Lista de Schindler',\n",
              " 'O Senhor dos Anéis: O Retorno do Rei',\n",
              " 'Pulp Fiction - Tempo de Violência',\n",
              " 'O Senhor dos Anéis: A Sociedade do Anel',\n",
              " 'Três Homens em Conflito']"
            ]
          },
          "metadata": {},
          "execution_count": 2
        }
      ]
    },
    {
      "cell_type": "markdown",
      "source": [
        "## 1.2 Simule a movimentação do ranking. Utilize os métodos insert e pop para trocar a posição do primeiro e do segundo filme da lista. Imprima o resultado."
      ],
      "metadata": {
        "id": "7-0dqMLmNaGC"
      }
    },
    {
      "cell_type": "code",
      "source": [
        "# Retirando e armazenando o primeiro filme\n",
        "filmes_copia = filmes.copy()\n",
        "primeiro_filme = filmes_copia.pop(0)\n",
        "primeiro_filme"
      ],
      "metadata": {
        "colab": {
          "base_uri": "https://localhost:8080/",
          "height": 35
        },
        "id": "Qbd142a4l1XR",
        "outputId": "1b7a8f52-ac24-4481-bc00-a3a46ef6e290"
      },
      "execution_count": 3,
      "outputs": [
        {
          "output_type": "execute_result",
          "data": {
            "text/plain": [
              "'Um Sonho de Liberdade'"
            ],
            "application/vnd.google.colaboratory.intrinsic+json": {
              "type": "string"
            }
          },
          "metadata": {},
          "execution_count": 3
        }
      ]
    },
    {
      "cell_type": "code",
      "source": [
        "# Inserindo o primeiro filme na segunda posição\n",
        "filmes_copia.insert(1, primeiro_filme)\n",
        "filmes_copia"
      ],
      "metadata": {
        "colab": {
          "base_uri": "https://localhost:8080/"
        },
        "id": "r914DE3YmQSP",
        "outputId": "734af4ee-436a-411b-d488-1a15585baac3"
      },
      "execution_count": 4,
      "outputs": [
        {
          "output_type": "execute_result",
          "data": {
            "text/plain": [
              "['O Poderoso Chefão',\n",
              " 'Um Sonho de Liberdade',\n",
              " 'Batman - O Cavaleiro das Trevas',\n",
              " 'O Poderoso Chefão II',\n",
              " '12 Homens e uma Sentença',\n",
              " 'A Lista de Schindler',\n",
              " 'O Senhor dos Anéis: O Retorno do Rei',\n",
              " 'Pulp Fiction - Tempo de Violência',\n",
              " 'O Senhor dos Anéis: A Sociedade do Anel',\n",
              " 'Três Homens em Conflito']"
            ]
          },
          "metadata": {},
          "execution_count": 4
        }
      ]
    },
    {
      "cell_type": "markdown",
      "source": [
        "\n",
        "\n",
        "---\n",
        "\n"
      ],
      "metadata": {
        "id": "1kXbkfoxHX3A"
      }
    },
    {
      "cell_type": "markdown",
      "source": [
        "# 2. Conjuntos"
      ],
      "metadata": {
        "id": "av-g3OO8Ne_Q"
      }
    },
    {
      "cell_type": "markdown",
      "source": [
        "## 2.1 Aconteceu um erro no seu ranking. Simule a duplicação dos três últimos filmes da lista. Imprima o resultado."
      ],
      "metadata": {
        "id": "Ipnp2lOY7Zle"
      }
    },
    {
      "cell_type": "code",
      "source": [
        "# Obtendo uma lista com os três últimos filmes\n",
        "ultimos_filme = filmes_copia[-3:]\n",
        "ultimos_filme"
      ],
      "metadata": {
        "id": "lgvwAsZH7VYH",
        "colab": {
          "base_uri": "https://localhost:8080/"
        },
        "outputId": "7d618ef1-408e-4d94-f728-1ef9b6b4854f"
      },
      "execution_count": 5,
      "outputs": [
        {
          "output_type": "execute_result",
          "data": {
            "text/plain": [
              "['Pulp Fiction - Tempo de Violência',\n",
              " 'O Senhor dos Anéis: A Sociedade do Anel',\n",
              " 'Três Homens em Conflito']"
            ]
          },
          "metadata": {},
          "execution_count": 5
        }
      ]
    },
    {
      "cell_type": "code",
      "source": [
        "# Inserindo os três últimos filmes na lista original\n",
        "filmes_copia_duplicado = filmes_copia + ultimos_filme\n",
        "filmes_copia_duplicado"
      ],
      "metadata": {
        "colab": {
          "base_uri": "https://localhost:8080/"
        },
        "id": "ztrBD_O17foI",
        "outputId": "61a857d4-310f-49f7-8b19-0e1ea42869bc"
      },
      "execution_count": 6,
      "outputs": [
        {
          "output_type": "execute_result",
          "data": {
            "text/plain": [
              "['O Poderoso Chefão',\n",
              " 'Um Sonho de Liberdade',\n",
              " 'Batman - O Cavaleiro das Trevas',\n",
              " 'O Poderoso Chefão II',\n",
              " '12 Homens e uma Sentença',\n",
              " 'A Lista de Schindler',\n",
              " 'O Senhor dos Anéis: O Retorno do Rei',\n",
              " 'Pulp Fiction - Tempo de Violência',\n",
              " 'O Senhor dos Anéis: A Sociedade do Anel',\n",
              " 'Três Homens em Conflito',\n",
              " 'Pulp Fiction - Tempo de Violência',\n",
              " 'O Senhor dos Anéis: A Sociedade do Anel',\n",
              " 'Três Homens em Conflito']"
            ]
          },
          "metadata": {},
          "execution_count": 6
        }
      ]
    },
    {
      "cell_type": "code",
      "source": [
        "# Verificando se a lista contêm o número adequado de 13 filmes\n",
        "len(filmes_copia_duplicado)"
      ],
      "metadata": {
        "colab": {
          "base_uri": "https://localhost:8080/"
        },
        "id": "wRvQUsPt8UWZ",
        "outputId": "ca62999a-48c0-49ab-da9b-0e648097d394"
      },
      "execution_count": 7,
      "outputs": [
        {
          "output_type": "execute_result",
          "data": {
            "text/plain": [
              "13"
            ]
          },
          "metadata": {},
          "execution_count": 7
        }
      ]
    },
    {
      "cell_type": "markdown",
      "source": [
        "## 2.2 Utiliza a conversão set e list para remover os valores duplicados. Imprima o resultado."
      ],
      "metadata": {
        "id": "5DUd9fF8qmFH"
      }
    },
    {
      "cell_type": "code",
      "source": [
        "# Removendo os duplicados usando a conversão para set\n",
        "filmes_copia_sem_duplicados = set(filmes_copia_duplicado)\n",
        "filmes_copia_sem_duplicados"
      ],
      "metadata": {
        "colab": {
          "base_uri": "https://localhost:8080/"
        },
        "id": "1vwrAvyY8_qG",
        "outputId": "583c3498-6512-436c-f0f7-85fe27fe2647"
      },
      "execution_count": 8,
      "outputs": [
        {
          "output_type": "execute_result",
          "data": {
            "text/plain": [
              "{'12 Homens e uma Sentença',\n",
              " 'A Lista de Schindler',\n",
              " 'Batman - O Cavaleiro das Trevas',\n",
              " 'O Poderoso Chefão',\n",
              " 'O Poderoso Chefão II',\n",
              " 'O Senhor dos Anéis: A Sociedade do Anel',\n",
              " 'O Senhor dos Anéis: O Retorno do Rei',\n",
              " 'Pulp Fiction - Tempo de Violência',\n",
              " 'Três Homens em Conflito',\n",
              " 'Um Sonho de Liberdade'}"
            ]
          },
          "metadata": {},
          "execution_count": 8
        }
      ]
    },
    {
      "cell_type": "code",
      "source": [
        "# Verificando se o conjunto contêm o número adequado de 10 filmes\n",
        "len(filmes_copia_sem_duplicados)"
      ],
      "metadata": {
        "colab": {
          "base_uri": "https://localhost:8080/"
        },
        "id": "l2cGUTl5-Sjf",
        "outputId": "e06d9bae-423a-407e-a676-55dba0f74d12"
      },
      "execution_count": 9,
      "outputs": [
        {
          "output_type": "execute_result",
          "data": {
            "text/plain": [
              "10"
            ]
          },
          "metadata": {},
          "execution_count": 9
        }
      ]
    },
    {
      "cell_type": "markdown",
      "source": [
        "\n",
        "\n",
        "---\n",
        "\n"
      ],
      "metadata": {
        "id": "MhzOe7QGHakH"
      }
    },
    {
      "cell_type": "markdown",
      "source": [
        "# 3. Dicionários"
      ],
      "metadata": {
        "id": "3IIetUc8_Js5"
      }
    },
    {
      "cell_type": "markdown",
      "source": [
        "## 3.1 Repita os exercícios da parte 1 (listas). Os elementos da lista filmes devem ser dicionários no seguinte formato:\n",
        "{\n",
        "  'nome': nome-do-filme,\n",
        "  'ano': ano_do_filme,\n",
        "  'sinopse': sinopse_do_filme\n",
        "}."
      ],
      "metadata": {
        "id": "7W91rF5D_Vtq"
      }
    },
    {
      "cell_type": "code",
      "source": [
        "# Recuperando a variável com os filmes\n",
        "filmes"
      ],
      "metadata": {
        "colab": {
          "base_uri": "https://localhost:8080/"
        },
        "id": "O7YtYaWb_fSf",
        "outputId": "e272adef-dd91-4553-92a8-500c6878341e"
      },
      "execution_count": 10,
      "outputs": [
        {
          "output_type": "execute_result",
          "data": {
            "text/plain": [
              "['Um Sonho de Liberdade',\n",
              " 'O Poderoso Chefão',\n",
              " 'Batman - O Cavaleiro das Trevas',\n",
              " 'O Poderoso Chefão II',\n",
              " '12 Homens e uma Sentença',\n",
              " 'A Lista de Schindler',\n",
              " 'O Senhor dos Anéis: O Retorno do Rei',\n",
              " 'Pulp Fiction - Tempo de Violência',\n",
              " 'O Senhor dos Anéis: A Sociedade do Anel',\n",
              " 'Três Homens em Conflito']"
            ]
          },
          "metadata": {},
          "execution_count": 10
        }
      ]
    },
    {
      "cell_type": "code",
      "source": [
        "# Intânciando uma lista com os anos dos filmes\n",
        "ano = [\n",
        "    1994,\n",
        "    1972,\n",
        "    2008,\n",
        "    1974,\n",
        "    1957,\n",
        "    1993,\n",
        "    2003,\n",
        "    1994,\n",
        "    2001,\n",
        "    1966\n",
        "]\n",
        "ano"
      ],
      "metadata": {
        "colab": {
          "base_uri": "https://localhost:8080/"
        },
        "id": "0z5IZm9-PUlP",
        "outputId": "34180b53-642f-4815-c5eb-3d03add7d399"
      },
      "execution_count": 11,
      "outputs": [
        {
          "output_type": "execute_result",
          "data": {
            "text/plain": [
              "[1994, 1972, 2008, 1974, 1957, 1993, 2003, 1994, 2001, 1966]"
            ]
          },
          "metadata": {},
          "execution_count": 11
        }
      ]
    },
    {
      "cell_type": "code",
      "source": [
        "# Intânciando uma lista com as sinopses dos filmes\n",
        "\n",
        "sinopse = [\n",
        "    \"Dois homens presos se reúnem ao longo de vários anos, encontrando consolo e eventual redenção através de atos de decência comum.\",\n",
        "    \"O patriarca idoso de uma dinastia do crime organizado transfere o controle de seu império clandestino para seu filho relutante.\",\n",
        "    \"Agora com a ajuda do tenente Jim Gordon e do promotor público Harvey Dent, Batman tem tudo para banir o crime de Gotham City de uma vez por todas. Mas em breve, os três serão vítimas do Coringa, que pretende lançar Gotham em uma anarquia.\",\n",
        "    \"Em 1950, Michael Corleone, agora à frente da família, tenta expandir o negócio do crime a Las Vegas, Los Angeles e Cuba. Paralelamente, é revelada a história de Vito Corleone, e de como saiu da Sicília e chegou a Nova Iorque.\",\n",
        "    \"O julgamento de um assassinato em Nova Iorque é frustrado por um único membro, cujo ceticismo força o júri a considerar cuidadosamente as evidências antes de dar o veredito.\",\n",
        "    \"Na Polônia ocupada pelos alemães durante a Segunda Guerra Mundial, o industrial Oskar Schindler começa a ser preocupar com seus trabalhadores judeus depois de testemunhar sua perseguição pelos nazistas.\",\n",
        "    \"Gandalf e Aragorn lideram o Mundo dos Homens contra o exército de Sauron para desviar o olhar de Frodo e Sam quando eles se aproximam á Montanha da Perdição com o Um Anel.\",\n",
        "    \"As vidas de dois assassinos da máfia, um boxeador, um gângster e sua esposa, e um par de bandidos se entrelaçam em quatro histórias de violência e redenção.\",\n",
        "    \"Um manso hobbit do Condado e oito companheiros partem em uma jornada para destruir o poderoso Um Anel e salvar a Terra-média das Trevas.\",\n",
        "    \"Um impostor se junta com dois homens para encontrar fortuna num remoto cemitério.\"\n",
        "]\n",
        "sinopse"
      ],
      "metadata": {
        "colab": {
          "base_uri": "https://localhost:8080/"
        },
        "id": "QD2Fy2dA_uwt",
        "outputId": "059a00ff-891e-43a0-9221-927e2b573132"
      },
      "execution_count": 12,
      "outputs": [
        {
          "output_type": "execute_result",
          "data": {
            "text/plain": [
              "['Dois homens presos se reúnem ao longo de vários anos, encontrando consolo e eventual redenção através de atos de decência comum.',\n",
              " 'O patriarca idoso de uma dinastia do crime organizado transfere o controle de seu império clandestino para seu filho relutante.',\n",
              " 'Agora com a ajuda do tenente Jim Gordon e do promotor público Harvey Dent, Batman tem tudo para banir o crime de Gotham City de uma vez por todas. Mas em breve, os três serão vítimas do Coringa, que pretende lançar Gotham em uma anarquia.',\n",
              " 'Em 1950, Michael Corleone, agora à frente da família, tenta expandir o negócio do crime a Las Vegas, Los Angeles e Cuba. Paralelamente, é revelada a história de Vito Corleone, e de como saiu da Sicília e chegou a Nova Iorque.',\n",
              " 'O julgamento de um assassinato em Nova Iorque é frustrado por um único membro, cujo ceticismo força o júri a considerar cuidadosamente as evidências antes de dar o veredito.',\n",
              " 'Na Polônia ocupada pelos alemães durante a Segunda Guerra Mundial, o industrial Oskar Schindler começa a ser preocupar com seus trabalhadores judeus depois de testemunhar sua perseguição pelos nazistas.',\n",
              " 'Gandalf e Aragorn lideram o Mundo dos Homens contra o exército de Sauron para desviar o olhar de Frodo e Sam quando eles se aproximam á Montanha da Perdição com o Um Anel.',\n",
              " 'As vidas de dois assassinos da máfia, um boxeador, um gângster e sua esposa, e um par de bandidos se entrelaçam em quatro histórias de violência e redenção.',\n",
              " 'Um manso hobbit do Condado e oito companheiros partem em uma jornada para destruir o poderoso Um Anel e salvar a Terra-média das Trevas.',\n",
              " 'Um impostor se junta com dois homens para encontrar fortuna num remoto cemitério.']"
            ]
          },
          "metadata": {},
          "execution_count": 12
        }
      ]
    },
    {
      "cell_type": "code",
      "source": [
        "'''\n",
        "Instanciando a lista contendo o nome, ano e sinopse dos filmes, organizados em\n",
        "um dicionário. Para agrupar os valores é usado uma estrutura de repetição for.\n",
        "'''\n",
        "\n",
        "filmes_completo = []\n",
        "for index in range(len(filmes)):\n",
        "  filmes_dicionario = {}\n",
        "  filmes_dicionario = {\n",
        "      \"nome\": filmes[index],\n",
        "      \"ano\": ano[index],\n",
        "      \"sinopse\": sinopse[index],\n",
        "  }\n",
        "  filmes_completo.append(filmes_dicionario)\n",
        "filmes_completo"
      ],
      "metadata": {
        "colab": {
          "base_uri": "https://localhost:8080/"
        },
        "id": "SZGXGriP_yj5",
        "outputId": "7e0ae7fe-5d87-424a-95bf-b6915c577bdf"
      },
      "execution_count": 17,
      "outputs": [
        {
          "output_type": "execute_result",
          "data": {
            "text/plain": [
              "[{'nome': 'Um Sonho de Liberdade',\n",
              "  'ano': 1994,\n",
              "  'sinopse': 'Dois homens presos se reúnem ao longo de vários anos, encontrando consolo e eventual redenção através de atos de decência comum.'},\n",
              " {'nome': 'O Poderoso Chefão',\n",
              "  'ano': 1972,\n",
              "  'sinopse': 'O patriarca idoso de uma dinastia do crime organizado transfere o controle de seu império clandestino para seu filho relutante.'},\n",
              " {'nome': 'Batman - O Cavaleiro das Trevas',\n",
              "  'ano': 2008,\n",
              "  'sinopse': 'Agora com a ajuda do tenente Jim Gordon e do promotor público Harvey Dent, Batman tem tudo para banir o crime de Gotham City de uma vez por todas. Mas em breve, os três serão vítimas do Coringa, que pretende lançar Gotham em uma anarquia.'},\n",
              " {'nome': 'O Poderoso Chefão II',\n",
              "  'ano': 1974,\n",
              "  'sinopse': 'Em 1950, Michael Corleone, agora à frente da família, tenta expandir o negócio do crime a Las Vegas, Los Angeles e Cuba. Paralelamente, é revelada a história de Vito Corleone, e de como saiu da Sicília e chegou a Nova Iorque.'},\n",
              " {'nome': '12 Homens e uma Sentença',\n",
              "  'ano': 1957,\n",
              "  'sinopse': 'O julgamento de um assassinato em Nova Iorque é frustrado por um único membro, cujo ceticismo força o júri a considerar cuidadosamente as evidências antes de dar o veredito.'},\n",
              " {'nome': 'A Lista de Schindler',\n",
              "  'ano': 1993,\n",
              "  'sinopse': 'Na Polônia ocupada pelos alemães durante a Segunda Guerra Mundial, o industrial Oskar Schindler começa a ser preocupar com seus trabalhadores judeus depois de testemunhar sua perseguição pelos nazistas.'},\n",
              " {'nome': 'O Senhor dos Anéis: O Retorno do Rei',\n",
              "  'ano': 2003,\n",
              "  'sinopse': 'Gandalf e Aragorn lideram o Mundo dos Homens contra o exército de Sauron para desviar o olhar de Frodo e Sam quando eles se aproximam á Montanha da Perdição com o Um Anel.'},\n",
              " {'nome': 'Pulp Fiction - Tempo de Violência',\n",
              "  'ano': 1994,\n",
              "  'sinopse': 'As vidas de dois assassinos da máfia, um boxeador, um gângster e sua esposa, e um par de bandidos se entrelaçam em quatro histórias de violência e redenção.'},\n",
              " {'nome': 'O Senhor dos Anéis: A Sociedade do Anel',\n",
              "  'ano': 2001,\n",
              "  'sinopse': 'Um manso hobbit do Condado e oito companheiros partem em uma jornada para destruir o poderoso Um Anel e salvar a Terra-média das Trevas.'},\n",
              " {'nome': 'Três Homens em Conflito',\n",
              "  'ano': 1966,\n",
              "  'sinopse': 'Um impostor se junta com dois homens para encontrar fortuna num remoto cemitério.'}]"
            ]
          },
          "metadata": {},
          "execution_count": 17
        }
      ]
    },
    {
      "cell_type": "code",
      "source": [
        "# Retirando e armazenando o primeiro filme\n",
        "filmes_completo_copia = filmes_completo.copy()\n",
        "primeiro_filme_completo = filmes_completo_copia.pop(0)\n",
        "primeiro_filme_completo"
      ],
      "metadata": {
        "colab": {
          "base_uri": "https://localhost:8080/"
        },
        "id": "mycVQD9qYHmV",
        "outputId": "160fefdc-afdd-4f43-9696-59ad876b03e6"
      },
      "execution_count": 18,
      "outputs": [
        {
          "output_type": "execute_result",
          "data": {
            "text/plain": [
              "{'nome': 'Um Sonho de Liberdade',\n",
              " 'ano': 1994,\n",
              " 'sinopse': 'Dois homens presos se reúnem ao longo de vários anos, encontrando consolo e eventual redenção através de atos de decência comum.'}"
            ]
          },
          "metadata": {},
          "execution_count": 18
        }
      ]
    },
    {
      "cell_type": "code",
      "source": [
        "# Inserindo o primeiro filme na segunda posição\n",
        "filmes_completo_copia.insert(1, primeiro_filme_completo)\n",
        "filmes_completo_copia"
      ],
      "metadata": {
        "colab": {
          "base_uri": "https://localhost:8080/"
        },
        "id": "0QgDd6ZJYUeM",
        "outputId": "994a877d-009e-40a2-b06c-bf79606339be"
      },
      "execution_count": 19,
      "outputs": [
        {
          "output_type": "execute_result",
          "data": {
            "text/plain": [
              "[{'nome': 'O Poderoso Chefão',\n",
              "  'ano': 1972,\n",
              "  'sinopse': 'O patriarca idoso de uma dinastia do crime organizado transfere o controle de seu império clandestino para seu filho relutante.'},\n",
              " {'nome': 'Um Sonho de Liberdade',\n",
              "  'ano': 1994,\n",
              "  'sinopse': 'Dois homens presos se reúnem ao longo de vários anos, encontrando consolo e eventual redenção através de atos de decência comum.'},\n",
              " {'nome': 'Batman - O Cavaleiro das Trevas',\n",
              "  'ano': 2008,\n",
              "  'sinopse': 'Agora com a ajuda do tenente Jim Gordon e do promotor público Harvey Dent, Batman tem tudo para banir o crime de Gotham City de uma vez por todas. Mas em breve, os três serão vítimas do Coringa, que pretende lançar Gotham em uma anarquia.'},\n",
              " {'nome': 'O Poderoso Chefão II',\n",
              "  'ano': 1974,\n",
              "  'sinopse': 'Em 1950, Michael Corleone, agora à frente da família, tenta expandir o negócio do crime a Las Vegas, Los Angeles e Cuba. Paralelamente, é revelada a história de Vito Corleone, e de como saiu da Sicília e chegou a Nova Iorque.'},\n",
              " {'nome': '12 Homens e uma Sentença',\n",
              "  'ano': 1957,\n",
              "  'sinopse': 'O julgamento de um assassinato em Nova Iorque é frustrado por um único membro, cujo ceticismo força o júri a considerar cuidadosamente as evidências antes de dar o veredito.'},\n",
              " {'nome': 'A Lista de Schindler',\n",
              "  'ano': 1993,\n",
              "  'sinopse': 'Na Polônia ocupada pelos alemães durante a Segunda Guerra Mundial, o industrial Oskar Schindler começa a ser preocupar com seus trabalhadores judeus depois de testemunhar sua perseguição pelos nazistas.'},\n",
              " {'nome': 'O Senhor dos Anéis: O Retorno do Rei',\n",
              "  'ano': 2003,\n",
              "  'sinopse': 'Gandalf e Aragorn lideram o Mundo dos Homens contra o exército de Sauron para desviar o olhar de Frodo e Sam quando eles se aproximam á Montanha da Perdição com o Um Anel.'},\n",
              " {'nome': 'Pulp Fiction - Tempo de Violência',\n",
              "  'ano': 1994,\n",
              "  'sinopse': 'As vidas de dois assassinos da máfia, um boxeador, um gângster e sua esposa, e um par de bandidos se entrelaçam em quatro histórias de violência e redenção.'},\n",
              " {'nome': 'O Senhor dos Anéis: A Sociedade do Anel',\n",
              "  'ano': 2001,\n",
              "  'sinopse': 'Um manso hobbit do Condado e oito companheiros partem em uma jornada para destruir o poderoso Um Anel e salvar a Terra-média das Trevas.'},\n",
              " {'nome': 'Três Homens em Conflito',\n",
              "  'ano': 1966,\n",
              "  'sinopse': 'Um impostor se junta com dois homens para encontrar fortuna num remoto cemitério.'}]"
            ]
          },
          "metadata": {},
          "execution_count": 19
        }
      ]
    },
    {
      "cell_type": "markdown",
      "source": [
        "\n",
        "\n",
        "---\n",
        "\n"
      ],
      "metadata": {
        "id": "WA4ZFjXeHdfE"
      }
    }
  ]
}