{
  "nbformat": 4,
  "nbformat_minor": 0,
  "metadata": {
    "colab": {
      "provenance": [],
      "toc_visible": true
    },
    "kernelspec": {
      "name": "python3",
      "display_name": "Python 3"
    },
    "language_info": {
      "name": "python"
    }
  },
  "cells": [
    {
      "cell_type": "markdown",
      "source": [
        "**Cientista de Dados EBAC** -> Exercício Módulo 3"
      ],
      "metadata": {
        "id": "rhT3WHd-MrBD"
      }
    },
    {
      "cell_type": "markdown",
      "source": [
        "# 1. Dados de interação de usuários com propagandas online"
      ],
      "metadata": {
        "id": "YQbHiGA9M8Lz"
      }
    },
    {
      "cell_type": "markdown",
      "source": [
        "## Na lista propaganda_online abaixo, estão presente os dados de usuários que acessaram um determinado site e se o mesmo clicou em uma propaganda."
      ],
      "metadata": {
        "id": "5gDev2ynJ2aR"
      }
    },
    {
      "cell_type": "code",
      "source": [
        "propaganda_online = [\n",
        "  {'tempo_gasto_site': 68.95, 'idade': 35, 'renda_area': 61833.90, 'tempo_gasto_internet': 256.09, 'cidade': 'Wrightburgh', 'pais': 'Tunisia', 'clicou_no_ad': 0},\n",
        "  {'tempo_gasto_site': 80.23, 'idade': 31, 'renda_area': 68441.85, 'tempo_gasto_internet': 193.77, 'cidade': 'West Jodi', 'pais': 'Nauru', 'clicou_no_ad': 0},\n",
        "  {'tempo_gasto_site': 69.47, 'idade': 26, 'renda_area': 59785.94, 'tempo_gasto_internet': 236.50, 'cidade': 'Davidton', 'pais': 'San Marino', 'clicou_no_ad': 0},\n",
        "  {'tempo_gasto_site': 68.37, 'idade': 35, 'renda_area': 73889.99, 'tempo_gasto_internet': 225.58, 'cidade': 'South Manuel', 'pais': 'Iceland', 'clicou_no_ad': 0},\n",
        "  {'tempo_gasto_site': 88.91, 'idade': 33, 'renda_area': 53852.85, 'tempo_gasto_internet': 208.36, 'cidade': 'Brandonstad', 'pais': 'Myanmar', 'clicou_no_ad': 0},\n",
        "  {'tempo_gasto_site': None, 'idade': 48, 'renda_area': 24593.33, 'tempo_gasto_internet': 131.76, 'cidade': 'Port Jefferybury', 'pais': 'Australia', 'clicou_no_ad': 1},\n",
        "  {'tempo_gasto_site': 74.53, 'idade': 30, 'renda_area': 68862.00, 'tempo_gasto_internet': 221.51, 'cidade': 'West Colin', 'pais': 'Grenada'},\n",
        "  {'tempo_gasto_site': 69.88, 'idade': 20, 'renda_area': 55642.32, 'tempo_gasto_internet': 183.82, 'cidade': 'Ramirezton', 'pais': 'Ghana', 'clicou_no_ad': 0}\n",
        "]\n",
        "print(propaganda_online)"
      ],
      "metadata": {
        "colab": {
          "base_uri": "https://localhost:8080/",
          "height": 0
        },
        "id": "M3QUco0_NNZ7",
        "outputId": "39f0b51a-9b84-42a1-a5f0-388443dad300"
      },
      "execution_count": 1,
      "outputs": [
        {
          "output_type": "stream",
          "name": "stdout",
          "text": [
            "[{'tempo_gasto_site': 68.95, 'idade': 35, 'renda_area': 61833.9, 'tempo_gasto_internet': 256.09, 'cidade': 'Wrightburgh', 'pais': 'Tunisia', 'clicou_no_ad': 0}, {'tempo_gasto_site': 80.23, 'idade': 31, 'renda_area': 68441.85, 'tempo_gasto_internet': 193.77, 'cidade': 'West Jodi', 'pais': 'Nauru', 'clicou_no_ad': 0}, {'tempo_gasto_site': 69.47, 'idade': 26, 'renda_area': 59785.94, 'tempo_gasto_internet': 236.5, 'cidade': 'Davidton', 'pais': 'San Marino', 'clicou_no_ad': 0}, {'tempo_gasto_site': 68.37, 'idade': 35, 'renda_area': 73889.99, 'tempo_gasto_internet': 225.58, 'cidade': 'South Manuel', 'pais': 'Iceland', 'clicou_no_ad': 0}, {'tempo_gasto_site': 88.91, 'idade': 33, 'renda_area': 53852.85, 'tempo_gasto_internet': 208.36, 'cidade': 'Brandonstad', 'pais': 'Myanmar', 'clicou_no_ad': 0}, {'tempo_gasto_site': None, 'idade': 48, 'renda_area': 24593.33, 'tempo_gasto_internet': 131.76, 'cidade': 'Port Jefferybury', 'pais': 'Australia', 'clicou_no_ad': 1}, {'tempo_gasto_site': 74.53, 'idade': 30, 'renda_area': 68862.0, 'tempo_gasto_internet': 221.51, 'cidade': 'West Colin', 'pais': 'Grenada'}, {'tempo_gasto_site': 69.88, 'idade': 20, 'renda_area': 55642.32, 'tempo_gasto_internet': 183.82, 'cidade': 'Ramirezton', 'pais': 'Ghana', 'clicou_no_ad': 0}]\n"
          ]
        }
      ]
    },
    {
      "cell_type": "code",
      "source": [
        "propaganda_online"
      ],
      "metadata": {
        "colab": {
          "base_uri": "https://localhost:8080/",
          "height": 0
        },
        "id": "9IXJb6smNSV2",
        "outputId": "a4989153-7fed-4b94-f6d6-bc7481a9a708"
      },
      "execution_count": 2,
      "outputs": [
        {
          "output_type": "execute_result",
          "data": {
            "text/plain": [
              "[{'tempo_gasto_site': 68.95,\n",
              "  'idade': 35,\n",
              "  'renda_area': 61833.9,\n",
              "  'tempo_gasto_internet': 256.09,\n",
              "  'cidade': 'Wrightburgh',\n",
              "  'pais': 'Tunisia',\n",
              "  'clicou_no_ad': 0},\n",
              " {'tempo_gasto_site': 80.23,\n",
              "  'idade': 31,\n",
              "  'renda_area': 68441.85,\n",
              "  'tempo_gasto_internet': 193.77,\n",
              "  'cidade': 'West Jodi',\n",
              "  'pais': 'Nauru',\n",
              "  'clicou_no_ad': 0},\n",
              " {'tempo_gasto_site': 69.47,\n",
              "  'idade': 26,\n",
              "  'renda_area': 59785.94,\n",
              "  'tempo_gasto_internet': 236.5,\n",
              "  'cidade': 'Davidton',\n",
              "  'pais': 'San Marino',\n",
              "  'clicou_no_ad': 0},\n",
              " {'tempo_gasto_site': 68.37,\n",
              "  'idade': 35,\n",
              "  'renda_area': 73889.99,\n",
              "  'tempo_gasto_internet': 225.58,\n",
              "  'cidade': 'South Manuel',\n",
              "  'pais': 'Iceland',\n",
              "  'clicou_no_ad': 0},\n",
              " {'tempo_gasto_site': 88.91,\n",
              "  'idade': 33,\n",
              "  'renda_area': 53852.85,\n",
              "  'tempo_gasto_internet': 208.36,\n",
              "  'cidade': 'Brandonstad',\n",
              "  'pais': 'Myanmar',\n",
              "  'clicou_no_ad': 0},\n",
              " {'tempo_gasto_site': None,\n",
              "  'idade': 48,\n",
              "  'renda_area': 24593.33,\n",
              "  'tempo_gasto_internet': 131.76,\n",
              "  'cidade': 'Port Jefferybury',\n",
              "  'pais': 'Australia',\n",
              "  'clicou_no_ad': 1},\n",
              " {'tempo_gasto_site': 74.53,\n",
              "  'idade': 30,\n",
              "  'renda_area': 68862.0,\n",
              "  'tempo_gasto_internet': 221.51,\n",
              "  'cidade': 'West Colin',\n",
              "  'pais': 'Grenada'},\n",
              " {'tempo_gasto_site': 69.88,\n",
              "  'idade': 20,\n",
              "  'renda_area': 55642.32,\n",
              "  'tempo_gasto_internet': 183.82,\n",
              "  'cidade': 'Ramirezton',\n",
              "  'pais': 'Ghana',\n",
              "  'clicou_no_ad': 0}]"
            ]
          },
          "metadata": {},
          "execution_count": 2
        }
      ]
    },
    {
      "cell_type": "markdown",
      "source": [
        "## Para iterar pelos elementos da lista, use o código abaixo."
      ],
      "metadata": {
        "id": "zMj7gL4xm049"
      }
    },
    {
      "cell_type": "code",
      "source": [
        "for dado_de_usuario in propaganda_online:\n",
        "  print(dado_de_usuario)"
      ],
      "metadata": {
        "colab": {
          "base_uri": "https://localhost:8080/",
          "height": 0
        },
        "id": "rHpe2PLTm2rW",
        "outputId": "12ffb9c0-3c7a-4880-ae18-f5457626cbea"
      },
      "execution_count": 3,
      "outputs": [
        {
          "output_type": "stream",
          "name": "stdout",
          "text": [
            "{'tempo_gasto_site': 68.95, 'idade': 35, 'renda_area': 61833.9, 'tempo_gasto_internet': 256.09, 'cidade': 'Wrightburgh', 'pais': 'Tunisia', 'clicou_no_ad': 0}\n",
            "{'tempo_gasto_site': 80.23, 'idade': 31, 'renda_area': 68441.85, 'tempo_gasto_internet': 193.77, 'cidade': 'West Jodi', 'pais': 'Nauru', 'clicou_no_ad': 0}\n",
            "{'tempo_gasto_site': 69.47, 'idade': 26, 'renda_area': 59785.94, 'tempo_gasto_internet': 236.5, 'cidade': 'Davidton', 'pais': 'San Marino', 'clicou_no_ad': 0}\n",
            "{'tempo_gasto_site': 68.37, 'idade': 35, 'renda_area': 73889.99, 'tempo_gasto_internet': 225.58, 'cidade': 'South Manuel', 'pais': 'Iceland', 'clicou_no_ad': 0}\n",
            "{'tempo_gasto_site': 88.91, 'idade': 33, 'renda_area': 53852.85, 'tempo_gasto_internet': 208.36, 'cidade': 'Brandonstad', 'pais': 'Myanmar', 'clicou_no_ad': 0}\n",
            "{'tempo_gasto_site': None, 'idade': 48, 'renda_area': 24593.33, 'tempo_gasto_internet': 131.76, 'cidade': 'Port Jefferybury', 'pais': 'Australia', 'clicou_no_ad': 1}\n",
            "{'tempo_gasto_site': 74.53, 'idade': 30, 'renda_area': 68862.0, 'tempo_gasto_internet': 221.51, 'cidade': 'West Colin', 'pais': 'Grenada'}\n",
            "{'tempo_gasto_site': 69.88, 'idade': 20, 'renda_area': 55642.32, 'tempo_gasto_internet': 183.82, 'cidade': 'Ramirezton', 'pais': 'Ghana', 'clicou_no_ad': 0}\n"
          ]
        }
      ]
    },
    {
      "cell_type": "markdown",
      "source": [
        "## 1.1 Crie uma lista chamada paises com o paises dos usuários com mais de 30 anos."
      ],
      "metadata": {
        "id": "7-0dqMLmNaGC"
      }
    },
    {
      "cell_type": "code",
      "source": [
        "# Iterando com list compreention a lista com os dados de Propaganda e buscando os paises dos usuários com mias de 30 anos\n",
        "paises = [dado['pais'] for dado in propaganda_online if dado['idade'] > 30]\n",
        "paises"
      ],
      "metadata": {
        "colab": {
          "base_uri": "https://localhost:8080/",
          "height": 0
        },
        "id": "Qbd142a4l1XR",
        "outputId": "46568eab-cec8-4a67-b238-cda3088f3c24"
      },
      "execution_count": 4,
      "outputs": [
        {
          "output_type": "execute_result",
          "data": {
            "text/plain": [
              "['Tunisia', 'Nauru', 'Iceland', 'Myanmar', 'Australia']"
            ]
          },
          "metadata": {},
          "execution_count": 4
        }
      ]
    },
    {
      "cell_type": "markdown",
      "source": [
        "## 1.2. Crie uma lista chamada leads com a renda dos usuários que clicaram na propaganda."
      ],
      "metadata": {
        "id": "WBt42qIn7rjg"
      }
    },
    {
      "cell_type": "code",
      "source": [
        "'''\n",
        "  Iterando a lista com os dados de Propaganda e buscando a renda dos usuários que clicaram na propaganda\n",
        "  Tratando um erro de chave para verificar se todas as instâncias possuem a informação referente ao click\n",
        "'''\n",
        "leads = []\n",
        "for index in range(len(propaganda_online)):\n",
        "  dado = propaganda_online[index]\n",
        "  try:\n",
        "    if dado['clicou_no_ad'] == 1:\n",
        "      leads.append(dado['renda_area'])\n",
        "  except KeyError:\n",
        "    print(f\"A variável clicou_no_ad não está presente no index {index} do dicionário da lista que contêm os dados\")\n",
        "\n",
        "\n",
        "print(leads)"
      ],
      "metadata": {
        "colab": {
          "base_uri": "https://localhost:8080/",
          "height": 0
        },
        "id": "0QgDd6ZJYUeM",
        "outputId": "fcf720ef-07cc-4c67-b44a-ba0c9879c411"
      },
      "execution_count": 5,
      "outputs": [
        {
          "output_type": "stream",
          "name": "stdout",
          "text": [
            "A variável clicou_no_ad não está presente no index 6 do dicionário da lista que contêm os dados\n",
            "[24593.33]\n"
          ]
        }
      ]
    },
    {
      "cell_type": "markdown",
      "source": [
        "## 1.3. Crie uma lista chamada cidades com a cidade dos usuários que passaram mais de 70 segundos no site."
      ],
      "metadata": {
        "id": "NKV_zu_l9ztN"
      }
    },
    {
      "cell_type": "code",
      "source": [
        "'''\n",
        "  Iterando a lista com os dados de Propaganda e buscando a cidade dos usuários que gastaram mais de 70 minutos no site\n",
        "  Tratando um erro de classe (TypeError) para verificar se todos as instâncias possuem valores adequados para a condicional.\n",
        "'''\n",
        "cidades = []\n",
        "for index in range(len(propaganda_online)):\n",
        "  dado = propaganda_online[index]\n",
        "  try:\n",
        "    if dado['tempo_gasto_site'] > 70:\n",
        "      cidades.append(dado['cidade'])\n",
        "  except TypeError:\n",
        "    print(f\"A variável tempo_gasto_site não foi corretamente preenchida no index {index} da lista que contêm os dados\")\n",
        "\n",
        "\n",
        "print(cidades)"
      ],
      "metadata": {
        "colab": {
          "base_uri": "https://localhost:8080/",
          "height": 0
        },
        "id": "yMSNRGgp9y8U",
        "outputId": "9d8c3501-4500-420f-b24e-db86ae2a3aa5"
      },
      "execution_count": 6,
      "outputs": [
        {
          "output_type": "stream",
          "name": "stdout",
          "text": [
            "A variável tempo_gasto_site não foi corretamente preenchida no index 5 da lista que contêm os dados\n",
            "['West Jodi', 'Brandonstad', 'West Colin']\n"
          ]
        }
      ]
    },
    {
      "cell_type": "markdown",
      "source": [
        "\n",
        "\n",
        "---\n",
        "\n"
      ],
      "metadata": {
        "id": "WA4ZFjXeHdfE"
      }
    }
  ]
}