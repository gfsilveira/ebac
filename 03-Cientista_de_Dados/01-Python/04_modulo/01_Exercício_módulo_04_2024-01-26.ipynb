{
  "nbformat": 4,
  "nbformat_minor": 0,
  "metadata": {
    "colab": {
      "provenance": []
    },
    "kernelspec": {
      "name": "python3",
      "display_name": "Python 3"
    },
    "language_info": {
      "name": "python"
    }
  },
  "cells": [
    {
      "cell_type": "markdown",
      "source": [
        "**Cientista de Dados EBAC** -> Exercício Módulo 4"
      ],
      "metadata": {
        "id": "rhT3WHd-MrBD"
      }
    },
    {
      "cell_type": "markdown",
      "source": [
        "# 0. Preparação do ambiente"
      ],
      "metadata": {
        "id": "YQbHiGA9M8Lz"
      }
    },
    {
      "cell_type": "markdown",
      "source": [
        "## *carros.csv*"
      ],
      "metadata": {
        "id": "5gDev2ynJ2aR"
      }
    },
    {
      "cell_type": "code",
      "source": [
        "%%writefile carros.csv\n",
        "id,valor_venda,valor_manutencao,portas,pessoas,porta_malas\n",
        "1,vhigh,med,2,2,small\n",
        "2,med,vhigh,2,2,small\n",
        "3,low,vhigh,2,2,small\n",
        "4,low,high,2,2,small\n",
        "5,low,high,2,2,small\n",
        "6,low,high,4,4,big\n",
        "7,low,high,4,4,big\n",
        "8,low,med,2,2,small\n",
        "9,low,med,2,2,small\n",
        "10,low,med,2,2,small\n",
        "11,low,med,4,4,big\n",
        "12,low,low,2,2,small\n",
        "13,low,low,4,4,small\n",
        "14,low,low,4,4,med"
      ],
      "metadata": {
        "colab": {
          "base_uri": "https://localhost:8080/"
        },
        "id": "M3QUco0_NNZ7",
        "outputId": "f6ad110a-f2e7-4799-b11d-f8147ea0d07d"
      },
      "execution_count": 1,
      "outputs": [
        {
          "output_type": "stream",
          "name": "stdout",
          "text": [
            "Writing carros.csv\n"
          ]
        }
      ]
    },
    {
      "cell_type": "markdown",
      "source": [
        "## *musica.txt*"
      ],
      "metadata": {
        "id": "nGxhqEyqpzMJ"
      }
    },
    {
      "cell_type": "code",
      "source": [
        "%%writefile musica.txt\n",
        "Roda Viva\n",
        "Chico Buarque\n",
        "\n",
        "Tem dias que a gente se sente\n",
        "Como quem partiu ou morreu\n",
        "A gente estancou de repente\n",
        "Ou foi o mundo então que cresceu\n",
        "A gente quer ter voz ativa\n",
        "No nosso destino mandar\n",
        "Mas eis que chega a roda viva\n",
        "E carrega o destino pra lá\n",
        "\n",
        "Roda mundo, roda-gigante\n",
        "Roda moinho, roda pião\n",
        "\n",
        "O tempo rodou num instante\n",
        "Nas voltas do meu coração\n",
        "A gente vai contra a corrente\n",
        "Até não poder resistir\n",
        "Na volta do barco é que sente\n",
        "O quanto deixou de cumprir\n",
        "Faz tempo que a gente cultiva\n",
        "A mais linda roseira que há\n",
        "Mas eis que chega a roda viva\n",
        "E carrega a roseira pra lá\n",
        "\n",
        "Roda mundo, roda-gigante\n",
        "Roda moinho, roda pião"
      ],
      "metadata": {
        "colab": {
          "base_uri": "https://localhost:8080/"
        },
        "id": "9IXJb6smNSV2",
        "outputId": "a1304211-c570-487c-a947-8fa2a9b316cf"
      },
      "execution_count": 2,
      "outputs": [
        {
          "output_type": "stream",
          "name": "stdout",
          "text": [
            "Writing musica.txt\n"
          ]
        }
      ]
    },
    {
      "cell_type": "markdown",
      "source": [
        "\n",
        "\n",
        "---\n",
        "\n"
      ],
      "metadata": {
        "id": "jyPzf4Rhp70D"
      }
    },
    {
      "cell_type": "markdown",
      "source": [
        "# 1. Extração de coluna de arquivo csv"
      ],
      "metadata": {
        "id": "zMj7gL4xm049"
      }
    },
    {
      "cell_type": "markdown",
      "source": [
        "## 1.1 Extraia os valore valor_venda e armazene em uma lista"
      ],
      "metadata": {
        "id": "o1waJ6G3qK5J"
      }
    },
    {
      "cell_type": "code",
      "source": [
        "'''\n",
        "  Recebendo arquivo carros.csv, lendo o cabeçalho e as linhas, quebrando as\n",
        "  linhas na vígula (\",\"), armazenando o valor_venda na lista valores_venda.\n",
        "  Recupera a lista.\n",
        "'''\n",
        "\n",
        "valores_venda = []\n",
        "with open(file=\"carros.csv\", mode=\"r\", encoding=\"utf8\") as file:\n",
        "  line = file.readline()\n",
        "  line = file.readline()\n",
        "  while line:\n",
        "    valores = line.split(\",\")\n",
        "    valor_venda = valores[1]\n",
        "    valores_venda.append(valor_venda)\n",
        "    line = file.readline()\n",
        "valores_venda"
      ],
      "metadata": {
        "colab": {
          "base_uri": "https://localhost:8080/"
        },
        "id": "rHpe2PLTm2rW",
        "outputId": "bc1912a2-654a-495c-c97a-2af4d0898ec6"
      },
      "execution_count": 3,
      "outputs": [
        {
          "output_type": "execute_result",
          "data": {
            "text/plain": [
              "['vhigh',\n",
              " 'med',\n",
              " 'low',\n",
              " 'low',\n",
              " 'low',\n",
              " 'low',\n",
              " 'low',\n",
              " 'low',\n",
              " 'low',\n",
              " 'low',\n",
              " 'low',\n",
              " 'low',\n",
              " 'low',\n",
              " 'low']"
            ]
          },
          "metadata": {},
          "execution_count": 3
        }
      ]
    },
    {
      "cell_type": "markdown",
      "source": [
        "## 1.2 Complete a função abaixo para extrair uma coluna, do arquivo csv em uma lista"
      ],
      "metadata": {
        "id": "7-0dqMLmNaGC"
      }
    },
    {
      "cell_type": "code",
      "source": [
        "def extrai_coluna_csv(nome_arquivo: str, indica_coluna: str) -> list:\n",
        "  \"\"\"\n",
        "    Função que recebe o caminho de uma rquivo e retorna uma lista com os\n",
        "    valores de uma das colunas. A função retorna uma lista vazia, caso não\n",
        "    encontre algumas das informações.\n",
        "\n",
        "      :param nome_arquivo (str): Caminho do arquivo que se desja obter a coluna.\n",
        "      :param indica_coluna (str): Nome da coluna à ser obtida.\n",
        "      :return coluna (list): Caso o arquivo e a coluna sejam encontrados,\n",
        "                              retorna os valores.\n",
        "  \"\"\"\n",
        "\n",
        "  # Verifica e abre o arquivo\n",
        "  try:\n",
        "    coluna = []\n",
        "    with open(file=nome_arquivo, mode=\"r\", encoding=\"utf8\") as file:\n",
        "      line = file.readline()\n",
        "      head = line.split(\",\")\n",
        "      column_verify = False\n",
        "      for column in range(len(head)):\n",
        "        column_name = head[column].replace(\"\\n\",\"\")\n",
        "        if indica_coluna == column_name:\n",
        "          column_verify = True\n",
        "          break\n",
        "\n",
        "      # Verifica se o nome da coluna existe no arquivo\n",
        "      if not column_verify:\n",
        "        print(\"Coluna indicada não está presente no arquivo!\\n\")\n",
        "        print(f\"Colunas disponíveis:\\n{head}\")\n",
        "        return coluna\n",
        "      else:\n",
        "        line = file.readline()\n",
        "        while line:\n",
        "          line = line.replace(\"\\n\",\"\")\n",
        "          valores = line.split(\",\")\n",
        "          valor = valores[column]\n",
        "          coluna.append(valor)\n",
        "          line = file.readline()\n",
        "\n",
        "        return coluna\n",
        "  except FileNotFoundError as file_error:\n",
        "    print(\"Arquivo não encontrado!\")\n",
        "    return coluna\n",
        "  except Exception as error:\n",
        "    print(type(error))\n",
        "    return coluna"
      ],
      "metadata": {
        "id": "Qbd142a4l1XR"
      },
      "execution_count": 4,
      "outputs": []
    },
    {
      "cell_type": "code",
      "source": [
        "print(extrai_coluna_csv.__doc__)"
      ],
      "metadata": {
        "colab": {
          "base_uri": "https://localhost:8080/"
        },
        "id": "gl_hZxD16ocL",
        "outputId": "4450eef1-6267-4500-c494-d8aceafa842c"
      },
      "execution_count": 5,
      "outputs": [
        {
          "output_type": "stream",
          "name": "stdout",
          "text": [
            " \n",
            "    Função que recebe o caminho de uma rquivo e retorna uma lista com os \n",
            "    valores de uma das colunas. A função retorna uma lista vazia, caso não\n",
            "    encontre algumas das informações.\n",
            "\n",
            "      :param nome_arquivo (str): Caminho do arquivo que se desja obter a coluna.\n",
            "      :param indica_coluna (str): Nome da coluna à ser obtida.\n",
            "      :return coluna (list): Caso o arquivo e a coluna sejam encontrados, \n",
            "                              retorna os valores. \n",
            "  \n"
          ]
        }
      ]
    },
    {
      "cell_type": "code",
      "source": [
        "# Testando erro no caminho do arquivo.\n",
        "\n",
        "coluna_valor_manutencao = extrai_coluna_csv(\n",
        "                                          nome_arquivo=\"carrs.csv\",\n",
        "                                          indica_coluna=\"porta_mal\"\n",
        "                                        )\n",
        "coluna_valor_manutencao"
      ],
      "metadata": {
        "colab": {
          "base_uri": "https://localhost:8080/"
        },
        "id": "XCUkYMWetEgT",
        "outputId": "76c21ac1-c88d-410c-a215-87ea0ea59932"
      },
      "execution_count": 6,
      "outputs": [
        {
          "output_type": "stream",
          "name": "stdout",
          "text": [
            "Arquivo não encontrado!\n"
          ]
        },
        {
          "output_type": "execute_result",
          "data": {
            "text/plain": [
              "[]"
            ]
          },
          "metadata": {},
          "execution_count": 6
        }
      ]
    },
    {
      "cell_type": "code",
      "source": [
        "# Teste de erro no nome da coluna\n",
        "\n",
        "coluna_valor_manutencao = extrai_coluna_csv(\n",
        "                                          nome_arquivo=\"carros.csv\",\n",
        "                                          indica_coluna=\"coluna_errada\"\n",
        "                                        )\n",
        "coluna_valor_manutencao"
      ],
      "metadata": {
        "colab": {
          "base_uri": "https://localhost:8080/"
        },
        "id": "S9tTbIWJ7b5R",
        "outputId": "bc065771-47cf-4b60-af08-a81f7d74282a"
      },
      "execution_count": 7,
      "outputs": [
        {
          "output_type": "stream",
          "name": "stdout",
          "text": [
            "Coluna indicada não está presente no arquivo!\n",
            "\n",
            "Colunas disponíveis:\n",
            "['id', 'valor_venda', 'valor_manutencao', 'portas', 'pessoas', 'porta_malas\\n']\n"
          ]
        },
        {
          "output_type": "execute_result",
          "data": {
            "text/plain": [
              "[]"
            ]
          },
          "metadata": {},
          "execution_count": 7
        }
      ]
    },
    {
      "cell_type": "code",
      "source": [
        "# Extrair a coluna valor_manutencao\n",
        "\n",
        "coluna_valor_manutencao = extrai_coluna_csv(\n",
        "                                          nome_arquivo=\"carros.csv\",\n",
        "                                          indica_coluna=\"valor_manutencao\"\n",
        "                                        )\n",
        "coluna_valor_manutencao"
      ],
      "metadata": {
        "colab": {
          "base_uri": "https://localhost:8080/"
        },
        "id": "1RmVUA_W7pJJ",
        "outputId": "765700b4-6499-42ee-c1b1-07e03deeeb8a"
      },
      "execution_count": 8,
      "outputs": [
        {
          "output_type": "execute_result",
          "data": {
            "text/plain": [
              "['med',\n",
              " 'vhigh',\n",
              " 'vhigh',\n",
              " 'high',\n",
              " 'high',\n",
              " 'high',\n",
              " 'high',\n",
              " 'med',\n",
              " 'med',\n",
              " 'med',\n",
              " 'med',\n",
              " 'low',\n",
              " 'low',\n",
              " 'low']"
            ]
          },
          "metadata": {},
          "execution_count": 8
        }
      ]
    },
    {
      "cell_type": "code",
      "source": [
        "# Extrair a coluna porta_malas\n",
        "\n",
        "coluna_porta_malas = extrai_coluna_csv(\n",
        "                                          nome_arquivo=\"carros.csv\",\n",
        "                                          indica_coluna=\"porta_malas\"\n",
        "                                        )\n",
        "coluna_porta_malas"
      ],
      "metadata": {
        "colab": {
          "base_uri": "https://localhost:8080/"
        },
        "id": "2haDxZJI7yKy",
        "outputId": "b82d9c51-f79a-42b2-be06-9fb1aedd82b6"
      },
      "execution_count": 9,
      "outputs": [
        {
          "output_type": "execute_result",
          "data": {
            "text/plain": [
              "['small',\n",
              " 'small',\n",
              " 'small',\n",
              " 'small',\n",
              " 'small',\n",
              " 'big',\n",
              " 'big',\n",
              " 'small',\n",
              " 'small',\n",
              " 'small',\n",
              " 'big',\n",
              " 'small',\n",
              " 'small',\n",
              " 'med']"
            ]
          },
          "metadata": {},
          "execution_count": 9
        }
      ]
    },
    {
      "cell_type": "markdown",
      "source": [
        "## 1.2.1 Os elementos devem ter o tipo de dado correto."
      ],
      "metadata": {
        "id": "WBt42qIn7rjg"
      }
    },
    {
      "cell_type": "code",
      "source": [
        "def extrai_coluna_csv(nome_arquivo: str, indica_coluna: str) -> list:\n",
        "  \"\"\"\n",
        "    Função que recebe o caminho de uma rquivo e retorna uma lista com os\n",
        "    valores de uma das colunas. Os parâmetros devem ter o tipo de dado correto.\n",
        "    A função retorna uma lista vazia, caso não encontre algumas das informações.\n",
        "\n",
        "      :param nome_arquivo (str): Caminho do arquivo que se desja obter a coluna.\n",
        "      :param indica_coluna (str): Nome da coluna à ser obtida.\n",
        "      :return coluna (list): Caso o arquivo e a coluna sejam encontrados,\n",
        "                              retorna os valores.\n",
        "  \"\"\"\n",
        "  # Instância a lista coluna para retorno\n",
        "  coluna = []\n",
        "\n",
        "  # Verifica se os parâmetros são dos tipos corretos\n",
        "  if type(nome_arquivo) != str:\n",
        "    print(\"O parâmetro nome_arquivo deve ser do tipo string!\")\n",
        "    return coluna\n",
        "  elif type(indica_coluna) != str:\n",
        "    print(\"O parâmetro indica_coluna deve ser do tipo string!\")\n",
        "    return coluna\n",
        "  else:\n",
        "    try:\n",
        "\n",
        "      # Verifica e abre o arquivo\n",
        "      with open(file=nome_arquivo, mode=\"r\", encoding=\"utf8\") as file:\n",
        "        line = file.readline()\n",
        "        head = line.split(\",\")\n",
        "        column_verify = False\n",
        "        for column in range(len(head)):\n",
        "          column_name = head[column].replace(\"\\n\",\"\")\n",
        "          if indica_coluna == column_name:\n",
        "            column_verify = True\n",
        "            break\n",
        "\n",
        "    # Verifica se o nome da coluna existe no arquivo e gera a lista de retorno\n",
        "        if not column_verify:\n",
        "          print(\"Coluna indicada não está presente no arquivo!\\n\")\n",
        "          print(f\"Colunas disponíveis:\\n{head}\")\n",
        "          return coluna\n",
        "        else:\n",
        "          line = file.readline()\n",
        "          while line:\n",
        "            line = line.replace(\"\\n\",\"\")\n",
        "            valores = line.split(\",\")\n",
        "            valor = valores[column]\n",
        "            coluna.append(valor)\n",
        "            line = file.readline()\n",
        "\n",
        "          return coluna\n",
        "    except FileNotFoundError as file_error:\n",
        "      print(\"Arquivo não encontrado!\")\n",
        "      return coluna\n",
        "    except Exception as error:\n",
        "      print(type(error))\n",
        "      return coluna"
      ],
      "metadata": {
        "id": "0QgDd6ZJYUeM"
      },
      "execution_count": 10,
      "outputs": []
    },
    {
      "cell_type": "code",
      "source": [
        "# Simulando erro de tipo Parâmetro\n",
        "\n",
        "coluna_valor_venda = extrai_coluna_csv(\n",
        "                                          nome_arquivo=1,\n",
        "                                          indica_coluna=\"valor_venda\"\n",
        "                                        )\n",
        "coluna_valor_venda"
      ],
      "metadata": {
        "colab": {
          "base_uri": "https://localhost:8080/"
        },
        "id": "7uVY3CLmF09V",
        "outputId": "e33ff5be-c228-4d9b-afe8-7144a0a52fae"
      },
      "execution_count": 11,
      "outputs": [
        {
          "output_type": "stream",
          "name": "stdout",
          "text": [
            "O parâmetro nome_arquivo deve ser do tipo string!\n"
          ]
        },
        {
          "output_type": "execute_result",
          "data": {
            "text/plain": [
              "[]"
            ]
          },
          "metadata": {},
          "execution_count": 11
        }
      ]
    },
    {
      "cell_type": "code",
      "source": [
        "# Simulando erro de Parâmetro\n",
        "\n",
        "coluna_valor_venda = extrai_coluna_csv(\n",
        "                                          nome_arquivo=\"carros.csv\",\n",
        "                                          indica_coluna=False\n",
        "                                        )\n",
        "coluna_valor_venda"
      ],
      "metadata": {
        "colab": {
          "base_uri": "https://localhost:8080/"
        },
        "id": "A7_5uAuMGAIx",
        "outputId": "cf12e24f-2fd7-4aa3-9d36-4866a690bb16"
      },
      "execution_count": 12,
      "outputs": [
        {
          "output_type": "stream",
          "name": "stdout",
          "text": [
            "O parâmetro indica_coluna deve ser do tipo string!\n"
          ]
        },
        {
          "output_type": "execute_result",
          "data": {
            "text/plain": [
              "[]"
            ]
          },
          "metadata": {},
          "execution_count": 12
        }
      ]
    },
    {
      "cell_type": "code",
      "source": [
        "# Extrair a coluna valor_venda\n",
        "\n",
        "coluna_valor_venda = extrai_coluna_csv(\n",
        "                                          nome_arquivo=\"carros.csv\",\n",
        "                                          indica_coluna=\"valor_venda\"\n",
        "                                        )\n",
        "coluna_valor_venda"
      ],
      "metadata": {
        "colab": {
          "base_uri": "https://localhost:8080/"
        },
        "id": "wPMbUhZtFpjf",
        "outputId": "5577e632-6fbe-4e03-f5eb-bb08c808eefd"
      },
      "execution_count": 13,
      "outputs": [
        {
          "output_type": "execute_result",
          "data": {
            "text/plain": [
              "['vhigh',\n",
              " 'med',\n",
              " 'low',\n",
              " 'low',\n",
              " 'low',\n",
              " 'low',\n",
              " 'low',\n",
              " 'low',\n",
              " 'low',\n",
              " 'low',\n",
              " 'low',\n",
              " 'low',\n",
              " 'low',\n",
              " 'low']"
            ]
          },
          "metadata": {},
          "execution_count": 13
        }
      ]
    },
    {
      "cell_type": "code",
      "source": [
        "# Extrair a coluna pessoas\n",
        "\n",
        "coluna_pessoas = extrai_coluna_csv(\n",
        "                                          nome_arquivo=\"carros.csv\",\n",
        "                                          indica_coluna=\"pessoas\"\n",
        "                                        )\n",
        "coluna_pessoas"
      ],
      "metadata": {
        "colab": {
          "base_uri": "https://localhost:8080/"
        },
        "id": "v2jmE2Q_GzS6",
        "outputId": "9a0650eb-fff0-463c-d25f-e50df84c9326"
      },
      "execution_count": 14,
      "outputs": [
        {
          "output_type": "execute_result",
          "data": {
            "text/plain": [
              "['2', '2', '2', '2', '2', '4', '4', '2', '2', '2', '4', '2', '4', '4']"
            ]
          },
          "metadata": {},
          "execution_count": 14
        }
      ]
    },
    {
      "cell_type": "markdown",
      "source": [
        "\n",
        "\n",
        "---\n",
        "\n"
      ],
      "metadata": {
        "id": "CD3maeVqIE8B"
      }
    },
    {
      "cell_type": "markdown",
      "source": [
        "# 2. Funções para arquivo txt"
      ],
      "metadata": {
        "id": "VNve5ejUIMJW"
      }
    },
    {
      "cell_type": "markdown",
      "source": [
        "## 2.1 Complete a função abaixo para extrair uma a uma as palavras de uma linha do arquivo txt em uma lista."
      ],
      "metadata": {
        "id": "PDDSknoAIRhz"
      }
    },
    {
      "cell_type": "code",
      "source": [
        "def extrai_linha_txt(nome_arquivo: str, numero_linha: int) -> list:\n",
        "  \"\"\"\n",
        "    Função para a recuperação das palavras contidas em uma das linhas de um\n",
        "    arquivo txt.\n",
        "\n",
        "    :param nome_arquivo (str): O caminho do arquivo à ser extraído.\n",
        "    :param numero_linha (int): Número da linha do arquivo para extrair.\n",
        "    :return lista_palavras (list): Lista contendo todas as palavras da linha\n",
        "                                    extraída.\n",
        "  \"\"\"\n",
        "  lista_palavras = []\n",
        "  palavras_linha = []\n",
        "  try:\n",
        "    with open(file=nome_arquivo, mode=\"r\", encoding=\"utf8\") as file:\n",
        "      line = file.readline()\n",
        "      while line:\n",
        "        palavras_linha.append(line)\n",
        "        line = file.readline()\n",
        "    linha = palavras_linha[numero_linha-1]\n",
        "    linha = linha.replace(\"\\n\", \"\")\n",
        "    lista_palavras = linha.split(\" \")\n",
        "  except Exception as error:\n",
        "    print(error)\n",
        "    return lista_palavras\n",
        "  return lista_palavras"
      ],
      "metadata": {
        "id": "Vlulz55ZIg7F"
      },
      "execution_count": 50,
      "outputs": []
    },
    {
      "cell_type": "code",
      "source": [
        "print(extrai_linha_txt.__doc__)"
      ],
      "metadata": {
        "colab": {
          "base_uri": "https://localhost:8080/"
        },
        "id": "22YXrAXV0P3l",
        "outputId": "0c555cfd-f160-4658-e75b-4177005f00da"
      },
      "execution_count": 51,
      "outputs": [
        {
          "output_type": "stream",
          "name": "stdout",
          "text": [
            "\n",
            "    Função para a recuperação das palavras contidas em uma das linhas de um \n",
            "    arquivo txt.\n",
            "\n",
            "    :param nome_arquivo (str): O caminho do arquivo à ser extraído.\n",
            "    :param numero_linha (int): Número da linha do arquivo para extrair.\n",
            "    :return lista_palavras (list): Lista contendo todas as palavras da linha\n",
            "                                    extraída.\n",
            "  \n"
          ]
        }
      ]
    },
    {
      "cell_type": "code",
      "source": [
        "linha = extrai_linha_txt(\n",
        "                              nome_arquivo=\"musica.txt\",\n",
        "                              numero_linha=1_000\n",
        ")\n",
        "linha"
      ],
      "metadata": {
        "colab": {
          "base_uri": "https://localhost:8080/"
        },
        "id": "GknfDZlHI4rC",
        "outputId": "7f48bfe5-9611-46ca-d968-cbdcd424e3ec"
      },
      "execution_count": 52,
      "outputs": [
        {
          "output_type": "stream",
          "name": "stdout",
          "text": [
            "list index out of range\n"
          ]
        },
        {
          "output_type": "execute_result",
          "data": {
            "text/plain": [
              "[]"
            ]
          },
          "metadata": {},
          "execution_count": 52
        }
      ]
    },
    {
      "cell_type": "code",
      "source": [
        "linha = extrai_linha_txt(\n",
        "                              nome_arquivo=\"ica.txt\",\n",
        "                              numero_linha=10\n",
        ")\n",
        "linha"
      ],
      "metadata": {
        "colab": {
          "base_uri": "https://localhost:8080/"
        },
        "id": "ssbfMERh0WWm",
        "outputId": "f6354d72-8ca4-4c73-c8fa-eab70ef42e95"
      },
      "execution_count": 53,
      "outputs": [
        {
          "output_type": "stream",
          "name": "stdout",
          "text": [
            "[Errno 2] No such file or directory: 'ica.txt'\n"
          ]
        },
        {
          "output_type": "execute_result",
          "data": {
            "text/plain": [
              "[]"
            ]
          },
          "metadata": {},
          "execution_count": 53
        }
      ]
    },
    {
      "cell_type": "code",
      "source": [
        "linha = extrai_linha_txt(\n",
        "                              nome_arquivo=\"musica.txt\",\n",
        "                              numero_linha=10\n",
        ")\n",
        "linha"
      ],
      "metadata": {
        "colab": {
          "base_uri": "https://localhost:8080/"
        },
        "id": "0Qrgs2yZ0ZMD",
        "outputId": "7784349a-b564-4fb7-81cf-87addcb1024e"
      },
      "execution_count": 54,
      "outputs": [
        {
          "output_type": "execute_result",
          "data": {
            "text/plain": [
              "['Mas', 'eis', 'que', 'chega', 'a', 'roda', 'viva']"
            ]
          },
          "metadata": {},
          "execution_count": 54
        }
      ]
    },
    {
      "cell_type": "markdown",
      "source": [
        "\n",
        "\n",
        "---\n",
        "\n"
      ],
      "metadata": {
        "id": "WA4ZFjXeHdfE"
      }
    }
  ]
}