{
 "cells": [
  {
   "cell_type": "code",
   "execution_count": 3,
   "metadata": {},
   "outputs": [],
   "source": [
    "import os\n",
    "import PyPDF2"
   ]
  },
  {
   "cell_type": "code",
   "execution_count": 4,
   "metadata": {},
   "outputs": [
    {
     "data": {
      "text/plain": [
       "['./03-Cientista_de_Dados/02-Crisp_DM/01_modulo',\n",
       " './03-Cientista_de_Dados/02-Crisp_DM/02_modulo',\n",
       " './03-Cientista_de_Dados/02-Crisp_DM/03_modulo',\n",
       " './03-Cientista_de_Dados/02-Crisp_DM/04_modulo',\n",
       " './03-Cientista_de_Dados/02-Crisp_DM/05_modulo',\n",
       " './03-Cientista_de_Dados/02-Crisp_DM/06_modulo',\n",
       " './03-Cientista_de_Dados/02-Crisp_DM/07_modulo',\n",
       " './03-Cientista_de_Dados/02-Crisp_DM/08_modulo',\n",
       " './03-Cientista_de_Dados/02-Crisp_DM/09_modulo',\n",
       " './03-Cientista_de_Dados/02-Crisp_DM/10_modulo',\n",
       " './03-Cientista_de_Dados/02-Crisp_DM/11_modulo',\n",
       " './03-Cientista_de_Dados/02-Crisp_DM/12_modulo',\n",
       " './03-Cientista_de_Dados/02-Crisp_DM/13_modulo',\n",
       " './03-Cientista_de_Dados/02-Crisp_DM/14_modulo',\n",
       " './03-Cientista_de_Dados/02-Crisp_DM/15_modulo',\n",
       " './03-Cientista_de_Dados/02-Crisp_DM/16_modulo',\n",
       " './03-Cientista_de_Dados/02-Crisp_DM/17_modulo',\n",
       " './03-Cientista_de_Dados/02-Crisp_DM/18_modulo',\n",
       " './03-Cientista_de_Dados/02-Crisp_DM/19_modulo',\n",
       " './03-Cientista_de_Dados/02-Crisp_DM/20_modulo',\n",
       " './03-Cientista_de_Dados/02-Crisp_DM/21_modulo',\n",
       " './03-Cientista_de_Dados/02-Crisp_DM/22_modulo',\n",
       " './03-Cientista_de_Dados/02-Crisp_DM/23_modulo',\n",
       " './03-Cientista_de_Dados/02-Crisp_DM/24_modulo',\n",
       " './03-Cientista_de_Dados/02-Crisp_DM/25_modulo',\n",
       " './03-Cientista_de_Dados/02-Crisp_DM/26_modulo',\n",
       " './03-Cientista_de_Dados/02-Crisp_DM/27_modulo',\n",
       " './03-Cientista_de_Dados/02-Crisp_DM/28_modulo',\n",
       " './03-Cientista_de_Dados/02-Crisp_DM/29_modulo',\n",
       " './03-Cientista_de_Dados/02-Crisp_DM/30_modulo']"
      ]
     },
     "execution_count": 4,
     "metadata": {},
     "output_type": "execute_result"
    }
   ],
   "source": [
    "link = \"./03-Cientista_de_Dados/02-Crisp_DM/\"\n",
    "lista = [link+i for i in os.listdir(link) if \"_modulo\" in i]\n",
    "lista"
   ]
  },
  {
   "cell_type": "code",
   "execution_count": 5,
   "metadata": {},
   "outputs": [
    {
     "data": {
      "text/plain": [
       "['./03-Cientista_de_Dados/02-Crisp_DM/01_modulo/Profissao Cientista de Dados M1 Glossario.pdf',\n",
       " './03-Cientista_de_Dados/02-Crisp_DM/02_modulo/Profissao Cientista de Dados M2 Glossario.pdf',\n",
       " './03-Cientista_de_Dados/02-Crisp_DM/03_modulo/Profissao Cientista de Dados M3 Parte 1 Glossario.pdf',\n",
       " './03-Cientista_de_Dados/02-Crisp_DM/03_modulo/Profissao Cientista de Dados M3 Parte 2 Glossario.pdf',\n",
       " './03-Cientista_de_Dados/02-Crisp_DM/04_modulo/Profissao Cientista de Dados M4 Glossario.pdf',\n",
       " './03-Cientista_de_Dados/02-Crisp_DM/05_modulo/Profissao Cientista de Dados M5 Glossario.pdf',\n",
       " './03-Cientista_de_Dados/02-Crisp_DM/06_modulo/Profissao Cientista de Dados M6 Glossario.pdf',\n",
       " './03-Cientista_de_Dados/02-Crisp_DM/07_modulo/Profissao Cientista de Dados M7 Glossario.pdf',\n",
       " './03-Cientista_de_Dados/02-Crisp_DM/08_modulo/Profissao Cientista de Dados M8 Glossario.pdf',\n",
       " './03-Cientista_de_Dados/02-Crisp_DM/09_modulo/Profissao Cientista de Dados M9 Glossario.pdf',\n",
       " './03-Cientista_de_Dados/02-Crisp_DM/10_modulo/Profissao Cientista de Dados M10 Glossario.pdf',\n",
       " './03-Cientista_de_Dados/02-Crisp_DM/11_modulo/Profissao Cientista de Dados M11 Glossario.pdf',\n",
       " './03-Cientista_de_Dados/02-Crisp_DM/12_modulo/Profissao Cientista de Dados M12 Glossario.pdf',\n",
       " './03-Cientista_de_Dados/02-Crisp_DM/13_modulo/Profissao Cientista de Dados M13 Glossario.pdf',\n",
       " './03-Cientista_de_Dados/02-Crisp_DM/14_modulo/Profissao Cientista de Dados M14 Glossario.pdf',\n",
       " './03-Cientista_de_Dados/02-Crisp_DM/15_modulo/Profissao Cientista de Dados M15 Glossario.pdf',\n",
       " './03-Cientista_de_Dados/02-Crisp_DM/16_modulo/Profissao Cientista de Dados M16 Glossario.pdf',\n",
       " './03-Cientista_de_Dados/02-Crisp_DM/17_modulo/Profissao Cientista de Dados M17 Glossario.pdf',\n",
       " './03-Cientista_de_Dados/02-Crisp_DM/18_modulo/Profissao Cientista de Dados M18 Glossario.pdf',\n",
       " './03-Cientista_de_Dados/02-Crisp_DM/19_modulo/Profissao Cientista de Dados M19 Glossario.pdf',\n",
       " './03-Cientista_de_Dados/02-Crisp_DM/20_modulo/Profissao Cientista de Dados M20 Glossario.pdf',\n",
       " './03-Cientista_de_Dados/02-Crisp_DM/21_modulo/Profissao Cientista de Dados M21 Glossario.pdf',\n",
       " './03-Cientista_de_Dados/02-Crisp_DM/22_modulo/Profissao Cientista de Dados M22 Glossario.pdf',\n",
       " './03-Cientista_de_Dados/02-Crisp_DM/23_modulo/Profissao Cientista de Dados M23 Glossario.pdf',\n",
       " './03-Cientista_de_Dados/02-Crisp_DM/24_modulo/Profissao Cientista de Dados M24 Glossario.pdf',\n",
       " './03-Cientista_de_Dados/02-Crisp_DM/25_modulo/Profissao Cientista de Dados M25 Glossario.pdf',\n",
       " './03-Cientista_de_Dados/02-Crisp_DM/26_modulo/Profissao Cientista de Dados M26 Glossario.pdf',\n",
       " './03-Cientista_de_Dados/02-Crisp_DM/27_modulo/Profissao Cientista de Dados M27 Glossario.pdf',\n",
       " './03-Cientista_de_Dados/02-Crisp_DM/28_modulo/Profissao Cientista de Dados M28 Glossario.pdf',\n",
       " './03-Cientista_de_Dados/02-Crisp_DM/29_modulo/Profissao Cientista de Dados M29 Glossario.pdf']"
      ]
     },
     "execution_count": 5,
     "metadata": {},
     "output_type": "execute_result"
    }
   ],
   "source": [
    "lista_pdfs = [f\"{i}/{j}\" for i in lista for j in os.listdir(i) if \"Glossario\" in j]\n",
    "lista_pdfs"
   ]
  },
  {
   "cell_type": "code",
   "execution_count": 51,
   "metadata": {},
   "outputs": [],
   "source": [
    "def extrator_texto(link_file: str, quebra: tuple) -> list:\n",
    "    remove = \"Dica: para encontrar  rapidamente a palavra que  procura aperte o comando  CTRL+F e digite o termo que  deseja achar. \"\n",
    "    reader = PyPDF2.PdfReader(link_file)\n",
    "    texto_lista = (\n",
    "                    reader\n",
    "                    .pages[2]\n",
    "                    .extract_text()\n",
    "                    .replace(\"\\n\", \" \")\n",
    "                    .replace(remove, \"\")\n",
    "                    .replace(\"3\", \"\")\n",
    "                    .strip()\n",
    "                    .split(\"  \")\n",
    "    )\n",
    "\n",
    "    # texto_lista = [texto_lista[i[0]: i[1]].strip() for i in quebra]\n",
    "    return texto_lista"
   ]
  },
  {
   "cell_type": "code",
   "execution_count": 87,
   "metadata": {},
   "outputs": [
    {
     "data": {
      "text/plain": [
       "['K-means',\n",
       " 'Compreenda a Distância',\n",
       " 'Entenda Como Funciona o',\n",
       " 'Algoritmo',\n",
       " 'Determine o Número de Clusters']"
      ]
     },
     "execution_count": 87,
     "metadata": {},
     "output_type": "execute_result"
    }
   ],
   "source": [
    "quebra = (\n",
    "    [0, -1],\n",
    ")\n",
    "c = 29\n",
    "extrator_texto(lista_pdfs[c], quebra=quebra)"
   ]
  },
  {
   "cell_type": "code",
   "execution_count": null,
   "metadata": {},
   "outputs": [],
   "source": []
  }
 ],
 "metadata": {
  "kernelspec": {
   "display_name": "ebac_env",
   "language": "python",
   "name": "python3"
  },
  "language_info": {
   "codemirror_mode": {
    "name": "ipython",
    "version": 3
   },
   "file_extension": ".py",
   "mimetype": "text/x-python",
   "name": "python",
   "nbconvert_exporter": "python",
   "pygments_lexer": "ipython3",
   "version": "3.10.11"
  }
 },
 "nbformat": 4,
 "nbformat_minor": 2
}
